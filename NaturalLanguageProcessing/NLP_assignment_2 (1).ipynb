{
  "nbformat": 4,
  "nbformat_minor": 0,
  "metadata": {
    "colab": {
      "provenance": []
    },
    "kernelspec": {
      "name": "python3",
      "display_name": "Python 3"
    },
    "language_info": {
      "name": "python"
    }
  },
  "cells": [
    {
      "cell_type": "markdown",
      "source": [
        "#Name - Bhim Sen\n",
        "#Student Id - 500218444\n"
      ],
      "metadata": {
        "id": "PFpwRNITRfFs"
      }
    },
    {
      "cell_type": "markdown",
      "source": [
        "#Que:  Perform stemming and lemmatization\n",
        "\n",
        "*  Use porter stemmer to run stemming. Count the number of unique words/tokens before and after stemming"
      ],
      "metadata": {
        "id": "z7RLUSwcEBog"
      }
    },
    {
      "cell_type": "code",
      "source": [
        "#Importing the libraries\n",
        "import pandas as pd\n",
        "import numpy as np"
      ],
      "metadata": {
        "id": "VvVx8gWURiKh"
      },
      "execution_count": null,
      "outputs": []
    },
    {
      "cell_type": "code",
      "source": [
        "#Reading the csv data using pandas\n",
        "df = pd.read_csv('Data.csv')"
      ],
      "metadata": {
        "id": "sEWVj95DC6tQ"
      },
      "execution_count": null,
      "outputs": []
    },
    {
      "cell_type": "code",
      "source": [
        "df.head()"
      ],
      "metadata": {
        "colab": {
          "base_uri": "https://localhost:8080/",
          "height": 206
        },
        "id": "lWTzVVDPDZU6",
        "outputId": "27bc7368-7b7e-4661-d9aa-b7e222457996"
      },
      "execution_count": null,
      "outputs": [
        {
          "output_type": "execute_result",
          "data": {
            "text/plain": [
              "                                                Data\n",
              "0  Watch or listen live weekdays at 8:30am MT at ...\n",
              "1  Watch or listen live weekdays at 8:30am MT at ...\n",
              "2               Chubby And Hot, Always Stir The Pot!\n",
              "3               Chubby And Hot, Always Stir The Pot!\n",
              "4  Journalist, publisher of Rebel News — telling ..."
            ],
            "text/html": [
              "\n",
              "  <div id=\"df-66ff0fbc-5753-4b5a-aa5b-e97bdf363af5\" class=\"colab-df-container\">\n",
              "    <div>\n",
              "<style scoped>\n",
              "    .dataframe tbody tr th:only-of-type {\n",
              "        vertical-align: middle;\n",
              "    }\n",
              "\n",
              "    .dataframe tbody tr th {\n",
              "        vertical-align: top;\n",
              "    }\n",
              "\n",
              "    .dataframe thead th {\n",
              "        text-align: right;\n",
              "    }\n",
              "</style>\n",
              "<table border=\"1\" class=\"dataframe\">\n",
              "  <thead>\n",
              "    <tr style=\"text-align: right;\">\n",
              "      <th></th>\n",
              "      <th>Data</th>\n",
              "    </tr>\n",
              "  </thead>\n",
              "  <tbody>\n",
              "    <tr>\n",
              "      <th>0</th>\n",
              "      <td>Watch or listen live weekdays at 8:30am MT at ...</td>\n",
              "    </tr>\n",
              "    <tr>\n",
              "      <th>1</th>\n",
              "      <td>Watch or listen live weekdays at 8:30am MT at ...</td>\n",
              "    </tr>\n",
              "    <tr>\n",
              "      <th>2</th>\n",
              "      <td>Chubby And Hot, Always Stir The Pot!</td>\n",
              "    </tr>\n",
              "    <tr>\n",
              "      <th>3</th>\n",
              "      <td>Chubby And Hot, Always Stir The Pot!</td>\n",
              "    </tr>\n",
              "    <tr>\n",
              "      <th>4</th>\n",
              "      <td>Journalist, publisher of Rebel News — telling ...</td>\n",
              "    </tr>\n",
              "  </tbody>\n",
              "</table>\n",
              "</div>\n",
              "    <div class=\"colab-df-buttons\">\n",
              "\n",
              "  <div class=\"colab-df-container\">\n",
              "    <button class=\"colab-df-convert\" onclick=\"convertToInteractive('df-66ff0fbc-5753-4b5a-aa5b-e97bdf363af5')\"\n",
              "            title=\"Convert this dataframe to an interactive table.\"\n",
              "            style=\"display:none;\">\n",
              "\n",
              "  <svg xmlns=\"http://www.w3.org/2000/svg\" height=\"24px\" viewBox=\"0 -960 960 960\">\n",
              "    <path d=\"M120-120v-720h720v720H120Zm60-500h600v-160H180v160Zm220 220h160v-160H400v160Zm0 220h160v-160H400v160ZM180-400h160v-160H180v160Zm440 0h160v-160H620v160ZM180-180h160v-160H180v160Zm440 0h160v-160H620v160Z\"/>\n",
              "  </svg>\n",
              "    </button>\n",
              "\n",
              "  <style>\n",
              "    .colab-df-container {\n",
              "      display:flex;\n",
              "      gap: 12px;\n",
              "    }\n",
              "\n",
              "    .colab-df-convert {\n",
              "      background-color: #E8F0FE;\n",
              "      border: none;\n",
              "      border-radius: 50%;\n",
              "      cursor: pointer;\n",
              "      display: none;\n",
              "      fill: #1967D2;\n",
              "      height: 32px;\n",
              "      padding: 0 0 0 0;\n",
              "      width: 32px;\n",
              "    }\n",
              "\n",
              "    .colab-df-convert:hover {\n",
              "      background-color: #E2EBFA;\n",
              "      box-shadow: 0px 1px 2px rgba(60, 64, 67, 0.3), 0px 1px 3px 1px rgba(60, 64, 67, 0.15);\n",
              "      fill: #174EA6;\n",
              "    }\n",
              "\n",
              "    .colab-df-buttons div {\n",
              "      margin-bottom: 4px;\n",
              "    }\n",
              "\n",
              "    [theme=dark] .colab-df-convert {\n",
              "      background-color: #3B4455;\n",
              "      fill: #D2E3FC;\n",
              "    }\n",
              "\n",
              "    [theme=dark] .colab-df-convert:hover {\n",
              "      background-color: #434B5C;\n",
              "      box-shadow: 0px 1px 3px 1px rgba(0, 0, 0, 0.15);\n",
              "      filter: drop-shadow(0px 1px 2px rgba(0, 0, 0, 0.3));\n",
              "      fill: #FFFFFF;\n",
              "    }\n",
              "  </style>\n",
              "\n",
              "    <script>\n",
              "      const buttonEl =\n",
              "        document.querySelector('#df-66ff0fbc-5753-4b5a-aa5b-e97bdf363af5 button.colab-df-convert');\n",
              "      buttonEl.style.display =\n",
              "        google.colab.kernel.accessAllowed ? 'block' : 'none';\n",
              "\n",
              "      async function convertToInteractive(key) {\n",
              "        const element = document.querySelector('#df-66ff0fbc-5753-4b5a-aa5b-e97bdf363af5');\n",
              "        const dataTable =\n",
              "          await google.colab.kernel.invokeFunction('convertToInteractive',\n",
              "                                                    [key], {});\n",
              "        if (!dataTable) return;\n",
              "\n",
              "        const docLinkHtml = 'Like what you see? Visit the ' +\n",
              "          '<a target=\"_blank\" href=https://colab.research.google.com/notebooks/data_table.ipynb>data table notebook</a>'\n",
              "          + ' to learn more about interactive tables.';\n",
              "        element.innerHTML = '';\n",
              "        dataTable['output_type'] = 'display_data';\n",
              "        await google.colab.output.renderOutput(dataTable, element);\n",
              "        const docLink = document.createElement('div');\n",
              "        docLink.innerHTML = docLinkHtml;\n",
              "        element.appendChild(docLink);\n",
              "      }\n",
              "    </script>\n",
              "  </div>\n",
              "\n",
              "\n",
              "<div id=\"df-6abea4ea-2857-4c5b-8bd4-5059ce02e314\">\n",
              "  <button class=\"colab-df-quickchart\" onclick=\"quickchart('df-6abea4ea-2857-4c5b-8bd4-5059ce02e314')\"\n",
              "            title=\"Suggest charts\"\n",
              "            style=\"display:none;\">\n",
              "\n",
              "<svg xmlns=\"http://www.w3.org/2000/svg\" height=\"24px\"viewBox=\"0 0 24 24\"\n",
              "     width=\"24px\">\n",
              "    <g>\n",
              "        <path d=\"M19 3H5c-1.1 0-2 .9-2 2v14c0 1.1.9 2 2 2h14c1.1 0 2-.9 2-2V5c0-1.1-.9-2-2-2zM9 17H7v-7h2v7zm4 0h-2V7h2v10zm4 0h-2v-4h2v4z\"/>\n",
              "    </g>\n",
              "</svg>\n",
              "  </button>\n",
              "\n",
              "<style>\n",
              "  .colab-df-quickchart {\n",
              "      --bg-color: #E8F0FE;\n",
              "      --fill-color: #1967D2;\n",
              "      --hover-bg-color: #E2EBFA;\n",
              "      --hover-fill-color: #174EA6;\n",
              "      --disabled-fill-color: #AAA;\n",
              "      --disabled-bg-color: #DDD;\n",
              "  }\n",
              "\n",
              "  [theme=dark] .colab-df-quickchart {\n",
              "      --bg-color: #3B4455;\n",
              "      --fill-color: #D2E3FC;\n",
              "      --hover-bg-color: #434B5C;\n",
              "      --hover-fill-color: #FFFFFF;\n",
              "      --disabled-bg-color: #3B4455;\n",
              "      --disabled-fill-color: #666;\n",
              "  }\n",
              "\n",
              "  .colab-df-quickchart {\n",
              "    background-color: var(--bg-color);\n",
              "    border: none;\n",
              "    border-radius: 50%;\n",
              "    cursor: pointer;\n",
              "    display: none;\n",
              "    fill: var(--fill-color);\n",
              "    height: 32px;\n",
              "    padding: 0;\n",
              "    width: 32px;\n",
              "  }\n",
              "\n",
              "  .colab-df-quickchart:hover {\n",
              "    background-color: var(--hover-bg-color);\n",
              "    box-shadow: 0 1px 2px rgba(60, 64, 67, 0.3), 0 1px 3px 1px rgba(60, 64, 67, 0.15);\n",
              "    fill: var(--button-hover-fill-color);\n",
              "  }\n",
              "\n",
              "  .colab-df-quickchart-complete:disabled,\n",
              "  .colab-df-quickchart-complete:disabled:hover {\n",
              "    background-color: var(--disabled-bg-color);\n",
              "    fill: var(--disabled-fill-color);\n",
              "    box-shadow: none;\n",
              "  }\n",
              "\n",
              "  .colab-df-spinner {\n",
              "    border: 2px solid var(--fill-color);\n",
              "    border-color: transparent;\n",
              "    border-bottom-color: var(--fill-color);\n",
              "    animation:\n",
              "      spin 1s steps(1) infinite;\n",
              "  }\n",
              "\n",
              "  @keyframes spin {\n",
              "    0% {\n",
              "      border-color: transparent;\n",
              "      border-bottom-color: var(--fill-color);\n",
              "      border-left-color: var(--fill-color);\n",
              "    }\n",
              "    20% {\n",
              "      border-color: transparent;\n",
              "      border-left-color: var(--fill-color);\n",
              "      border-top-color: var(--fill-color);\n",
              "    }\n",
              "    30% {\n",
              "      border-color: transparent;\n",
              "      border-left-color: var(--fill-color);\n",
              "      border-top-color: var(--fill-color);\n",
              "      border-right-color: var(--fill-color);\n",
              "    }\n",
              "    40% {\n",
              "      border-color: transparent;\n",
              "      border-right-color: var(--fill-color);\n",
              "      border-top-color: var(--fill-color);\n",
              "    }\n",
              "    60% {\n",
              "      border-color: transparent;\n",
              "      border-right-color: var(--fill-color);\n",
              "    }\n",
              "    80% {\n",
              "      border-color: transparent;\n",
              "      border-right-color: var(--fill-color);\n",
              "      border-bottom-color: var(--fill-color);\n",
              "    }\n",
              "    90% {\n",
              "      border-color: transparent;\n",
              "      border-bottom-color: var(--fill-color);\n",
              "    }\n",
              "  }\n",
              "</style>\n",
              "\n",
              "  <script>\n",
              "    async function quickchart(key) {\n",
              "      const quickchartButtonEl =\n",
              "        document.querySelector('#' + key + ' button');\n",
              "      quickchartButtonEl.disabled = true;  // To prevent multiple clicks.\n",
              "      quickchartButtonEl.classList.add('colab-df-spinner');\n",
              "      try {\n",
              "        const charts = await google.colab.kernel.invokeFunction(\n",
              "            'suggestCharts', [key], {});\n",
              "      } catch (error) {\n",
              "        console.error('Error during call to suggestCharts:', error);\n",
              "      }\n",
              "      quickchartButtonEl.classList.remove('colab-df-spinner');\n",
              "      quickchartButtonEl.classList.add('colab-df-quickchart-complete');\n",
              "    }\n",
              "    (() => {\n",
              "      let quickchartButtonEl =\n",
              "        document.querySelector('#df-6abea4ea-2857-4c5b-8bd4-5059ce02e314 button');\n",
              "      quickchartButtonEl.style.display =\n",
              "        google.colab.kernel.accessAllowed ? 'block' : 'none';\n",
              "    })();\n",
              "  </script>\n",
              "</div>\n",
              "\n",
              "    </div>\n",
              "  </div>\n"
            ]
          },
          "metadata": {},
          "execution_count": 4
        }
      ]
    },
    {
      "cell_type": "code",
      "source": [
        "df.tail()"
      ],
      "metadata": {
        "colab": {
          "base_uri": "https://localhost:8080/",
          "height": 206
        },
        "id": "tTXs-YGVDe7-",
        "outputId": "923f7564-f54c-458d-aaff-f9debba3a743"
      },
      "execution_count": null,
      "outputs": [
        {
          "output_type": "execute_result",
          "data": {
            "text/plain": [
              "                                                   Data\n",
              "7334  Snow Valley Racing delivers competitive ski ra...\n",
              "7335  New twin mom\\n\\nMorning News Anchor @citynewsc...\n",
              "7336  Residents advocating for the💚of the Park.\\n\\nP...\n",
              "7337  Driven by family, diversity, equity, inclusion...\n",
              "7338      Photographer, Oilers Fan #photography  #yeg ."
            ],
            "text/html": [
              "\n",
              "  <div id=\"df-b8e7f759-c011-4215-b6af-0ca31f893361\" class=\"colab-df-container\">\n",
              "    <div>\n",
              "<style scoped>\n",
              "    .dataframe tbody tr th:only-of-type {\n",
              "        vertical-align: middle;\n",
              "    }\n",
              "\n",
              "    .dataframe tbody tr th {\n",
              "        vertical-align: top;\n",
              "    }\n",
              "\n",
              "    .dataframe thead th {\n",
              "        text-align: right;\n",
              "    }\n",
              "</style>\n",
              "<table border=\"1\" class=\"dataframe\">\n",
              "  <thead>\n",
              "    <tr style=\"text-align: right;\">\n",
              "      <th></th>\n",
              "      <th>Data</th>\n",
              "    </tr>\n",
              "  </thead>\n",
              "  <tbody>\n",
              "    <tr>\n",
              "      <th>7334</th>\n",
              "      <td>Snow Valley Racing delivers competitive ski ra...</td>\n",
              "    </tr>\n",
              "    <tr>\n",
              "      <th>7335</th>\n",
              "      <td>New twin mom\\n\\nMorning News Anchor @citynewsc...</td>\n",
              "    </tr>\n",
              "    <tr>\n",
              "      <th>7336</th>\n",
              "      <td>Residents advocating for the💚of the Park.\\n\\nP...</td>\n",
              "    </tr>\n",
              "    <tr>\n",
              "      <th>7337</th>\n",
              "      <td>Driven by family, diversity, equity, inclusion...</td>\n",
              "    </tr>\n",
              "    <tr>\n",
              "      <th>7338</th>\n",
              "      <td>Photographer, Oilers Fan #photography  #yeg .</td>\n",
              "    </tr>\n",
              "  </tbody>\n",
              "</table>\n",
              "</div>\n",
              "    <div class=\"colab-df-buttons\">\n",
              "\n",
              "  <div class=\"colab-df-container\">\n",
              "    <button class=\"colab-df-convert\" onclick=\"convertToInteractive('df-b8e7f759-c011-4215-b6af-0ca31f893361')\"\n",
              "            title=\"Convert this dataframe to an interactive table.\"\n",
              "            style=\"display:none;\">\n",
              "\n",
              "  <svg xmlns=\"http://www.w3.org/2000/svg\" height=\"24px\" viewBox=\"0 -960 960 960\">\n",
              "    <path d=\"M120-120v-720h720v720H120Zm60-500h600v-160H180v160Zm220 220h160v-160H400v160Zm0 220h160v-160H400v160ZM180-400h160v-160H180v160Zm440 0h160v-160H620v160ZM180-180h160v-160H180v160Zm440 0h160v-160H620v160Z\"/>\n",
              "  </svg>\n",
              "    </button>\n",
              "\n",
              "  <style>\n",
              "    .colab-df-container {\n",
              "      display:flex;\n",
              "      gap: 12px;\n",
              "    }\n",
              "\n",
              "    .colab-df-convert {\n",
              "      background-color: #E8F0FE;\n",
              "      border: none;\n",
              "      border-radius: 50%;\n",
              "      cursor: pointer;\n",
              "      display: none;\n",
              "      fill: #1967D2;\n",
              "      height: 32px;\n",
              "      padding: 0 0 0 0;\n",
              "      width: 32px;\n",
              "    }\n",
              "\n",
              "    .colab-df-convert:hover {\n",
              "      background-color: #E2EBFA;\n",
              "      box-shadow: 0px 1px 2px rgba(60, 64, 67, 0.3), 0px 1px 3px 1px rgba(60, 64, 67, 0.15);\n",
              "      fill: #174EA6;\n",
              "    }\n",
              "\n",
              "    .colab-df-buttons div {\n",
              "      margin-bottom: 4px;\n",
              "    }\n",
              "\n",
              "    [theme=dark] .colab-df-convert {\n",
              "      background-color: #3B4455;\n",
              "      fill: #D2E3FC;\n",
              "    }\n",
              "\n",
              "    [theme=dark] .colab-df-convert:hover {\n",
              "      background-color: #434B5C;\n",
              "      box-shadow: 0px 1px 3px 1px rgba(0, 0, 0, 0.15);\n",
              "      filter: drop-shadow(0px 1px 2px rgba(0, 0, 0, 0.3));\n",
              "      fill: #FFFFFF;\n",
              "    }\n",
              "  </style>\n",
              "\n",
              "    <script>\n",
              "      const buttonEl =\n",
              "        document.querySelector('#df-b8e7f759-c011-4215-b6af-0ca31f893361 button.colab-df-convert');\n",
              "      buttonEl.style.display =\n",
              "        google.colab.kernel.accessAllowed ? 'block' : 'none';\n",
              "\n",
              "      async function convertToInteractive(key) {\n",
              "        const element = document.querySelector('#df-b8e7f759-c011-4215-b6af-0ca31f893361');\n",
              "        const dataTable =\n",
              "          await google.colab.kernel.invokeFunction('convertToInteractive',\n",
              "                                                    [key], {});\n",
              "        if (!dataTable) return;\n",
              "\n",
              "        const docLinkHtml = 'Like what you see? Visit the ' +\n",
              "          '<a target=\"_blank\" href=https://colab.research.google.com/notebooks/data_table.ipynb>data table notebook</a>'\n",
              "          + ' to learn more about interactive tables.';\n",
              "        element.innerHTML = '';\n",
              "        dataTable['output_type'] = 'display_data';\n",
              "        await google.colab.output.renderOutput(dataTable, element);\n",
              "        const docLink = document.createElement('div');\n",
              "        docLink.innerHTML = docLinkHtml;\n",
              "        element.appendChild(docLink);\n",
              "      }\n",
              "    </script>\n",
              "  </div>\n",
              "\n",
              "\n",
              "<div id=\"df-2fbfc087-bd4c-4a88-8c08-d77313e49af1\">\n",
              "  <button class=\"colab-df-quickchart\" onclick=\"quickchart('df-2fbfc087-bd4c-4a88-8c08-d77313e49af1')\"\n",
              "            title=\"Suggest charts\"\n",
              "            style=\"display:none;\">\n",
              "\n",
              "<svg xmlns=\"http://www.w3.org/2000/svg\" height=\"24px\"viewBox=\"0 0 24 24\"\n",
              "     width=\"24px\">\n",
              "    <g>\n",
              "        <path d=\"M19 3H5c-1.1 0-2 .9-2 2v14c0 1.1.9 2 2 2h14c1.1 0 2-.9 2-2V5c0-1.1-.9-2-2-2zM9 17H7v-7h2v7zm4 0h-2V7h2v10zm4 0h-2v-4h2v4z\"/>\n",
              "    </g>\n",
              "</svg>\n",
              "  </button>\n",
              "\n",
              "<style>\n",
              "  .colab-df-quickchart {\n",
              "      --bg-color: #E8F0FE;\n",
              "      --fill-color: #1967D2;\n",
              "      --hover-bg-color: #E2EBFA;\n",
              "      --hover-fill-color: #174EA6;\n",
              "      --disabled-fill-color: #AAA;\n",
              "      --disabled-bg-color: #DDD;\n",
              "  }\n",
              "\n",
              "  [theme=dark] .colab-df-quickchart {\n",
              "      --bg-color: #3B4455;\n",
              "      --fill-color: #D2E3FC;\n",
              "      --hover-bg-color: #434B5C;\n",
              "      --hover-fill-color: #FFFFFF;\n",
              "      --disabled-bg-color: #3B4455;\n",
              "      --disabled-fill-color: #666;\n",
              "  }\n",
              "\n",
              "  .colab-df-quickchart {\n",
              "    background-color: var(--bg-color);\n",
              "    border: none;\n",
              "    border-radius: 50%;\n",
              "    cursor: pointer;\n",
              "    display: none;\n",
              "    fill: var(--fill-color);\n",
              "    height: 32px;\n",
              "    padding: 0;\n",
              "    width: 32px;\n",
              "  }\n",
              "\n",
              "  .colab-df-quickchart:hover {\n",
              "    background-color: var(--hover-bg-color);\n",
              "    box-shadow: 0 1px 2px rgba(60, 64, 67, 0.3), 0 1px 3px 1px rgba(60, 64, 67, 0.15);\n",
              "    fill: var(--button-hover-fill-color);\n",
              "  }\n",
              "\n",
              "  .colab-df-quickchart-complete:disabled,\n",
              "  .colab-df-quickchart-complete:disabled:hover {\n",
              "    background-color: var(--disabled-bg-color);\n",
              "    fill: var(--disabled-fill-color);\n",
              "    box-shadow: none;\n",
              "  }\n",
              "\n",
              "  .colab-df-spinner {\n",
              "    border: 2px solid var(--fill-color);\n",
              "    border-color: transparent;\n",
              "    border-bottom-color: var(--fill-color);\n",
              "    animation:\n",
              "      spin 1s steps(1) infinite;\n",
              "  }\n",
              "\n",
              "  @keyframes spin {\n",
              "    0% {\n",
              "      border-color: transparent;\n",
              "      border-bottom-color: var(--fill-color);\n",
              "      border-left-color: var(--fill-color);\n",
              "    }\n",
              "    20% {\n",
              "      border-color: transparent;\n",
              "      border-left-color: var(--fill-color);\n",
              "      border-top-color: var(--fill-color);\n",
              "    }\n",
              "    30% {\n",
              "      border-color: transparent;\n",
              "      border-left-color: var(--fill-color);\n",
              "      border-top-color: var(--fill-color);\n",
              "      border-right-color: var(--fill-color);\n",
              "    }\n",
              "    40% {\n",
              "      border-color: transparent;\n",
              "      border-right-color: var(--fill-color);\n",
              "      border-top-color: var(--fill-color);\n",
              "    }\n",
              "    60% {\n",
              "      border-color: transparent;\n",
              "      border-right-color: var(--fill-color);\n",
              "    }\n",
              "    80% {\n",
              "      border-color: transparent;\n",
              "      border-right-color: var(--fill-color);\n",
              "      border-bottom-color: var(--fill-color);\n",
              "    }\n",
              "    90% {\n",
              "      border-color: transparent;\n",
              "      border-bottom-color: var(--fill-color);\n",
              "    }\n",
              "  }\n",
              "</style>\n",
              "\n",
              "  <script>\n",
              "    async function quickchart(key) {\n",
              "      const quickchartButtonEl =\n",
              "        document.querySelector('#' + key + ' button');\n",
              "      quickchartButtonEl.disabled = true;  // To prevent multiple clicks.\n",
              "      quickchartButtonEl.classList.add('colab-df-spinner');\n",
              "      try {\n",
              "        const charts = await google.colab.kernel.invokeFunction(\n",
              "            'suggestCharts', [key], {});\n",
              "      } catch (error) {\n",
              "        console.error('Error during call to suggestCharts:', error);\n",
              "      }\n",
              "      quickchartButtonEl.classList.remove('colab-df-spinner');\n",
              "      quickchartButtonEl.classList.add('colab-df-quickchart-complete');\n",
              "    }\n",
              "    (() => {\n",
              "      let quickchartButtonEl =\n",
              "        document.querySelector('#df-2fbfc087-bd4c-4a88-8c08-d77313e49af1 button');\n",
              "      quickchartButtonEl.style.display =\n",
              "        google.colab.kernel.accessAllowed ? 'block' : 'none';\n",
              "    })();\n",
              "  </script>\n",
              "</div>\n",
              "\n",
              "    </div>\n",
              "  </div>\n"
            ]
          },
          "metadata": {},
          "execution_count": 4
        }
      ]
    },
    {
      "cell_type": "code",
      "source": [
        "from nltk.stem import PorterStemmer\n",
        "from nltk.stem import WordNetLemmatizer\n",
        "from nltk.tokenize import word_tokenize\n",
        "import re\n",
        "\n",
        "# Download NLTK resources\n",
        "import nltk\n",
        "nltk.download('punkt')\n",
        "nltk.download('wordnet')"
      ],
      "metadata": {
        "colab": {
          "base_uri": "https://localhost:8080/"
        },
        "id": "Mf5Slra8Dre5",
        "outputId": "b57c80fd-99e5-4de3-d51a-83a5a3435909"
      },
      "execution_count": null,
      "outputs": [
        {
          "output_type": "stream",
          "name": "stderr",
          "text": [
            "[nltk_data] Downloading package punkt to /root/nltk_data...\n",
            "[nltk_data]   Unzipping tokenizers/punkt.zip.\n",
            "[nltk_data] Downloading package wordnet to /root/nltk_data...\n"
          ]
        },
        {
          "output_type": "execute_result",
          "data": {
            "text/plain": [
              "True"
            ]
          },
          "metadata": {},
          "execution_count": 5
        }
      ]
    },
    {
      "cell_type": "code",
      "source": [
        "#Method for stemming\n",
        "def tokenization(txt):\n",
        "\n",
        "    # Tokenize the text\n",
        "    tokens = word_tokenize(txt)\n",
        "\n",
        "    #Checking for the special characters\n",
        "    tokens = [token.lower() for token in tokens if token.isalnum()]\n",
        "\n",
        "    return tokens"
      ],
      "metadata": {
        "id": "jPqg3zWGFVu9"
      },
      "execution_count": null,
      "outputs": []
    },
    {
      "cell_type": "code",
      "source": [
        "#Stemming method\n",
        "def stemming(text):\n",
        "  # Initialize Porter Stemmer\n",
        "  porter_stemm = PorterStemmer()\n",
        "\n",
        "  # Perform stemming\n",
        "  stemmed_tokens = [porter_stemm.stem(token) for token in text]\n",
        "  return stemmed_tokens"
      ],
      "metadata": {
        "id": "hjSFl4ZRTGaZ"
      },
      "execution_count": null,
      "outputs": []
    },
    {
      "cell_type": "code",
      "source": [
        "#Lemmatization method\n",
        "def lemma(text):\n",
        "  # Initialize WordNet Lemmatizer\n",
        "  lemmatizer = WordNetLemmatizer()\n",
        "\n",
        "  # Perform lemmatization\n",
        "  lemmatized_tokens = [lemmatizer.lemmatize(token) for token in text]\n",
        "  return lemmatized_tokens"
      ],
      "metadata": {
        "id": "rPDlU-06UL8R"
      },
      "execution_count": null,
      "outputs": []
    },
    {
      "cell_type": "code",
      "source": [
        "#Count the unique words\n",
        "def count_unique_words(data):\n",
        "  words = set(data)\n",
        "  print(\"\\nNumber of Unique Words :\", len(words))"
      ],
      "metadata": {
        "id": "hBd2WWLSTJNz"
      },
      "execution_count": null,
      "outputs": []
    },
    {
      "cell_type": "code",
      "source": [
        "# Merge all text data from the Data\n",
        "text = df['Data'].str.cat(sep=' ')"
      ],
      "metadata": {
        "id": "LQjbUuqeMHhs"
      },
      "execution_count": null,
      "outputs": []
    },
    {
      "cell_type": "code",
      "source": [
        "#Tokenizing the data\n",
        "tokens = tokenization(text)\n",
        "\n",
        "#duplicating the data for future use\n",
        "tokens_2 = tokens"
      ],
      "metadata": {
        "id": "O-YPG2VhG2Cv"
      },
      "execution_count": null,
      "outputs": []
    },
    {
      "cell_type": "markdown",
      "source": [
        "### Number of Unique Words Before Stemming: 7350"
      ],
      "metadata": {
        "id": "pj6pxsOpkQba"
      }
    },
    {
      "cell_type": "code",
      "source": [
        "#Getting the unique words\n",
        "count_unique_words(tokens_2)"
      ],
      "metadata": {
        "colab": {
          "base_uri": "https://localhost:8080/"
        },
        "id": "czsjuImcI9wq",
        "outputId": "2fa2c728-b417-4374-d20a-8ed28b0d808a"
      },
      "execution_count": null,
      "outputs": [
        {
          "output_type": "stream",
          "name": "stdout",
          "text": [
            "\n",
            "Number of Unique Words : 7350\n"
          ]
        }
      ]
    },
    {
      "cell_type": "code",
      "source": [
        "stem_tokens = stemming(tokens)\n",
        "\n",
        "stem_tokens_2 = stem_tokens"
      ],
      "metadata": {
        "id": "juoZjd--PI1a"
      },
      "execution_count": null,
      "outputs": []
    },
    {
      "cell_type": "markdown",
      "source": [
        "### Number of Unique Words After Stemming: 6049\n",
        "\n",
        "---\n",
        "\n"
      ],
      "metadata": {
        "id": "Lt_RDyCtkeDb"
      }
    },
    {
      "cell_type": "code",
      "source": [
        "#Getting the unique words from stemming tokens\n",
        "count_unique_words(stem_tokens_2)"
      ],
      "metadata": {
        "colab": {
          "base_uri": "https://localhost:8080/"
        },
        "id": "n_AjURNDRDnv",
        "outputId": "a00f4d13-7da7-4191-e1f3-16435564f922"
      },
      "execution_count": null,
      "outputs": [
        {
          "output_type": "stream",
          "name": "stdout",
          "text": [
            "\n",
            "Number of Unique Words : 6049\n"
          ]
        }
      ]
    },
    {
      "cell_type": "markdown",
      "source": [],
      "metadata": {
        "id": "PZt6iW7vxhtk"
      }
    },
    {
      "cell_type": "markdown",
      "source": [
        "* Perform lemmatization using NLTK lemmatizer. Count the number of unique words/tokens before and after lemmatization"
      ],
      "metadata": {
        "id": "TfGItF4aRdRl"
      }
    },
    {
      "cell_type": "markdown",
      "source": [
        "### Number of Unique Words before Lemmatization: 7350"
      ],
      "metadata": {
        "id": "YnEFwQPBku8C"
      }
    },
    {
      "cell_type": "code",
      "source": [
        "#Calling the lemmization method\n",
        "lemm_tokens = lemma(tokens)\n",
        "\n",
        "lemm_tokens_2 = lemm_tokens"
      ],
      "metadata": {
        "id": "T9d-hljZSX4o"
      },
      "execution_count": null,
      "outputs": []
    },
    {
      "cell_type": "markdown",
      "source": [
        "### Number of Unique Words After Lemmatization: 6816"
      ],
      "metadata": {
        "id": "1FbcAxkbkrNy"
      }
    },
    {
      "cell_type": "code",
      "source": [
        "#Getting the unique words from stemming tokens\n",
        "count_unique_words(lemm_tokens_2)"
      ],
      "metadata": {
        "colab": {
          "base_uri": "https://localhost:8080/"
        },
        "id": "bcY-pVnrYYXU",
        "outputId": "ef20fd01-4cdf-4f69-fecf-d7dbaab17a0f"
      },
      "execution_count": null,
      "outputs": [
        {
          "output_type": "stream",
          "name": "stdout",
          "text": [
            "\n",
            "Number of Unique Words : 6816\n"
          ]
        }
      ]
    },
    {
      "cell_type": "markdown",
      "source": [
        "* Compare the change in word frequencies from stemming and\n",
        "lemmatization. Which are the top 10 words after stemming/lemmatization"
      ],
      "metadata": {
        "id": "4pLhApm2Y1eS"
      }
    },
    {
      "cell_type": "code",
      "source": [
        "from collections import Counter"
      ],
      "metadata": {
        "id": "QzL35zCcaHJo"
      },
      "execution_count": null,
      "outputs": []
    },
    {
      "cell_type": "code",
      "source": [
        "#Count word frequencies before and after stemming\n",
        "words_freq_before_stemming = Counter(tokens_2)\n",
        "words_freq_after_stemming = Counter(stem_tokens_2)\n",
        "\n",
        "#Count word frequencies before and after lemmatization\n",
        "word_freq_before_lemma = Counter(tokens_2)\n",
        "word_freq_after_lemma = Counter(lemm_tokens_2)\n",
        "\n",
        "#Get the top 10 words after stemming and lemmatization\n",
        "top_10_stemm_words = words_freq_after_stemming.most_common(10)\n",
        "top_10_lemma_words = word_freq_after_lemma.most_common(10)"
      ],
      "metadata": {
        "id": "O7FfMVuAcOW2"
      },
      "execution_count": null,
      "outputs": []
    },
    {
      "cell_type": "markdown",
      "source": [
        "###Top words with highest frequncies in Stemming"
      ],
      "metadata": {
        "id": "BwPJaGDZe0oq"
      }
    },
    {
      "cell_type": "code",
      "source": [
        "top_10_stemm_words"
      ],
      "metadata": {
        "colab": {
          "base_uri": "https://localhost:8080/"
        },
        "id": "b4UMK8SgdOzQ",
        "outputId": "7b6de8d8-48f3-4af5-9d4a-77c519369c8c"
      },
      "execution_count": null,
      "outputs": [
        {
          "output_type": "execute_result",
          "data": {
            "text/plain": [
              "[('and', 3514),\n",
              " ('the', 2859),\n",
              " ('of', 2223),\n",
              " ('to', 2179),\n",
              " ('a', 1553),\n",
              " ('in', 1541),\n",
              " ('for', 1507),\n",
              " ('i', 1189),\n",
              " ('alberta', 1061),\n",
              " ('is', 923)]"
            ]
          },
          "metadata": {},
          "execution_count": 19
        }
      ]
    },
    {
      "cell_type": "markdown",
      "source": [
        "###Top words with highest frequncies in Lemmatization"
      ],
      "metadata": {
        "id": "jgvk6wFge4ZO"
      }
    },
    {
      "cell_type": "code",
      "source": [
        "top_10_lemma_words"
      ],
      "metadata": {
        "colab": {
          "base_uri": "https://localhost:8080/"
        },
        "id": "CJGp7Nm8ejgf",
        "outputId": "f400acec-1cdd-44aa-fd15-7ba595389407"
      },
      "execution_count": null,
      "outputs": [
        {
          "output_type": "execute_result",
          "data": {
            "text/plain": [
              "[('and', 3514),\n",
              " ('the', 2859),\n",
              " ('of', 2223),\n",
              " ('to', 2179),\n",
              " ('a', 1770),\n",
              " ('in', 1541),\n",
              " ('for', 1507),\n",
              " ('i', 1189),\n",
              " ('alberta', 1061),\n",
              " ('is', 923)]"
            ]
          },
          "metadata": {},
          "execution_count": 20
        }
      ]
    },
    {
      "cell_type": "markdown",
      "source": [
        "###Comparsion of words frequencies between Stemming and lemmatization using Mean of words frequencies.\n",
        "\n"
      ],
      "metadata": {
        "id": "SGTCoyvCfmY7"
      }
    },
    {
      "cell_type": "code",
      "source": [
        "#Mean of words frequencies after stemming\n",
        "mean_stem = words_freq_after_stemming.total()/len(words_freq_after_stemming)\n",
        "mean_stem"
      ],
      "metadata": {
        "colab": {
          "base_uri": "https://localhost:8080/"
        },
        "id": "AYcKBbcuf4l8",
        "outputId": "17547d03-bacc-40c7-aea6-cdc154fbac51"
      },
      "execution_count": null,
      "outputs": [
        {
          "output_type": "execute_result",
          "data": {
            "text/plain": [
              "18.257232600429823"
            ]
          },
          "metadata": {},
          "execution_count": 21
        }
      ]
    },
    {
      "cell_type": "code",
      "source": [
        "#Mean of words frequencies after lemmatization\n",
        "mean_lemma = word_freq_after_lemma.total()/len(word_freq_after_lemma)\n",
        "mean_lemma"
      ],
      "metadata": {
        "colab": {
          "base_uri": "https://localhost:8080/"
        },
        "id": "Dly7CceNnMPx",
        "outputId": "df0cc079-4bff-4ff3-a442-044d08ea0cc3"
      },
      "execution_count": null,
      "outputs": [
        {
          "output_type": "execute_result",
          "data": {
            "text/plain": [
              "16.20275821596244"
            ]
          },
          "metadata": {},
          "execution_count": 22
        }
      ]
    },
    {
      "cell_type": "markdown",
      "source": [
        "* What is the change in word frequencies if normalization is done after stop word removal."
      ],
      "metadata": {
        "id": "Sbzxuya8pdky"
      }
    },
    {
      "cell_type": "code",
      "source": [
        "from nltk.corpus import stopwords\n",
        "nltk.download('stopwords')\n",
        "stopwords = nltk.corpus.stopwords.words('english')"
      ],
      "metadata": {
        "colab": {
          "base_uri": "https://localhost:8080/"
        },
        "id": "tp2lwDXCvUF2",
        "outputId": "d8960d4b-dee4-4270-ade7-8a09e50a490b"
      },
      "execution_count": null,
      "outputs": [
        {
          "output_type": "stream",
          "name": "stderr",
          "text": [
            "[nltk_data] Downloading package stopwords to /root/nltk_data...\n",
            "[nltk_data]   Package stopwords is already up-to-date!\n"
          ]
        }
      ]
    },
    {
      "cell_type": "code",
      "source": [
        "#Method for stemming\n",
        "def tokenization_with_stopword(txt):\n",
        "\n",
        "    # Tokenize the text\n",
        "    tokens = word_tokenize(txt)\n",
        "\n",
        "    #Checking for the special characters\n",
        "    tokens = [token.lower() for token in tokens if token.isalnum() and token.lower() not in stopwords]\n",
        "\n",
        "    return tokens"
      ],
      "metadata": {
        "id": "F1oqnlfRnAiF"
      },
      "execution_count": null,
      "outputs": []
    },
    {
      "cell_type": "code",
      "source": [
        "#Tokenizing the data\n",
        "tokens_stop = tokenization_with_stopword(text)\n",
        "\n",
        "#duplicating the data for future use\n",
        "tokens_2_stop = tokens_stop"
      ],
      "metadata": {
        "id": "yp1Lw5fLvjM5"
      },
      "execution_count": null,
      "outputs": []
    },
    {
      "cell_type": "code",
      "source": [
        "stem_tokens_stop = stemming(tokens_2_stop)\n",
        "\n",
        "stem_tokens_2_stop = stem_tokens_stop"
      ],
      "metadata": {
        "id": "2eBJC3SRwX5n"
      },
      "execution_count": null,
      "outputs": []
    },
    {
      "cell_type": "markdown",
      "source": [
        "### Number of Unique Words with Stemming after removing stopwords : 5936"
      ],
      "metadata": {
        "id": "4-eHi0cHxdlz"
      }
    },
    {
      "cell_type": "code",
      "source": [
        "#Getting the unique words from stemming token with stopwords\n",
        "count_unique_words(stem_tokens_2_stop)"
      ],
      "metadata": {
        "colab": {
          "base_uri": "https://localhost:8080/"
        },
        "id": "nK2OqvwlxWAD",
        "outputId": "1955d065-f420-4d6a-98b4-677b000588d2"
      },
      "execution_count": null,
      "outputs": [
        {
          "output_type": "stream",
          "name": "stdout",
          "text": [
            "\n",
            "Number of Unique Words : 5936\n"
          ]
        }
      ]
    },
    {
      "cell_type": "code",
      "source": [
        "#Calling the lemmization method\n",
        "lemm_tokens_stop = lemma(tokens_2_stop)\n",
        "\n",
        "lemm_tokens_2_stop = lemm_tokens_stop"
      ],
      "metadata": {
        "id": "4fDqDqSUyH5t"
      },
      "execution_count": null,
      "outputs": []
    },
    {
      "cell_type": "markdown",
      "source": [
        "### Number of Unique Words with lemmatization after removing stopwords : 6694"
      ],
      "metadata": {
        "id": "dNOuJurZzLwZ"
      }
    },
    {
      "cell_type": "code",
      "source": [
        "#Getting the unique words from lemmatization tokens\n",
        "count_unique_words(lemm_tokens_2_stop)"
      ],
      "metadata": {
        "colab": {
          "base_uri": "https://localhost:8080/"
        },
        "id": "W1insNeWyVUW",
        "outputId": "8f2d39ae-8307-41f8-cd4e-4d8d6e28586a"
      },
      "execution_count": null,
      "outputs": [
        {
          "output_type": "stream",
          "name": "stdout",
          "text": [
            "\n",
            "Number of Unique Words : 6694\n"
          ]
        }
      ]
    },
    {
      "cell_type": "code",
      "source": [
        "#Count word frequencies after stemming and removing stopword\n",
        "words_freq_after_stemming_stop = Counter(stem_tokens_2_stop)\n",
        "\n",
        "#Count word frequencies after lemmatization and removing stopword\n",
        "word_freq_after_lemma_stop = Counter(lemm_tokens_2_stop)\n",
        "\n",
        "#Get the top 10 words after stemming, lemmatization and remvoing stopwords\n",
        "top_10_stemm_words_stop = words_freq_after_stemming_stop.most_common(10)\n",
        "top_10_lemma_words_stop = word_freq_after_lemma_stop.most_common(10)"
      ],
      "metadata": {
        "id": "NWIcL9twzYT-"
      },
      "execution_count": null,
      "outputs": []
    },
    {
      "cell_type": "markdown",
      "source": [
        "###Top words with highest frequncies in Stemming after removing stop words"
      ],
      "metadata": {
        "id": "jFxcKDtM0CO_"
      }
    },
    {
      "cell_type": "code",
      "source": [
        "top_10_stemm_words_stop"
      ],
      "metadata": {
        "colab": {
          "base_uri": "https://localhost:8080/"
        },
        "id": "ckgWAFip0BBA",
        "outputId": "6b928a85-7d03-431b-c352-00a4dd40d368"
      },
      "execution_count": null,
      "outputs": [
        {
          "output_type": "execute_result",
          "data": {
            "text/plain": [
              "[('alberta', 1061),\n",
              " ('outdoor', 682),\n",
              " ('news', 604),\n",
              " ('commun', 595),\n",
              " ('canada', 559),\n",
              " ('adventur', 530),\n",
              " ('travel', 459),\n",
              " ('follow', 446),\n",
              " ('love', 410),\n",
              " ('calgari', 390)]"
            ]
          },
          "metadata": {},
          "execution_count": 36
        }
      ]
    },
    {
      "cell_type": "markdown",
      "source": [
        "###Top words with highest frequncies in Lemmatization after removing stop words"
      ],
      "metadata": {
        "id": "ctTwKEDs0NZS"
      }
    },
    {
      "cell_type": "code",
      "source": [
        "top_10_lemma_words_stop"
      ],
      "metadata": {
        "colab": {
          "base_uri": "https://localhost:8080/"
        },
        "id": "ZYDqVBEH0UEg",
        "outputId": "c527a42e-2f15-44a1-edc5-8e243c5a40b1"
      },
      "execution_count": null,
      "outputs": [
        {
          "output_type": "execute_result",
          "data": {
            "text/plain": [
              "[('alberta', 1061),\n",
              " ('news', 604),\n",
              " ('canada', 559),\n",
              " ('outdoor', 549),\n",
              " ('community', 542),\n",
              " ('adventure', 516),\n",
              " ('calgary', 390),\n",
              " ('writer', 385),\n",
              " ('park', 380),\n",
              " ('love', 361)]"
            ]
          },
          "metadata": {},
          "execution_count": 37
        }
      ]
    },
    {
      "cell_type": "markdown",
      "source": [
        "###Comparsion of words frequencies between Stemming and lemmatization using Mean of words frequencies after removing stop words."
      ],
      "metadata": {
        "id": "vYr77RazfURq"
      }
    },
    {
      "cell_type": "code",
      "source": [
        "#Mean of words frequencies after stemming & stopwords\n",
        "mean_stem_stop = words_freq_after_stemming_stop.total()/len(words_freq_after_stemming_stop)\n",
        "mean_stem_stop"
      ],
      "metadata": {
        "colab": {
          "base_uri": "https://localhost:8080/"
        },
        "id": "AajKNOQb0jvb",
        "outputId": "100f8f25-94dc-4204-a97d-d5a6e10eded3"
      },
      "execution_count": null,
      "outputs": [
        {
          "output_type": "execute_result",
          "data": {
            "text/plain": [
              "12.99932614555256"
            ]
          },
          "metadata": {},
          "execution_count": 39
        }
      ]
    },
    {
      "cell_type": "code",
      "source": [
        "#Mean of words frequencies after lemmatization & stopwords\n",
        "mean_lemma_stop = word_freq_after_lemma_stop.total()/len(word_freq_after_lemma_stop)\n",
        "mean_lemma_stop"
      ],
      "metadata": {
        "colab": {
          "base_uri": "https://localhost:8080/"
        },
        "id": "aDeieac91drp",
        "outputId": "0929d44a-9993-44ce-db46-8aac05f66366"
      },
      "execution_count": null,
      "outputs": [
        {
          "output_type": "execute_result",
          "data": {
            "text/plain": [
              "11.527337914550344"
            ]
          },
          "metadata": {},
          "execution_count": 40
        }
      ]
    }
  ]
}