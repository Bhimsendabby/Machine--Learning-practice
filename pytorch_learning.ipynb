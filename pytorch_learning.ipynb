{
  "nbformat": 4,
  "nbformat_minor": 0,
  "metadata": {
    "colab": {
      "provenance": [],
      "authorship_tag": "ABX9TyPaZxVxCZP6fdLmIMmHTy+j",
      "include_colab_link": true
    },
    "kernelspec": {
      "name": "python3",
      "display_name": "Python 3"
    },
    "language_info": {
      "name": "python"
    }
  },
  "cells": [
    {
      "cell_type": "markdown",
      "metadata": {
        "id": "view-in-github",
        "colab_type": "text"
      },
      "source": [
        "<a href=\"https://colab.research.google.com/github/Bhimsendabby/Machine--Learning-practice/blob/main/pytorch_learning.ipynb\" target=\"_parent\"><img src=\"https://colab.research.google.com/assets/colab-badge.svg\" alt=\"Open In Colab\"/></a>"
      ]
    },
    {
      "cell_type": "code",
      "source": [
        "import os\n",
        "import glob\n",
        "import time\n",
        "import numpy as np\n",
        "from PIL import Image\n",
        "from pathlib import Path\n",
        "from tqdm.notebook import tqdm\n",
        "import matplotlib.pyplot as plt\n",
        "from skimage.color import rgb2lab, lab2rgb\n",
        "\n",
        "import torch\n",
        "from torch import nn, optim\n",
        "from torchvision import transforms\n",
        "from torchvision.utils import make_grid\n",
        "from torch.utils.data import Dataset, DataLoader\n",
        "device = torch.device(\"cuda\" if torch.cuda.is_available() else \"cpu\")\n",
        "use_colab = None"
      ],
      "metadata": {
        "id": "A2RczZ9qNQfo"
      },
      "execution_count": 2,
      "outputs": []
    },
    {
      "cell_type": "code",
      "source": [
        "if torch.cuda.is_available():\n",
        "    device = torch.device(\"cuda:0\")\n",
        "    print(\"Running on the GPU\")\n",
        "else:\n",
        "    device = torch.device(\"cpu\")\n",
        "    print(\"Running on the CPU\")"
      ],
      "metadata": {
        "colab": {
          "base_uri": "https://localhost:8080/"
        },
        "id": "lzi6IEAGNYNg",
        "outputId": "c89136d6-42cf-4d71-a111-7551f66f8ec9"
      },
      "execution_count": 3,
      "outputs": [
        {
          "output_type": "stream",
          "name": "stdout",
          "text": [
            "Running on the CPU\n"
          ]
        }
      ]
    },
    {
      "cell_type": "code",
      "source": [
        "#For numpy gradient\n",
        "# X = np.array([1, 2, 3,4])\n",
        "# Y = np.array([2, 4, 6,8])\n",
        "# w =0.0\n",
        "\n",
        "learning_rate = 0.01\n",
        "\n",
        "# def forward(x):\n",
        "#     return x * 2\n",
        "\n",
        "# def loss(y_pred, y_true):\n",
        "#     return ((y_pred - y_true)**2).mean()\n",
        "\n",
        "\n",
        "#For numpy gradient\n",
        "# def loss_grad(x, y_pred, y_true):\n",
        "#     return np.dot(2 * x,(y_pred - y_true)).mean()\n",
        "\n",
        "#with numpy\n",
        "# for epoch in range(100):\n",
        "#     y_pred = forward(X)\n",
        "#     l = loss(y_pred, Y)\n",
        "#     grad = loss_grad(X, y_pred, Y)\n",
        "\n",
        "#     w = w - learning_rate * grad\n",
        "#     if epoch % 10 == 0:\n",
        "#         print(f'epoch {epoch + 1}, loss {l:.4f}, weight {w:.4f}')\n",
        "\n",
        "\n",
        "# print(f'Result: after 100 epochs{forward(10)}')\n",
        "\n",
        "\n",
        "#with torch\n",
        "\n",
        "import torch\n",
        "\n",
        "# Input and output tensors\n",
        "X = torch.tensor([1, 2, 3, 4], dtype=torch.float32)\n",
        "Y = torch.tensor([2, 4, 6, 8], dtype=torch.float32)\n",
        "\n",
        "# Initialize weight\n",
        "w = torch.tensor(0.0, dtype=torch.float32, requires_grad=True)\n",
        "\n",
        "# Learning rate\n",
        "learning_rate = 0.01\n",
        "\n",
        "# Forward pass function\n",
        "def forward(x):\n",
        "    return x * w\n",
        "\n",
        "# Loss function\n",
        "def loss(y_pred, y_true):\n",
        "    return ((y_pred - y_true)**2).mean()\n",
        "\n",
        "# Training loop\n",
        "for epoch in range(100):\n",
        "    y_pred = forward(X)\n",
        "    l = loss(y_pred, Y)\n",
        "    l.backward()\n",
        "\n",
        "    with torch.no_grad():\n",
        "        w -= learning_rate * w.grad\n",
        "\n",
        "    w.grad.zero_()\n",
        "\n",
        "    if epoch % 10 == 0:\n",
        "        print(f'epoch {epoch + 1}, loss {l:.4f}, weight {w:.4f}')\n",
        "\n",
        "# Test the result\n",
        "print(f'Result: after 100 epochs, prediction for 10 is {forward(torch.tensor(10.0)):.4f}')"
      ],
      "metadata": {
        "colab": {
          "base_uri": "https://localhost:8080/"
        },
        "id": "cAEahCGONZuL",
        "outputId": "c48829d3-f5e7-4a99-e85c-5cd4d9f9cb2c"
      },
      "execution_count": 4,
      "outputs": [
        {
          "output_type": "stream",
          "name": "stdout",
          "text": [
            "epoch 1, loss 30.0000, weight 0.3000\n",
            "epoch 11, loss 1.1628, weight 1.6653\n",
            "epoch 21, loss 0.0451, weight 1.9341\n",
            "epoch 31, loss 0.0017, weight 1.9870\n",
            "epoch 41, loss 0.0001, weight 1.9974\n",
            "epoch 51, loss 0.0000, weight 1.9995\n",
            "epoch 61, loss 0.0000, weight 1.9999\n",
            "epoch 71, loss 0.0000, weight 2.0000\n",
            "epoch 81, loss 0.0000, weight 2.0000\n",
            "epoch 91, loss 0.0000, weight 2.0000\n",
            "Result: after 100 epochs, prediction for 10 is 20.0000\n"
          ]
        }
      ]
    },
    {
      "cell_type": "code",
      "source": [
        "loss = nn.MSELoss()\n",
        "\n",
        "optimizer = optim.SGD([w], lr=learning_rate)\n",
        "\n",
        "# Training loop\n",
        "for epoch in range(100):\n",
        "    y_pred = forward(X)\n",
        "    l = loss(y_pred, Y)\n",
        "\n",
        "    l.backward()\n",
        "    optimizer.step()\n",
        "    optimizer.zero_grad()\n",
        "\n",
        "    if epoch % 10 == 0:\n",
        "        print(f'epoch {epoch + 1}, loss {l:.4f}, weight {w:.4f}')\n",
        "\n",
        "# Test the result\n",
        "print(f'Result: after 100 epochs, prediction for 10 is {forward(torch.tensor(10.0)):.4f}')"
      ],
      "metadata": {
        "colab": {
          "base_uri": "https://localhost:8080/"
        },
        "id": "ZETPUlr-Ngrm",
        "outputId": "fe7b29e9-0355-4e26-dc20-3e440eed97db"
      },
      "execution_count": 8,
      "outputs": [
        {
          "output_type": "stream",
          "name": "stdout",
          "text": [
            "epoch 1, loss 0.0000, weight 2.0000\n",
            "epoch 11, loss 0.0000, weight 2.0000\n",
            "epoch 21, loss 0.0000, weight 2.0000\n",
            "epoch 31, loss 0.0000, weight 2.0000\n",
            "epoch 41, loss 0.0000, weight 2.0000\n",
            "epoch 51, loss 0.0000, weight 2.0000\n",
            "epoch 61, loss 0.0000, weight 2.0000\n",
            "epoch 71, loss 0.0000, weight 2.0000\n",
            "epoch 81, loss 0.0000, weight 2.0000\n",
            "epoch 91, loss 0.0000, weight 2.0000\n",
            "Result: after 100 epochs, prediction for 10 is 20.0000\n"
          ]
        }
      ]
    },
    {
      "cell_type": "code",
      "source": [
        "#Linear Regression\n",
        "\n",
        "X = torch.tensor([[1], [2], [3], [4]], dtype=torch.float32)\n",
        "Y = torch.tensor([[2], [4], [6], [8]], dtype=torch.float32)\n",
        "\n",
        "X_test = torch.tensor([5], dtype=torch.float32)\n",
        "\n",
        "num_samples, num_features = X.shape\n",
        "\n",
        "print(f'Number of samples: {num_samples}')\n",
        "print(f'Number of features: {num_features}')\n",
        "\n",
        "# Define the model\n",
        "input_size = num_features\n",
        "output_size = 1\n",
        "\n",
        "model = nn.Linear(input_size, output_size)\n",
        "\n",
        "\n",
        "\n",
        "print(f'Result: Before epochs, prediction for 10 is {model(X_test).item():.4f}')"
      ],
      "metadata": {
        "colab": {
          "base_uri": "https://localhost:8080/"
        },
        "id": "4329A2i1OoER",
        "outputId": "4eb772aa-c5d7-4fc1-829e-36de58dd52c3"
      },
      "execution_count": 12,
      "outputs": [
        {
          "output_type": "stream",
          "name": "stdout",
          "text": [
            "Number of samples: 4\n",
            "Number of features: 1\n",
            "Result: Before epochs, prediction for 10 is -3.4915\n"
          ]
        }
      ]
    },
    {
      "cell_type": "code",
      "source": [
        "loss = nn.MSELoss()\n",
        "\n",
        "optimizer = optim.SGD(model.parameters(), lr=learning_rate)\n",
        "\n",
        "# Training loop\n",
        "for epoch in range(100):\n",
        "    y_pred = model(X)\n",
        "    l = loss(y_pred, Y)\n",
        "\n",
        "    l.backward()\n",
        "    optimizer.step()\n",
        "    optimizer.zero_grad()\n",
        "\n",
        "    if epoch % 10 == 0:\n",
        "        w, b = model.parameters()\n",
        "        print(f'epoch {epoch + 1}, loss {l:.4f}, weight {w[0][0].item():.4f}')\n",
        "\n",
        "# Test the result\n",
        "print(f'Result: after 100 epochs, prediction for 10 is {model(X_test).item():.4f}')"
      ],
      "metadata": {
        "colab": {
          "base_uri": "https://localhost:8080/"
        },
        "id": "phtfsfJHPhMi",
        "outputId": "7e241ffe-78ef-4d3d-a1eb-52147686c87a"
      },
      "execution_count": 15,
      "outputs": [
        {
          "output_type": "stream",
          "name": "stdout",
          "text": [
            "epoch 1, loss 0.0001, weight 1.9900\n",
            "epoch 11, loss 0.0001, weight 1.9903\n",
            "epoch 21, loss 0.0001, weight 1.9906\n",
            "epoch 31, loss 0.0001, weight 1.9909\n",
            "epoch 41, loss 0.0001, weight 1.9912\n",
            "epoch 51, loss 0.0001, weight 1.9914\n",
            "epoch 61, loss 0.0001, weight 1.9917\n",
            "epoch 71, loss 0.0001, weight 1.9919\n",
            "epoch 81, loss 0.0001, weight 1.9922\n",
            "epoch 91, loss 0.0001, weight 1.9924\n",
            "Result: after 100 epochs, prediction for 10 is 9.9848\n"
          ]
        }
      ]
    },
    {
      "cell_type": "code",
      "source": [
        "class LinearRegression(nn.Module):\n",
        "    def __init__(self, input_size,output_size) -> None:\n",
        "        super(LinearRegression,self).__init__()\n",
        "\n",
        "        self.linear = nn.Linear(input_size, output_size)\n",
        "\n",
        "    def forward(self, x):\n",
        "        return self.linear(x)\n",
        "\n",
        "model = LinearRegression(input_size, output_size)\n",
        "\n",
        "\n",
        "\n",
        "print(f'Result: Before epochs, prediction for 10 is {model(X_test).item():.4f}')\n",
        "\n",
        "loss = nn.MSELoss()\n",
        "\n",
        "optimizer = optim.SGD(model.parameters(), lr=learning_rate)\n",
        "\n",
        "# Training loop\n",
        "for epoch in range(100):\n",
        "    y_pred = model(X)\n",
        "    l = loss(y_pred, Y)\n",
        "\n",
        "    l.backward()\n",
        "    optimizer.step()\n",
        "    optimizer.zero_grad()\n",
        "\n",
        "    if epoch % 10 == 0:\n",
        "        w, b = model.parameters()\n",
        "        print(f'epoch {epoch + 1}, loss {l:.4f}, weight {w[0][0].item():.4f}')\n",
        "\n",
        "# Test the result\n",
        "print(f'Result: after 100 epochs, prediction for 10 is {model(X_test).item():.4f}')"
      ],
      "metadata": {
        "colab": {
          "base_uri": "https://localhost:8080/"
        },
        "id": "LduFL6L-RfSM",
        "outputId": "ad956d3d-c0d1-41a5-df5f-82d7632ffe9e"
      },
      "execution_count": 19,
      "outputs": [
        {
          "output_type": "stream",
          "name": "stdout",
          "text": [
            "Result: Before epochs, prediction for 10 is -0.2651\n",
            "epoch 1, loss 31.5608, weight 0.2522\n",
            "epoch 11, loss 0.8788, weight 1.5438\n",
            "epoch 21, loss 0.0813, weight 1.7567\n",
            "epoch 31, loss 0.0573, weight 1.7960\n",
            "epoch 41, loss 0.0534, weight 1.8072\n",
            "epoch 51, loss 0.0503, weight 1.8137\n",
            "epoch 61, loss 0.0474, weight 1.8193\n",
            "epoch 71, loss 0.0446, weight 1.8247\n",
            "epoch 81, loss 0.0420, weight 1.8299\n",
            "epoch 91, loss 0.0396, weight 1.8349\n",
            "Result: after 100 epochs, prediction for 10 is 9.6690\n"
          ]
        }
      ]
    },
    {
      "cell_type": "markdown",
      "source": [
        "#Linear Regression"
      ],
      "metadata": {
        "id": "ta_dYGMmhOI9"
      }
    },
    {
      "cell_type": "code",
      "source": [
        "import torch\n",
        "import torch.nn as nn\n",
        "from sklearn import datasets\n",
        "import matplotlib.pyplot as plt\n",
        "from sklearn.model_selection import train_test_split\n",
        "from sklearn.preprocessing import StandardScaler\n",
        "import numpy as np\n",
        "\n",
        "\n",
        "#Prepare the data\n",
        "X_numpy, Y_numpy = datasets.make_regression(n_samples=100, n_features=1, noise=20, random_state=42)\n",
        "\n",
        "X = torch.from_numpy(X_numpy.astype(np.float32))\n",
        "y = torch.from_numpy(Y_numpy.astype(np.float32))\n",
        "y = y.view(y.shape[0], 1)\n",
        "\n",
        "\n",
        "num_samples, num_features = X.shape\n",
        "output_size = 1\n",
        "learning_rate = 0.01\n",
        "iterations = 1000\n",
        "\n",
        "#model\n",
        "model = nn.Linear(num_features, output_size)\n",
        "\n",
        "\n",
        "#loss and optimizer\n",
        "loss = nn.MSELoss()\n",
        "optimizer = optim.SGD(model.parameters(),lr=learning_rate)\n",
        "\n",
        "for epoch in range(iterations):\n",
        "    y_pred = model(X)\n",
        "    l = loss(y_pred, y)\n",
        "    l.backward()\n",
        "    optimizer.step()\n",
        "    optimizer.zero_grad()\n",
        "\n",
        "    if epoch % 100 == 0:\n",
        "        print(f'epoch {epoch + 1}, loss {l:.4f}')\n",
        "\n",
        "#Detach input from our computational graph and then convert the tensor again into numpy\n",
        "predicted = model(X).detach().numpy()\n",
        "\n",
        "plt.plot(X_numpy,Y_numpy,'ro')\n",
        "plt.plot(X_numpy,predicted,'b')\n",
        "plt.show()"
      ],
      "metadata": {
        "colab": {
          "base_uri": "https://localhost:8080/",
          "height": 604
        },
        "id": "jYoS0ImMaxNK",
        "outputId": "9f418568-2603-4316-b860-727aa590e140"
      },
      "execution_count": 28,
      "outputs": [
        {
          "output_type": "stream",
          "name": "stdout",
          "text": [
            "epoch 1, loss 2105.8369\n",
            "epoch 101, loss 380.4950\n",
            "epoch 201, loss 315.0395\n",
            "epoch 301, loss 312.3373\n",
            "epoch 401, loss 312.2222\n",
            "epoch 501, loss 312.2172\n",
            "epoch 601, loss 312.2170\n",
            "epoch 701, loss 312.2170\n",
            "epoch 801, loss 312.2170\n",
            "epoch 901, loss 312.2170\n"
          ]
        },
        {
          "output_type": "display_data",
          "data": {
            "text/plain": [
              "<Figure size 640x480 with 1 Axes>"
            ],
            "image/png": "[encoded data removed]"
          },
          "metadata": {}
        }
      ]
    },
    {
      "cell_type": "code",
      "source": [
        "import torch\n",
        "import torch.nn as nn\n",
        "from sklearn import datasets\n",
        "import matplotlib.pyplot as plt\n",
        "from sklearn.model_selection import train_test_split\n",
        "from sklearn.preprocessing import StandardScaler\n",
        "import numpy as np\n",
        "\n",
        "\n",
        "#Prepare the data\n",
        "bc = datasets.load_breast_cancer()\n",
        "X, y = bc.data, bc.target\n",
        "\n",
        "num_samples, num_features = X.shape\n",
        "\n",
        "X_train, X_test, y_train, y_test = train_test_split(X, y, test_size=0.2, random_state=1234)\n",
        "\n",
        "sc = StandardScaler()\n",
        "X_train = sc.fit_transform(X_train)\n",
        "X_test = sc.transform(X_test)\n",
        "\n",
        "X_train = torch.from_numpy(X_train.astype(np.float32))\n",
        "X_test = torch.from_numpy(X_test.astype(np.float32))\n",
        "Y_train = torch.from_numpy(y_train.astype(np.float32))\n",
        "Y_test = torch.from_numpy(y_test.astype(np.float32))\n",
        "\n",
        "#Reshape the tensor using view (row,column)\n",
        "Y_train = Y_train.view(Y_train.shape[0], 1)\n",
        "Y_test = Y_test.view(Y_test.shape[0], 1)\n",
        "\n",
        "\n",
        "\n",
        "\n",
        "class LogisticRegression(nn.Module):\n",
        "    def __init__(self, n_input_features):\n",
        "        super(LogisticRegression, self).__init__()\n",
        "        self.linear = nn.Linear(n_input_features, 1)\n",
        "\n",
        "    def forward(self, x):\n",
        "        y_pred = torch.sigmoid(self.linear(x))\n",
        "        return y_pred\n",
        "\n",
        "\n",
        "\n",
        "#model\n",
        "model = LogisticRegression(num_features)\n",
        "\n",
        "\n",
        "#loss and optimizer\n",
        "loss = nn.BCELoss()\n",
        "optimizer = optim.SGD(model.parameters(),lr=learning_rate)\n",
        "\n",
        "for epoch in range(iterations):\n",
        "\n",
        "    #Forward pass\n",
        "    y_pred = model(X_train)\n",
        "    l = loss(y_pred, Y_train)\n",
        "\n",
        "    #backward pass\n",
        "    l.backward()\n",
        "\n",
        "    #Update weights\n",
        "    optimizer.step()\n",
        "\n",
        "    optimizer.zero_grad()\n",
        "\n",
        "    if epoch % 100 == 0:\n",
        "        print(f'epoch {epoch + 1}, loss {l:.4f}')\n",
        "\n",
        "\n",
        "with torch.no_grad():\n",
        "    y_predicted = model(X_test)\n",
        "    y_predicted_cls = y_predicted.round()\n",
        "    acc = y_predicted_cls.eq(Y_test).sum() / float(Y_test.shape[0])\n",
        "    print(f'accuracy: {acc:.4f}')"
      ],
      "metadata": {
        "colab": {
          "base_uri": "https://localhost:8080/"
        },
        "id": "c0at4pW5hi7C",
        "outputId": "dcaec907-72a1-4375-a1e5-80ab8a6ac163"
      },
      "execution_count": 33,
      "outputs": [
        {
          "output_type": "stream",
          "name": "stdout",
          "text": [
            "epoch 1, loss 0.9783\n",
            "epoch 101, loss 0.2405\n",
            "epoch 201, loss 0.1724\n",
            "epoch 301, loss 0.1435\n",
            "epoch 401, loss 0.1267\n",
            "epoch 501, loss 0.1153\n",
            "epoch 601, loss 0.1070\n",
            "epoch 701, loss 0.1006\n",
            "epoch 801, loss 0.0954\n",
            "epoch 901, loss 0.0912\n",
            "accuracy: 0.9298\n"
          ]
        }
      ]
    },
    {
      "cell_type": "markdown",
      "source": [
        "#Dataset and Data Loader Classes"
      ],
      "metadata": {
        "id": "zmR9J01boE7o"
      }
    },
    {
      "cell_type": "code",
      "source": [
        "import torch\n",
        "import torchvision\n",
        "from torch.utils.data import Dataset, DataLoader\n",
        "import numpy as np\n",
        "import math\n",
        "\n",
        "class WineDataset(Dataset):\n",
        "  def __init__(self):\n",
        "      #Loading Data\n",
        "      xy = np.loadtxt('/content/wine.csv',delimiter=',',dtype=np.float32,skiprows=1)\n",
        "      self.x = torch.from_numpy(xy[:,1:])\n",
        "      self.y = torch.from_numpy(xy[:,[0]])\n",
        "      self.n_samples = xy.shape[0]\n",
        "\n",
        "  def __getitem__(self, index):\n",
        "      return self.x[index], self.y[index]\n",
        "\n",
        "  def __len__(self):\n",
        "      return self.n_samples\n",
        "\n",
        "\n",
        "dataset = WineDataset()\n",
        "# first_data = dataset[0]\n",
        "# features, labels = first_data\n",
        "# print(features, labels)\n",
        "\n",
        "\n",
        "dataloader = DataLoader(dataset=dataset, batch_size=4, shuffle=True, num_workers=2)\n",
        "\n",
        "dataiter = next(iter(dataloader))\n",
        "data = dataiter\n",
        "features, labels = data\n",
        "print(features, labels)"
      ],
      "metadata": {
        "colab": {
          "base_uri": "https://localhost:8080/"
        },
        "id": "rbVfoHqVoEBt",
        "outputId": "eb90127d-d271-42d4-95d8-1c8a7df92800"
      },
      "execution_count": 37,
      "outputs": [
        {
          "output_type": "stream",
          "name": "stdout",
          "text": [
            "tensor([[1.3050e+01, 5.8000e+00, 2.1300e+00, 2.1500e+01, 8.6000e+01, 2.6200e+00,\n",
            "         2.6500e+00, 3.0000e-01, 2.0100e+00, 2.6000e+00, 7.3000e-01, 3.1000e+00,\n",
            "         3.8000e+02],\n",
            "        [1.3240e+01, 2.5900e+00, 2.8700e+00, 2.1000e+01, 1.1800e+02, 2.8000e+00,\n",
            "         2.6900e+00, 3.9000e-01, 1.8200e+00, 4.3200e+00, 1.0400e+00, 2.9300e+00,\n",
            "         7.3500e+02],\n",
            "        [1.3710e+01, 1.8600e+00, 2.3600e+00, 1.6600e+01, 1.0100e+02, 2.6100e+00,\n",
            "         2.8800e+00, 2.7000e-01, 1.6900e+00, 3.8000e+00, 1.1100e+00, 4.0000e+00,\n",
            "         1.0350e+03],\n",
            "        [1.3230e+01, 3.3000e+00, 2.2800e+00, 1.8500e+01, 9.8000e+01, 1.8000e+00,\n",
            "         8.3000e-01, 6.1000e-01, 1.8700e+00, 1.0520e+01, 5.6000e-01, 1.5100e+00,\n",
            "         6.7500e+02]]) tensor([[2.],\n",
            "        [1.],\n",
            "        [1.],\n",
            "        [3.]])\n"
          ]
        }
      ]
    },
    {
      "cell_type": "code",
      "source": [
        "num_epochs = 2\n",
        "total_samples = len(dataset)\n",
        "n_iterations = math.ceil(total_samples/4)\n",
        "print(total_samples, n_iterations)"
      ],
      "metadata": {
        "colab": {
          "base_uri": "https://localhost:8080/"
        },
        "id": "goRTPokdtClD",
        "outputId": "26ca9c7d-b7e4-43dc-cdc0-8befe9547091"
      },
      "execution_count": 38,
      "outputs": [
        {
          "output_type": "stream",
          "name": "stdout",
          "text": [
            "178 45\n"
          ]
        }
      ]
    },
    {
      "cell_type": "code",
      "source": [
        "for epoch in range(num_epochs):\n",
        "    for i, (inputs, labels) in enumerate(dataloader):\n",
        "      if (i+1) % 5 == 0:\n",
        "        print(f'epoch {epoch+1}/{num_epochs}, step {i+1}/{n_iterations}, inputs {inputs.shape}')"
      ],
      "metadata": {
        "colab": {
          "base_uri": "https://localhost:8080/"
        },
        "id": "ZOuK610-tZDo",
        "outputId": "5f58d73d-8985-4ade-eafb-53d6bb2b3861"
      },
      "execution_count": 39,
      "outputs": [
        {
          "output_type": "stream",
          "name": "stdout",
          "text": [
            "epoch 1/2, step 5/45, inputs torch.Size([4, 13])\n",
            "epoch 1/2, step 10/45, inputs torch.Size([4, 13])\n",
            "epoch 1/2, step 15/45, inputs torch.Size([4, 13])\n",
            "epoch 1/2, step 20/45, inputs torch.Size([4, 13])\n",
            "epoch 1/2, step 25/45, inputs torch.Size([4, 13])\n",
            "epoch 1/2, step 30/45, inputs torch.Size([4, 13])\n",
            "epoch 1/2, step 35/45, inputs torch.Size([4, 13])\n",
            "epoch 1/2, step 40/45, inputs torch.Size([4, 13])\n",
            "epoch 1/2, step 45/45, inputs torch.Size([2, 13])\n",
            "epoch 2/2, step 5/45, inputs torch.Size([4, 13])\n",
            "epoch 2/2, step 10/45, inputs torch.Size([4, 13])\n",
            "epoch 2/2, step 15/45, inputs torch.Size([4, 13])\n",
            "epoch 2/2, step 20/45, inputs torch.Size([4, 13])\n",
            "epoch 2/2, step 25/45, inputs torch.Size([4, 13])\n",
            "epoch 2/2, step 30/45, inputs torch.Size([4, 13])\n",
            "epoch 2/2, step 35/45, inputs torch.Size([4, 13])\n",
            "epoch 2/2, step 40/45, inputs torch.Size([4, 13])\n",
            "epoch 2/2, step 45/45, inputs torch.Size([2, 13])\n"
          ]
        }
      ]
    }
  ]
}