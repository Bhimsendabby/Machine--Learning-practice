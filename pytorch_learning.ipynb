{
  "nbformat": 4,
  "nbformat_minor": 0,
  "metadata": {
    "colab": {
      "provenance": [],
      "authorship_tag": "ABX9TyMXWglO0MjwSs/4iALHSxwC",
      "include_colab_link": true
    },
    "kernelspec": {
      "name": "python3",
      "display_name": "Python 3"
    },
    "language_info": {
      "name": "python"
    }
  },
  "cells": [
    {
      "cell_type": "markdown",
      "metadata": {
        "id": "view-in-github",
        "colab_type": "text"
      },
      "source": [
        "<a href=\"https://colab.research.google.com/github/Bhimsendabby/Machine--Learning-practice/blob/main/pytorch_learning.ipynb\" target=\"_parent\"><img src=\"https://colab.research.google.com/assets/colab-badge.svg\" alt=\"Open In Colab\"/></a>"
      ]
    },
    {
      "cell_type": "code",
      "source": [
        "import os\n",
        "import glob\n",
        "import time\n",
        "import numpy as np\n",
        "from PIL import Image\n",
        "from pathlib import Path\n",
        "from tqdm.notebook import tqdm\n",
        "import matplotlib.pyplot as plt\n",
        "from skimage.color import rgb2lab, lab2rgb\n",
        "\n",
        "import torch\n",
        "from torch import nn, optim\n",
        "from torchvision import transforms\n",
        "from torchvision.utils import make_grid\n",
        "from torch.utils.data import Dataset, DataLoader\n",
        "device = torch.device(\"cuda\" if torch.cuda.is_available() else \"cpu\")\n",
        "use_colab = None"
      ],
      "metadata": {
        "id": "A2RczZ9qNQfo"
      },
      "execution_count": 2,
      "outputs": []
    },
    {
      "cell_type": "code",
      "source": [
        "if torch.cuda.is_available():\n",
        "    device = torch.device(\"cuda:0\")\n",
        "    print(\"Running on the GPU\")\n",
        "else:\n",
        "    device = torch.device(\"cpu\")\n",
        "    print(\"Running on the CPU\")"
      ],
      "metadata": {
        "colab": {
          "base_uri": "https://localhost:8080/"
        },
        "id": "lzi6IEAGNYNg",
        "outputId": "c89136d6-42cf-4d71-a111-7551f66f8ec9"
      },
      "execution_count": 3,
      "outputs": [
        {
          "output_type": "stream",
          "name": "stdout",
          "text": [
            "Running on the CPU\n"
          ]
        }
      ]
    },
    {
      "cell_type": "code",
      "source": [
        "#For numpy gradient\n",
        "# X = np.array([1, 2, 3,4])\n",
        "# Y = np.array([2, 4, 6,8])\n",
        "# w =0.0\n",
        "\n",
        "learning_rate = 0.01\n",
        "\n",
        "# def forward(x):\n",
        "#     return x * 2\n",
        "\n",
        "# def loss(y_pred, y_true):\n",
        "#     return ((y_pred - y_true)**2).mean()\n",
        "\n",
        "\n",
        "#For numpy gradient\n",
        "# def loss_grad(x, y_pred, y_true):\n",
        "#     return np.dot(2 * x,(y_pred - y_true)).mean()\n",
        "\n",
        "#with numpy\n",
        "# for epoch in range(100):\n",
        "#     y_pred = forward(X)\n",
        "#     l = loss(y_pred, Y)\n",
        "#     grad = loss_grad(X, y_pred, Y)\n",
        "\n",
        "#     w = w - learning_rate * grad\n",
        "#     if epoch % 10 == 0:\n",
        "#         print(f'epoch {epoch + 1}, loss {l:.4f}, weight {w:.4f}')\n",
        "\n",
        "\n",
        "# print(f'Result: after 100 epochs{forward(10)}')\n",
        "\n",
        "\n",
        "#with torch\n",
        "\n",
        "import torch\n",
        "\n",
        "# Input and output tensors\n",
        "X = torch.tensor([1, 2, 3, 4], dtype=torch.float32)\n",
        "Y = torch.tensor([2, 4, 6, 8], dtype=torch.float32)\n",
        "\n",
        "# Initialize weight\n",
        "w = torch.tensor(0.0, dtype=torch.float32, requires_grad=True)\n",
        "\n",
        "# Learning rate\n",
        "learning_rate = 0.01\n",
        "\n",
        "# Forward pass function\n",
        "def forward(x):\n",
        "    return x * w\n",
        "\n",
        "# Loss function\n",
        "def loss(y_pred, y_true):\n",
        "    return ((y_pred - y_true)**2).mean()\n",
        "\n",
        "# Training loop\n",
        "for epoch in range(100):\n",
        "    y_pred = forward(X)\n",
        "    l = loss(y_pred, Y)\n",
        "    l.backward()\n",
        "\n",
        "    with torch.no_grad():\n",
        "        w -= learning_rate * w.grad\n",
        "\n",
        "    w.grad.zero_()\n",
        "\n",
        "    if epoch % 10 == 0:\n",
        "        print(f'epoch {epoch + 1}, loss {l:.4f}, weight {w:.4f}')\n",
        "\n",
        "# Test the result\n",
        "print(f'Result: after 100 epochs, prediction for 10 is {forward(torch.tensor(10.0)):.4f}')"
      ],
      "metadata": {
        "colab": {
          "base_uri": "https://localhost:8080/"
        },
        "id": "cAEahCGONZuL",
        "outputId": "c48829d3-f5e7-4a99-e85c-5cd4d9f9cb2c"
      },
      "execution_count": 4,
      "outputs": [
        {
          "output_type": "stream",
          "name": "stdout",
          "text": [
            "epoch 1, loss 30.0000, weight 0.3000\n",
            "epoch 11, loss 1.1628, weight 1.6653\n",
            "epoch 21, loss 0.0451, weight 1.9341\n",
            "epoch 31, loss 0.0017, weight 1.9870\n",
            "epoch 41, loss 0.0001, weight 1.9974\n",
            "epoch 51, loss 0.0000, weight 1.9995\n",
            "epoch 61, loss 0.0000, weight 1.9999\n",
            "epoch 71, loss 0.0000, weight 2.0000\n",
            "epoch 81, loss 0.0000, weight 2.0000\n",
            "epoch 91, loss 0.0000, weight 2.0000\n",
            "Result: after 100 epochs, prediction for 10 is 20.0000\n"
          ]
        }
      ]
    },
    {
      "cell_type": "code",
      "source": [
        "loss = nn.MSELoss()\n",
        "\n",
        "optimizer = optim.SGD([w], lr=learning_rate)\n",
        "\n",
        "# Training loop\n",
        "for epoch in range(100):\n",
        "    y_pred = forward(X)\n",
        "    l = loss(y_pred, Y)\n",
        "\n",
        "    l.backward()\n",
        "    optimizer.step()\n",
        "    optimizer.zero_grad()\n",
        "\n",
        "    if epoch % 10 == 0:\n",
        "        print(f'epoch {epoch + 1}, loss {l:.4f}, weight {w:.4f}')\n",
        "\n",
        "# Test the result\n",
        "print(f'Result: after 100 epochs, prediction for 10 is {forward(torch.tensor(10.0)):.4f}')"
      ],
      "metadata": {
        "colab": {
          "base_uri": "https://localhost:8080/"
        },
        "id": "ZETPUlr-Ngrm",
        "outputId": "fe7b29e9-0355-4e26-dc20-3e440eed97db"
      },
      "execution_count": 8,
      "outputs": [
        {
          "output_type": "stream",
          "name": "stdout",
          "text": [
            "epoch 1, loss 0.0000, weight 2.0000\n",
            "epoch 11, loss 0.0000, weight 2.0000\n",
            "epoch 21, loss 0.0000, weight 2.0000\n",
            "epoch 31, loss 0.0000, weight 2.0000\n",
            "epoch 41, loss 0.0000, weight 2.0000\n",
            "epoch 51, loss 0.0000, weight 2.0000\n",
            "epoch 61, loss 0.0000, weight 2.0000\n",
            "epoch 71, loss 0.0000, weight 2.0000\n",
            "epoch 81, loss 0.0000, weight 2.0000\n",
            "epoch 91, loss 0.0000, weight 2.0000\n",
            "Result: after 100 epochs, prediction for 10 is 20.0000\n"
          ]
        }
      ]
    },
    {
      "cell_type": "code",
      "source": [
        "#Linear Regression\n",
        "\n",
        "X = torch.tensor([[1], [2], [3], [4]], dtype=torch.float32)\n",
        "Y = torch.tensor([[2], [4], [6], [8]], dtype=torch.float32)\n",
        "\n",
        "X_test = torch.tensor([5], dtype=torch.float32)\n",
        "\n",
        "num_samples, num_features = X.shape\n",
        "\n",
        "print(f'Number of samples: {num_samples}')\n",
        "print(f'Number of features: {num_features}')\n",
        "\n",
        "# Define the model\n",
        "input_size = num_features\n",
        "output_size = 1\n",
        "\n",
        "model = nn.Linear(input_size, output_size)\n",
        "\n",
        "\n",
        "\n",
        "print(f'Result: Before epochs, prediction for 10 is {model(X_test).item():.4f}')"
      ],
      "metadata": {
        "colab": {
          "base_uri": "https://localhost:8080/"
        },
        "id": "4329A2i1OoER",
        "outputId": "4eb772aa-c5d7-4fc1-829e-36de58dd52c3"
      },
      "execution_count": 12,
      "outputs": [
        {
          "output_type": "stream",
          "name": "stdout",
          "text": [
            "Number of samples: 4\n",
            "Number of features: 1\n",
            "Result: Before epochs, prediction for 10 is -3.4915\n"
          ]
        }
      ]
    },
    {
      "cell_type": "code",
      "source": [
        "loss = nn.MSELoss()\n",
        "\n",
        "optimizer = optim.SGD(model.parameters(), lr=learning_rate)\n",
        "\n",
        "# Training loop\n",
        "for epoch in range(100):\n",
        "    y_pred = model(X)\n",
        "    l = loss(y_pred, Y)\n",
        "\n",
        "    l.backward()\n",
        "    optimizer.step()\n",
        "    optimizer.zero_grad()\n",
        "\n",
        "    if epoch % 10 == 0:\n",
        "        w, b = model.parameters()\n",
        "        print(f'epoch {epoch + 1}, loss {l:.4f}, weight {w[0][0].item():.4f}')\n",
        "\n",
        "# Test the result\n",
        "print(f'Result: after 100 epochs, prediction for 10 is {model(X_test).item():.4f}')"
      ],
      "metadata": {
        "colab": {
          "base_uri": "https://localhost:8080/"
        },
        "id": "phtfsfJHPhMi",
        "outputId": "7e241ffe-78ef-4d3d-a1eb-52147686c87a"
      },
      "execution_count": 15,
      "outputs": [
        {
          "output_type": "stream",
          "name": "stdout",
          "text": [
            "epoch 1, loss 0.0001, weight 1.9900\n",
            "epoch 11, loss 0.0001, weight 1.9903\n",
            "epoch 21, loss 0.0001, weight 1.9906\n",
            "epoch 31, loss 0.0001, weight 1.9909\n",
            "epoch 41, loss 0.0001, weight 1.9912\n",
            "epoch 51, loss 0.0001, weight 1.9914\n",
            "epoch 61, loss 0.0001, weight 1.9917\n",
            "epoch 71, loss 0.0001, weight 1.9919\n",
            "epoch 81, loss 0.0001, weight 1.9922\n",
            "epoch 91, loss 0.0001, weight 1.9924\n",
            "Result: after 100 epochs, prediction for 10 is 9.9848\n"
          ]
        }
      ]
    },
    {
      "cell_type": "code",
      "source": [
        "class LinearRegression(nn.Module):\n",
        "    def __init__(self, input_size,output_size) -> None:\n",
        "        super(LinearRegression,self).__init__()\n",
        "\n",
        "        self.linear = nn.Linear(input_size, output_size)\n",
        "\n",
        "    def forward(self, x):\n",
        "        return self.linear(x)\n",
        "\n",
        "model = LinearRegression(input_size, output_size)\n",
        "\n",
        "\n",
        "\n",
        "print(f'Result: Before epochs, prediction for 10 is {model(X_test).item():.4f}')\n",
        "\n",
        "loss = nn.MSELoss()\n",
        "\n",
        "optimizer = optim.SGD(model.parameters(), lr=learning_rate)\n",
        "\n",
        "# Training loop\n",
        "for epoch in range(100):\n",
        "    y_pred = model(X)\n",
        "    l = loss(y_pred, Y)\n",
        "\n",
        "    l.backward()\n",
        "    optimizer.step()\n",
        "    optimizer.zero_grad()\n",
        "\n",
        "    if epoch % 10 == 0:\n",
        "        w, b = model.parameters()\n",
        "        print(f'epoch {epoch + 1}, loss {l:.4f}, weight {w[0][0].item():.4f}')\n",
        "\n",
        "# Test the result\n",
        "print(f'Result: after 100 epochs, prediction for 10 is {model(X_test).item():.4f}')"
      ],
      "metadata": {
        "colab": {
          "base_uri": "https://localhost:8080/"
        },
        "id": "LduFL6L-RfSM",
        "outputId": "ad956d3d-c0d1-41a5-df5f-82d7632ffe9e"
      },
      "execution_count": 19,
      "outputs": [
        {
          "output_type": "stream",
          "name": "stdout",
          "text": [
            "Result: Before epochs, prediction for 10 is -0.2651\n",
            "epoch 1, loss 31.5608, weight 0.2522\n",
            "epoch 11, loss 0.8788, weight 1.5438\n",
            "epoch 21, loss 0.0813, weight 1.7567\n",
            "epoch 31, loss 0.0573, weight 1.7960\n",
            "epoch 41, loss 0.0534, weight 1.8072\n",
            "epoch 51, loss 0.0503, weight 1.8137\n",
            "epoch 61, loss 0.0474, weight 1.8193\n",
            "epoch 71, loss 0.0446, weight 1.8247\n",
            "epoch 81, loss 0.0420, weight 1.8299\n",
            "epoch 91, loss 0.0396, weight 1.8349\n",
            "Result: after 100 epochs, prediction for 10 is 9.6690\n"
          ]
        }
      ]
    }
  ]
}