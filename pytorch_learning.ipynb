{
  "nbformat": 4,
  "nbformat_minor": 0,
  "metadata": {
    "colab": {
      "provenance": [],
      "authorship_tag": "ABX9TyMnWFfPNPXhbTamWnDrfBwd",
      "include_colab_link": true
    },
    "kernelspec": {
      "name": "python3",
      "display_name": "Python 3"
    },
    "language_info": {
      "name": "python"
    }
  },
  "cells": [
    {
      "cell_type": "markdown",
      "metadata": {
        "id": "view-in-github",
        "colab_type": "text"
      },
      "source": [
        "<a href=\"https://colab.research.google.com/github/Bhimsendabby/Machine--Learning-practice/blob/main/pytorch_learning.ipynb\" target=\"_parent\"><img src=\"https://colab.research.google.com/assets/colab-badge.svg\" alt=\"Open In Colab\"/></a>"
      ]
    },
    {
      "cell_type": "code",
      "source": [
        "import os\n",
        "import glob\n",
        "import time\n",
        "import numpy as np\n",
        "from PIL import Image\n",
        "from pathlib import Path\n",
        "from tqdm.notebook import tqdm\n",
        "import matplotlib.pyplot as plt\n",
        "from skimage.color import rgb2lab, lab2rgb\n",
        "\n",
        "import torch\n",
        "from torch import nn, optim\n",
        "from torchvision import transforms\n",
        "from torchvision.utils import make_grid\n",
        "from torch.utils.data import Dataset, DataLoader\n",
        "device = torch.device(\"cuda\" if torch.cuda.is_available() else \"cpu\")\n",
        "use_colab = None"
      ],
      "metadata": {
        "id": "A2RczZ9qNQfo"
      },
      "execution_count": 2,
      "outputs": []
    },
    {
      "cell_type": "code",
      "source": [
        "if torch.cuda.is_available():\n",
        "    device = torch.device(\"cuda:0\")\n",
        "    print(\"Running on the GPU\")\n",
        "else:\n",
        "    device = torch.device(\"cpu\")\n",
        "    print(\"Running on the CPU\")"
      ],
      "metadata": {
        "colab": {
          "base_uri": "https://localhost:8080/"
        },
        "id": "lzi6IEAGNYNg",
        "outputId": "c89136d6-42cf-4d71-a111-7551f66f8ec9"
      },
      "execution_count": 3,
      "outputs": [
        {
          "output_type": "stream",
          "name": "stdout",
          "text": [
            "Running on the CPU\n"
          ]
        }
      ]
    },
    {
      "cell_type": "code",
      "source": [
        "#For numpy gradient\n",
        "# X = np.array([1, 2, 3,4])\n",
        "# Y = np.array([2, 4, 6,8])\n",
        "# w =0.0\n",
        "\n",
        "learning_rate = 0.01\n",
        "\n",
        "# def forward(x):\n",
        "#     return x * 2\n",
        "\n",
        "# def loss(y_pred, y_true):\n",
        "#     return ((y_pred - y_true)**2).mean()\n",
        "\n",
        "\n",
        "#For numpy gradient\n",
        "# def loss_grad(x, y_pred, y_true):\n",
        "#     return np.dot(2 * x,(y_pred - y_true)).mean()\n",
        "\n",
        "#with numpy\n",
        "# for epoch in range(100):\n",
        "#     y_pred = forward(X)\n",
        "#     l = loss(y_pred, Y)\n",
        "#     grad = loss_grad(X, y_pred, Y)\n",
        "\n",
        "#     w = w - learning_rate * grad\n",
        "#     if epoch % 10 == 0:\n",
        "#         print(f'epoch {epoch + 1}, loss {l:.4f}, weight {w:.4f}')\n",
        "\n",
        "\n",
        "# print(f'Result: after 100 epochs{forward(10)}')\n",
        "\n",
        "\n",
        "#with torch\n",
        "\n",
        "import torch\n",
        "\n",
        "# Input and output tensors\n",
        "X = torch.tensor([1, 2, 3, 4], dtype=torch.float32)\n",
        "Y = torch.tensor([2, 4, 6, 8], dtype=torch.float32)\n",
        "\n",
        "# Initialize weight\n",
        "w = torch.tensor(0.0, dtype=torch.float32, requires_grad=True)\n",
        "\n",
        "# Learning rate\n",
        "learning_rate = 0.01\n",
        "\n",
        "# Forward pass function\n",
        "def forward(x):\n",
        "    return x * w\n",
        "\n",
        "# Loss function\n",
        "def loss(y_pred, y_true):\n",
        "    return ((y_pred - y_true)**2).mean()\n",
        "\n",
        "# Training loop\n",
        "for epoch in range(100):\n",
        "    y_pred = forward(X)\n",
        "    l = loss(y_pred, Y)\n",
        "    l.backward()\n",
        "\n",
        "    with torch.no_grad():\n",
        "        w -= learning_rate * w.grad\n",
        "\n",
        "    w.grad.zero_()\n",
        "\n",
        "    if epoch % 10 == 0:\n",
        "        print(f'epoch {epoch + 1}, loss {l:.4f}, weight {w:.4f}')\n",
        "\n",
        "# Test the result\n",
        "print(f'Result: after 100 epochs, prediction for 10 is {forward(torch.tensor(10.0)):.4f}')"
      ],
      "metadata": {
        "colab": {
          "base_uri": "https://localhost:8080/"
        },
        "id": "cAEahCGONZuL",
        "outputId": "c48829d3-f5e7-4a99-e85c-5cd4d9f9cb2c"
      },
      "execution_count": 4,
      "outputs": [
        {
          "output_type": "stream",
          "name": "stdout",
          "text": [
            "epoch 1, loss 30.0000, weight 0.3000\n",
            "epoch 11, loss 1.1628, weight 1.6653\n",
            "epoch 21, loss 0.0451, weight 1.9341\n",
            "epoch 31, loss 0.0017, weight 1.9870\n",
            "epoch 41, loss 0.0001, weight 1.9974\n",
            "epoch 51, loss 0.0000, weight 1.9995\n",
            "epoch 61, loss 0.0000, weight 1.9999\n",
            "epoch 71, loss 0.0000, weight 2.0000\n",
            "epoch 81, loss 0.0000, weight 2.0000\n",
            "epoch 91, loss 0.0000, weight 2.0000\n",
            "Result: after 100 epochs, prediction for 10 is 20.0000\n"
          ]
        }
      ]
    },
    {
      "cell_type": "code",
      "source": [
        "loss = nn.MSELoss()\n",
        "\n",
        "optimizer = optim.SGD([w], lr=learning_rate)\n",
        "\n",
        "# Training loop\n",
        "for epoch in range(100):\n",
        "    y_pred = forward(X)\n",
        "    l = loss(y_pred, Y)\n",
        "\n",
        "    l.backward()\n",
        "    optimizer.step()\n",
        "    optimizer.zero_grad()\n",
        "\n",
        "    if epoch % 10 == 0:\n",
        "        print(f'epoch {epoch + 1}, loss {l:.4f}, weight {w:.4f}')\n",
        "\n",
        "# Test the result\n",
        "print(f'Result: after 100 epochs, prediction for 10 is {forward(torch.tensor(10.0)):.4f}')"
      ],
      "metadata": {
        "colab": {
          "base_uri": "https://localhost:8080/"
        },
        "id": "ZETPUlr-Ngrm",
        "outputId": "fe7b29e9-0355-4e26-dc20-3e440eed97db"
      },
      "execution_count": 8,
      "outputs": [
        {
          "output_type": "stream",
          "name": "stdout",
          "text": [
            "epoch 1, loss 0.0000, weight 2.0000\n",
            "epoch 11, loss 0.0000, weight 2.0000\n",
            "epoch 21, loss 0.0000, weight 2.0000\n",
            "epoch 31, loss 0.0000, weight 2.0000\n",
            "epoch 41, loss 0.0000, weight 2.0000\n",
            "epoch 51, loss 0.0000, weight 2.0000\n",
            "epoch 61, loss 0.0000, weight 2.0000\n",
            "epoch 71, loss 0.0000, weight 2.0000\n",
            "epoch 81, loss 0.0000, weight 2.0000\n",
            "epoch 91, loss 0.0000, weight 2.0000\n",
            "Result: after 100 epochs, prediction for 10 is 20.0000\n"
          ]
        }
      ]
    },
    {
      "cell_type": "code",
      "source": [
        "#Linear Regression\n",
        "\n",
        "X = torch.tensor([[1], [2], [3], [4]], dtype=torch.float32)\n",
        "Y = torch.tensor([[2], [4], [6], [8]], dtype=torch.float32)\n",
        "\n",
        "X_test = torch.tensor([5], dtype=torch.float32)\n",
        "\n",
        "num_samples, num_features = X.shape\n",
        "\n",
        "print(f'Number of samples: {num_samples}')\n",
        "print(f'Number of features: {num_features}')\n",
        "\n",
        "# Define the model\n",
        "input_size = num_features\n",
        "output_size = 1\n",
        "\n",
        "model = nn.Linear(input_size, output_size)\n",
        "\n",
        "\n",
        "\n",
        "print(f'Result: Before epochs, prediction for 10 is {model(X_test).item():.4f}')"
      ],
      "metadata": {
        "colab": {
          "base_uri": "https://localhost:8080/"
        },
        "id": "4329A2i1OoER",
        "outputId": "4eb772aa-c5d7-4fc1-829e-36de58dd52c3"
      },
      "execution_count": 12,
      "outputs": [
        {
          "output_type": "stream",
          "name": "stdout",
          "text": [
            "Number of samples: 4\n",
            "Number of features: 1\n",
            "Result: Before epochs, prediction for 10 is -3.4915\n"
          ]
        }
      ]
    },
    {
      "cell_type": "code",
      "source": [
        "loss = nn.MSELoss()\n",
        "\n",
        "optimizer = optim.SGD(model.parameters(), lr=learning_rate)\n",
        "\n",
        "# Training loop\n",
        "for epoch in range(100):\n",
        "    y_pred = model(X)\n",
        "    l = loss(y_pred, Y)\n",
        "\n",
        "    l.backward()\n",
        "    optimizer.step()\n",
        "    optimizer.zero_grad()\n",
        "\n",
        "    if epoch % 10 == 0:\n",
        "        w, b = model.parameters()\n",
        "        print(f'epoch {epoch + 1}, loss {l:.4f}, weight {w[0][0].item():.4f}')\n",
        "\n",
        "# Test the result\n",
        "print(f'Result: after 100 epochs, prediction for 10 is {model(X_test).item():.4f}')"
      ],
      "metadata": {
        "colab": {
          "base_uri": "https://localhost:8080/"
        },
        "id": "phtfsfJHPhMi",
        "outputId": "7e241ffe-78ef-4d3d-a1eb-52147686c87a"
      },
      "execution_count": 15,
      "outputs": [
        {
          "output_type": "stream",
          "name": "stdout",
          "text": [
            "epoch 1, loss 0.0001, weight 1.9900\n",
            "epoch 11, loss 0.0001, weight 1.9903\n",
            "epoch 21, loss 0.0001, weight 1.9906\n",
            "epoch 31, loss 0.0001, weight 1.9909\n",
            "epoch 41, loss 0.0001, weight 1.9912\n",
            "epoch 51, loss 0.0001, weight 1.9914\n",
            "epoch 61, loss 0.0001, weight 1.9917\n",
            "epoch 71, loss 0.0001, weight 1.9919\n",
            "epoch 81, loss 0.0001, weight 1.9922\n",
            "epoch 91, loss 0.0001, weight 1.9924\n",
            "Result: after 100 epochs, prediction for 10 is 9.9848\n"
          ]
        }
      ]
    },
    {
      "cell_type": "code",
      "source": [
        "class LinearRegression(nn.Module):\n",
        "    def __init__(self, input_size,output_size) -> None:\n",
        "        super(LinearRegression,self).__init__()\n",
        "\n",
        "        self.linear = nn.Linear(input_size, output_size)\n",
        "\n",
        "    def forward(self, x):\n",
        "        return self.linear(x)\n",
        "\n",
        "model = LinearRegression(input_size, output_size)\n",
        "\n",
        "\n",
        "\n",
        "print(f'Result: Before epochs, prediction for 10 is {model(X_test).item():.4f}')\n",
        "\n",
        "loss = nn.MSELoss()\n",
        "\n",
        "optimizer = optim.SGD(model.parameters(), lr=learning_rate)\n",
        "\n",
        "# Training loop\n",
        "for epoch in range(100):\n",
        "    y_pred = model(X)\n",
        "    l = loss(y_pred, Y)\n",
        "\n",
        "    l.backward()\n",
        "    optimizer.step()\n",
        "    optimizer.zero_grad()\n",
        "\n",
        "    if epoch % 10 == 0:\n",
        "        w, b = model.parameters()\n",
        "        print(f'epoch {epoch + 1}, loss {l:.4f}, weight {w[0][0].item():.4f}')\n",
        "\n",
        "# Test the result\n",
        "print(f'Result: after 100 epochs, prediction for 10 is {model(X_test).item():.4f}')"
      ],
      "metadata": {
        "colab": {
          "base_uri": "https://localhost:8080/"
        },
        "id": "LduFL6L-RfSM",
        "outputId": "ad956d3d-c0d1-41a5-df5f-82d7632ffe9e"
      },
      "execution_count": 19,
      "outputs": [
        {
          "output_type": "stream",
          "name": "stdout",
          "text": [
            "Result: Before epochs, prediction for 10 is -0.2651\n",
            "epoch 1, loss 31.5608, weight 0.2522\n",
            "epoch 11, loss 0.8788, weight 1.5438\n",
            "epoch 21, loss 0.0813, weight 1.7567\n",
            "epoch 31, loss 0.0573, weight 1.7960\n",
            "epoch 41, loss 0.0534, weight 1.8072\n",
            "epoch 51, loss 0.0503, weight 1.8137\n",
            "epoch 61, loss 0.0474, weight 1.8193\n",
            "epoch 71, loss 0.0446, weight 1.8247\n",
            "epoch 81, loss 0.0420, weight 1.8299\n",
            "epoch 91, loss 0.0396, weight 1.8349\n",
            "Result: after 100 epochs, prediction for 10 is 9.6690\n"
          ]
        }
      ]
    },
    {
      "cell_type": "markdown",
      "source": [
        "#Linear Regression"
      ],
      "metadata": {
        "id": "ta_dYGMmhOI9"
      }
    },
    {
      "cell_type": "code",
      "source": [
        "import torch\n",
        "import torch.nn as nn\n",
        "from sklearn import datasets\n",
        "import matplotlib.pyplot as plt\n",
        "from sklearn.model_selection import train_test_split\n",
        "from sklearn.preprocessing import StandardScaler\n",
        "import numpy as np\n",
        "\n",
        "\n",
        "#Prepare the data\n",
        "X_numpy, Y_numpy = datasets.make_regression(n_samples=100, n_features=1, noise=20, random_state=42)\n",
        "\n",
        "X = torch.from_numpy(X_numpy.astype(np.float32))\n",
        "y = torch.from_numpy(Y_numpy.astype(np.float32))\n",
        "y = y.view(y.shape[0], 1)\n",
        "\n",
        "\n",
        "num_samples, num_features = X.shape\n",
        "output_size = 1\n",
        "learning_rate = 0.01\n",
        "iterations = 1000\n",
        "\n",
        "#model\n",
        "model = nn.Linear(num_features, output_size)\n",
        "\n",
        "\n",
        "#loss and optimizer\n",
        "loss = nn.MSELoss()\n",
        "optimizer = optim.SGD(model.parameters(),lr=learning_rate)\n",
        "\n",
        "for epoch in range(iterations):\n",
        "    y_pred = model(X)\n",
        "    l = loss(y_pred, y)\n",
        "    l.backward()\n",
        "    optimizer.step()\n",
        "    optimizer.zero_grad()\n",
        "\n",
        "    if epoch % 100 == 0:\n",
        "        print(f'epoch {epoch + 1}, loss {l:.4f}')\n",
        "\n",
        "#Detach input from our computational graph and then convert the tensor again into numpy\n",
        "predicted = model(X).detach().numpy()\n",
        "\n",
        "plt.plot(X_numpy,Y_numpy,'ro')\n",
        "plt.plot(X_numpy,predicted,'b')\n",
        "plt.show()"
      ],
      "metadata": {
        "colab": {
          "base_uri": "https://localhost:8080/",
          "height": 604
        },
        "id": "jYoS0ImMaxNK",
        "outputId": "9f418568-2603-4316-b860-727aa590e140"
      },
      "execution_count": 28,
      "outputs": [
        {
          "output_type": "stream",
          "name": "stdout",
          "text": [
            "epoch 1, loss 2105.8369\n",
            "epoch 101, loss 380.4950\n",
            "epoch 201, loss 315.0395\n",
            "epoch 301, loss 312.3373\n",
            "epoch 401, loss 312.2222\n",
            "epoch 501, loss 312.2172\n",
            "epoch 601, loss 312.2170\n",
            "epoch 701, loss 312.2170\n",
            "epoch 801, loss 312.2170\n",
            "epoch 901, loss 312.2170\n"
          ]
        },
        {
          "output_type": "display_data",
          "data": {
            "text/plain": [
              "<Figure size 640x480 with 1 Axes>"
            ],
            "image/png": "[encoded data removed]"
          },
          "metadata": {}
        }
      ]
    },
    {
      "cell_type": "code",
      "source": [
        "import torch\n",
        "import torch.nn as nn\n",
        "from sklearn import datasets\n",
        "import matplotlib.pyplot as plt\n",
        "from sklearn.model_selection import train_test_split\n",
        "from sklearn.preprocessing import StandardScaler\n",
        "import numpy as np\n",
        "\n",
        "\n",
        "#Prepare the data\n",
        "bc = datasets.load_breast_cancer()\n",
        "X, y = bc.data, bc.target\n",
        "\n",
        "num_samples, num_features = X.shape\n",
        "\n",
        "X_train, X_test, y_train, y_test = train_test_split(X, y, test_size=0.2, random_state=1234)\n",
        "\n",
        "sc = StandardScaler()\n",
        "X_train = sc.fit_transform(X_train)\n",
        "X_test = sc.transform(X_test)\n",
        "\n",
        "X_train = torch.from_numpy(X_train.astype(np.float32))\n",
        "X_test = torch.from_numpy(X_test.astype(np.float32))\n",
        "Y_train = torch.from_numpy(y_train.astype(np.float32))\n",
        "Y_test = torch.from_numpy(y_test.astype(np.float32))\n",
        "\n",
        "#Reshape the tensor using view (row,column)\n",
        "Y_train = Y_train.view(Y_train.shape[0], 1)\n",
        "Y_test = Y_test.view(Y_test.shape[0], 1)\n",
        "\n",
        "\n",
        "\n",
        "\n",
        "class LogisticRegression(nn.Module):\n",
        "    def __init__(self, n_input_features):\n",
        "        super(LogisticRegression, self).__init__()\n",
        "        self.linear = nn.Linear(n_input_features, 1)\n",
        "\n",
        "    def forward(self, x):\n",
        "        y_pred = torch.sigmoid(self.linear(x))\n",
        "        return y_pred\n",
        "\n",
        "\n",
        "\n",
        "#model\n",
        "model = LogisticRegression(num_features)\n",
        "\n",
        "\n",
        "#loss and optimizer\n",
        "loss = nn.BCELoss()\n",
        "optimizer = optim.SGD(model.parameters(),lr=learning_rate)\n",
        "\n",
        "for epoch in range(iterations):\n",
        "\n",
        "    #Forward pass\n",
        "    y_pred = model(X_train)\n",
        "    l = loss(y_pred, Y_train)\n",
        "\n",
        "    #backward pass\n",
        "    l.backward()\n",
        "\n",
        "    #Update weights\n",
        "    optimizer.step()\n",
        "\n",
        "    optimizer.zero_grad()\n",
        "\n",
        "    if epoch % 100 == 0:\n",
        "        print(f'epoch {epoch + 1}, loss {l:.4f}')\n",
        "\n",
        "\n",
        "with torch.no_grad():\n",
        "    y_predicted = model(X_test)\n",
        "    y_predicted_cls = y_predicted.round()\n",
        "    acc = y_predicted_cls.eq(Y_test).sum() / float(Y_test.shape[0])\n",
        "    print(f'accuracy: {acc:.4f}')"
      ],
      "metadata": {
        "id": "c0at4pW5hi7C"
      },
      "execution_count": 44,
      "outputs": []
    },
    {
      "cell_type": "markdown",
      "source": [
        "#Dataset and Data Loader Classes"
      ],
      "metadata": {
        "id": "zmR9J01boE7o"
      }
    },
    {
      "cell_type": "code",
      "source": [
        "import torch\n",
        "import torchvision\n",
        "from torch.utils.data import Dataset, DataLoader\n",
        "import numpy as np\n",
        "import math\n",
        "\n",
        "class WineDataset(Dataset):\n",
        "  def __init__(self):\n",
        "      #Loading Data\n",
        "      xy = np.loadtxt('/content/wine.csv',delimiter=',',dtype=np.float32,skiprows=1)\n",
        "      self.x = torch.from_numpy(xy[:,1:])\n",
        "      self.y = torch.from_numpy(xy[:,[0]])\n",
        "      self.n_samples = xy.shape[0]\n",
        "\n",
        "  def __getitem__(self, index):\n",
        "      return self.x[index], self.y[index]\n",
        "\n",
        "  def __len__(self):\n",
        "      return self.n_samples\n",
        "\n",
        "\n",
        "dataset = WineDataset()\n",
        "# first_data = dataset[0]\n",
        "# features, labels = first_data\n",
        "# print(features, labels)\n",
        "\n",
        "\n",
        "dataloader = DataLoader(dataset=dataset, batch_size=4, shuffle=True, num_workers=2)\n",
        "\n",
        "dataiter = next(iter(dataloader))\n",
        "data = dataiter\n",
        "features, labels = data\n",
        "print(features, labels)"
      ],
      "metadata": {
        "colab": {
          "base_uri": "https://localhost:8080/"
        },
        "id": "rbVfoHqVoEBt",
        "outputId": "81264b3c-265a-48ba-e52c-1599d3508050"
      },
      "execution_count": 5,
      "outputs": [
        {
          "output_type": "stream",
          "name": "stdout",
          "text": [
            "tensor([[1.2450e+01, 3.0300e+00, 2.6400e+00, 2.7000e+01, 9.7000e+01, 1.9000e+00,\n",
            "         5.8000e-01, 6.3000e-01, 1.1400e+00, 7.5000e+00, 6.7000e-01, 1.7300e+00,\n",
            "         8.8000e+02],\n",
            "        [1.1030e+01, 1.5100e+00, 2.2000e+00, 2.1500e+01, 8.5000e+01, 2.4600e+00,\n",
            "         2.1700e+00, 5.2000e-01, 2.0100e+00, 1.9000e+00, 1.7100e+00, 2.8700e+00,\n",
            "         4.0700e+02],\n",
            "        [1.1820e+01, 1.7200e+00, 1.8800e+00, 1.9500e+01, 8.6000e+01, 2.5000e+00,\n",
            "         1.6400e+00, 3.7000e-01, 1.4200e+00, 2.0600e+00, 9.4000e-01, 2.4400e+00,\n",
            "         4.1500e+02],\n",
            "        [1.3720e+01, 1.4300e+00, 2.5000e+00, 1.6700e+01, 1.0800e+02, 3.4000e+00,\n",
            "         3.6700e+00, 1.9000e-01, 2.0400e+00, 6.8000e+00, 8.9000e-01, 2.8700e+00,\n",
            "         1.2850e+03]]) tensor([[3.],\n",
            "        [2.],\n",
            "        [2.],\n",
            "        [1.]])\n"
          ]
        }
      ]
    },
    {
      "cell_type": "code",
      "source": [
        "num_epochs = 2\n",
        "total_samples = len(dataset)\n",
        "n_iterations = math.ceil(total_samples/4)\n",
        "print(total_samples, n_iterations)"
      ],
      "metadata": {
        "colab": {
          "base_uri": "https://localhost:8080/"
        },
        "id": "goRTPokdtClD",
        "outputId": "26ca9c7d-b7e4-43dc-cdc0-8befe9547091"
      },
      "execution_count": 38,
      "outputs": [
        {
          "output_type": "stream",
          "name": "stdout",
          "text": [
            "178 45\n"
          ]
        }
      ]
    },
    {
      "cell_type": "code",
      "source": [
        "for epoch in range(num_epochs):\n",
        "    for i, (inputs, labels) in enumerate(dataloader):\n",
        "      if (i+1) % 5 == 0:\n",
        "        print(f'epoch {epoch+1}/{num_epochs}, step {i+1}/{n_iterations}, inputs {inputs.shape}')"
      ],
      "metadata": {
        "colab": {
          "base_uri": "https://localhost:8080/"
        },
        "id": "ZOuK610-tZDo",
        "outputId": "5f58d73d-8985-4ade-eafb-53d6bb2b3861"
      },
      "execution_count": 39,
      "outputs": [
        {
          "output_type": "stream",
          "name": "stdout",
          "text": [
            "epoch 1/2, step 5/45, inputs torch.Size([4, 13])\n",
            "epoch 1/2, step 10/45, inputs torch.Size([4, 13])\n",
            "epoch 1/2, step 15/45, inputs torch.Size([4, 13])\n",
            "epoch 1/2, step 20/45, inputs torch.Size([4, 13])\n",
            "epoch 1/2, step 25/45, inputs torch.Size([4, 13])\n",
            "epoch 1/2, step 30/45, inputs torch.Size([4, 13])\n",
            "epoch 1/2, step 35/45, inputs torch.Size([4, 13])\n",
            "epoch 1/2, step 40/45, inputs torch.Size([4, 13])\n",
            "epoch 1/2, step 45/45, inputs torch.Size([2, 13])\n",
            "epoch 2/2, step 5/45, inputs torch.Size([4, 13])\n",
            "epoch 2/2, step 10/45, inputs torch.Size([4, 13])\n",
            "epoch 2/2, step 15/45, inputs torch.Size([4, 13])\n",
            "epoch 2/2, step 20/45, inputs torch.Size([4, 13])\n",
            "epoch 2/2, step 25/45, inputs torch.Size([4, 13])\n",
            "epoch 2/2, step 30/45, inputs torch.Size([4, 13])\n",
            "epoch 2/2, step 35/45, inputs torch.Size([4, 13])\n",
            "epoch 2/2, step 40/45, inputs torch.Size([4, 13])\n",
            "epoch 2/2, step 45/45, inputs torch.Size([2, 13])\n"
          ]
        }
      ]
    },
    {
      "cell_type": "code",
      "source": [
        "class WineDataset(Dataset):\n",
        "  def __init__(self, transform):\n",
        "      #Loading Data\n",
        "      xy = np.loadtxt('/content/wine.csv',delimiter=',',dtype=np.float32,skiprows=1)\n",
        "      self.n_samples = xy.shape[0]\n",
        "      self.x = xy[:,1:]\n",
        "      self.y = xy[:,[0]]\n",
        "\n",
        "      self.transform = transform\n",
        "\n",
        "  def __getitem__(self, index):\n",
        "      sample = self.x[index], self.y[index]\n",
        "      if self.transform:\n",
        "        sample = self.transform(sample)\n",
        "      return sample\n",
        "\n",
        "  def __len__(self):\n",
        "      return self.n_samples\n",
        "\n",
        "\n",
        "class ToTensor:\n",
        "  def __call__(self, sample):\n",
        "    inputs, labels = sample\n",
        "    return torch.from_numpy(inputs), torch.from_numpy(labels)\n",
        "\n",
        "class MulTransform:\n",
        "  def __init__(self, factor):\n",
        "    self.factor = factor\n",
        "\n",
        "  def __call__(self, sample):\n",
        "    inputs, labels = sample\n",
        "    inputs *= self.factor\n",
        "    return inputs, labels\n",
        "\n",
        "# dataset = WineDataset(transform=ToTensor())\n",
        "# first_data = dataset[0]\n",
        "# features, labels = first_data\n",
        "# print(features, labels)\n",
        "\n",
        "compose = torchvision.transforms.Compose([ToTensor(),MulTransform(2)])\n",
        "dataset = WineDataset(transform=compose)\n",
        "first_data = dataset[0]\n",
        "features, labels = first_data\n",
        "print(features, labels)\n"
      ],
      "metadata": {
        "colab": {
          "base_uri": "https://localhost:8080/"
        },
        "id": "e-PATPKjb-j1",
        "outputId": "a262c7c2-39c7-4ba3-f54c-b33fadba9aff"
      },
      "execution_count": 9,
      "outputs": [
        {
          "output_type": "stream",
          "name": "stdout",
          "text": [
            "tensor([2.8460e+01, 3.4200e+00, 4.8600e+00, 3.1200e+01, 2.5400e+02, 5.6000e+00,\n",
            "        6.1200e+00, 5.6000e-01, 4.5800e+00, 1.1280e+01, 2.0800e+00, 7.8400e+00,\n",
            "        2.1300e+03]) tensor([1.])\n"
          ]
        }
      ]
    },
    {
      "cell_type": "code",
      "source": [
        "import torch\n",
        "from torch import nn, optim\n",
        "import numpy as np\n",
        "\n",
        "def softmax(x):\n",
        "  return np.exp(x)/np.sum(np.exp(x),axis=0)\n",
        "\n",
        "x = np.array([2.0,1.0,0.1])\n",
        "outputs = softmax(x)\n",
        "print('softmax numpy:',outputs)\n",
        "\n",
        "x = torch.tensor([2.0,1.0,0.1])\n",
        "outputs = torch.softmax(x, dim=0)\n",
        "print('softmax pytorch:',outputs)"
      ],
      "metadata": {
        "colab": {
          "base_uri": "https://localhost:8080/"
        },
        "id": "IIRgDPJWf4Rr",
        "outputId": "1bc2c850-54f5-43ab-c22f-36cacab0b2ed"
      },
      "execution_count": 13,
      "outputs": [
        {
          "output_type": "stream",
          "name": "stdout",
          "text": [
            "softmax numpy: [0.65900114 0.24243297 0.09856589]\n",
            "softmax pytorch: tensor([0.6590, 0.2424, 0.0986])\n"
          ]
        }
      ]
    },
    {
      "cell_type": "code",
      "source": [
        "loss = nn.CrossEntropyLoss()\n",
        "\n",
        "#Only the correct class label ( Total classes is 3 [0,1,2])\n",
        "Y = torch.tensor([0])\n",
        "\n",
        "# nsamples x nclasses = 1x3\n",
        "Y_pred_good = torch.tensor([[2.0,1.0,0.1]])\n",
        "Y_pred_bad = torch.tensor([[0.1,2.0,1.0]])\n",
        "\n",
        "l1 = loss(Y_pred_good, Y)\n",
        "l2 = loss(Y_pred_bad, Y)\n",
        "\n",
        "\n",
        "# See the result for zeroth index cross entropy loss is less that means it is correct class\n",
        "#because for correct class entropy loss decreses for incorrect it is incresing\n",
        "print(l1.item())\n",
        "print(l2.item())\n",
        "\n",
        "\n",
        "_, y_pred_good = torch.max(Y_pred_good, 1)\n",
        "_, y_pred_bad = torch.max(Y_pred_bad, 1)\n",
        "print(y_pred_good)\n",
        "print(y_pred_bad)"
      ],
      "metadata": {
        "colab": {
          "base_uri": "https://localhost:8080/"
        },
        "id": "mjENBzZLj5cG",
        "outputId": "9dbe45fd-4484-4fcc-cad8-b98143b05d8e"
      },
      "execution_count": 18,
      "outputs": [
        {
          "output_type": "stream",
          "name": "stdout",
          "text": [
            "0.4170299470424652\n",
            "2.3170299530029297\n",
            "tensor([0])\n",
            "tensor([1])\n"
          ]
        }
      ]
    },
    {
      "cell_type": "code",
      "source": [
        "#Select all 3 clasess\n",
        "Y = torch.tensor([2,0,1])\n",
        "\n",
        "# nsamples x nclasses = 1x3\n",
        "Y_pred_good = torch.tensor([[0.1,1.0,2.1],[2.0,1.0,0.1],[0.1,3.0,0.1]])\n",
        "Y_pred_bad = torch.tensor([[2.1,1.0,0.1],[0.1,1.0,2.1],[0.1,3.0,0.1]])\n",
        "\n",
        "l1 = loss(Y_pred_good, Y)\n",
        "l2 = loss(Y_pred_bad, Y)\n",
        "\n",
        "\n",
        "# See the result for zeroth index cross entropy loss is less that means it is correct class\n",
        "#because for correct class entropy loss decreses for incorrect it is incresing\n",
        "print(l1.item())\n",
        "print(l2.item())\n",
        "\n",
        "\n",
        "_, y_pred_good = torch.max(Y_pred_good, 1)\n",
        "_, y_pred_bad = torch.max(Y_pred_bad, 1)\n",
        "print(y_pred_good)\n",
        "print(y_pred_bad)"
      ],
      "metadata": {
        "colab": {
          "base_uri": "https://localhost:8080/"
        },
        "id": "swcyWWTFlTti",
        "outputId": "de1994a3-4619-4abf-a1f3-d58b322ab48b"
      },
      "execution_count": 19,
      "outputs": [
        {
          "output_type": "stream",
          "name": "stdout",
          "text": [
            "0.3018244206905365\n",
            "1.6241613626480103\n",
            "tensor([2, 0, 1])\n",
            "tensor([0, 2, 1])\n"
          ]
        }
      ]
    },
    {
      "cell_type": "code",
      "source": [
        "#Multiclass Problem\n",
        "\n",
        "class NeuralNet(nn.Module):\n",
        "  def __init__(self, input_size, hidden_size, num_classes):\n",
        "    super(NeuralNet, self).__init__()\n",
        "    self.linear1 = nn.Linear(input_size, hidden_size)\n",
        "    self.relu = nn.ReLU()\n",
        "    self.linear2 = nn.Linear(hidden_size, num_classes)\n",
        "\n",
        "  def forward(self, x):\n",
        "    out = self.linear1(x)\n",
        "    out = self.relu(out)\n",
        "    out = self.linear2(out)\n",
        "    return out\n",
        "\n",
        "\n",
        "model = NeuralNet(input_size=28*28, hidden_size=5, num_classes=10)\n",
        "\n",
        "criterion = nn.CrossEntropyLoss()\n",
        "optimizer = optim.SGD(model.parameters(), lr=1e-3)"
      ],
      "metadata": {
        "id": "aUxSKVtJmdpD"
      },
      "execution_count": 23,
      "outputs": []
    },
    {
      "cell_type": "code",
      "source": [
        "#Binary class Problem\n",
        "\n",
        "class NeuralNet2(nn.Module):\n",
        "  def __init__(self, input_size, hidden_size):\n",
        "    super(NeuralNet2, self).__init__()\n",
        "    self.linear1 = nn.Linear(input_size, hidden_size)\n",
        "    self.relu = nn.ReLU()\n",
        "    self.linear2 = nn.Linear(hidden_size, 1)\n",
        "\n",
        "  def forward(self, x):\n",
        "    out = self.linear1(x)\n",
        "    out = self.relu(out)\n",
        "    out = self.linear2(out)\n",
        "\n",
        "    y_pred = torch.sigmoid(out)\n",
        "    return out\n",
        "\n",
        "\n",
        "model = NeuralNet2(input_size=28*28, hidden_size=5)\n",
        "\n",
        "criterion = nn.BCELoss()\n",
        "optimizer = optim.SGD(model.parameters(), lr=1e-3)"
      ],
      "metadata": {
        "id": "XqhZOT-4nfa1"
      },
      "execution_count": 30,
      "outputs": []
    },
    {
      "cell_type": "code",
      "source": [
        "import torch\n",
        "import torchvision\n",
        "import torch.nn as nn\n",
        "import torchvision.transforms as transforms\n",
        "import torch.optim as optim\n",
        "import torch.nn.functional as F\n",
        "import matplotlib.pyplot as plt\n",
        "import numpy as np\n",
        "\n",
        "#device config\n",
        "device = torch.device('cuda' if torch.cuda.is_available() else 'cpu')\n",
        "\n",
        "#hyper parameters\n",
        "input_size = 784\n",
        "hidden_size = 100\n",
        "num_classes = 10\n",
        "num_epochs = 2\n",
        "batch_size = 100\n",
        "learning_rate = 0.001\n",
        "\n",
        "# MNIST\n",
        "train_dataset = torchvision.datasets.MNIST(root='/content/data', train=True, transform=transforms.ToTensor(), download=True)\n",
        "test_dataset = torchvision.datasets.MNIST(root='./content/data', train=False, transform=transforms.ToTensor(), download=True)\n",
        "\n",
        "\n",
        "train_loader = torch.utils.data.DataLoader(dataset=train_dataset, batch_size=batch_size, shuffle=True)\n",
        "test_loader = torch.utils.data.DataLoader(dataset=test_dataset, batch_size=batch_size, shuffle=False)"
      ],
      "metadata": {
        "id": "IF1PCfR9oURg"
      },
      "execution_count": 34,
      "outputs": []
    },
    {
      "cell_type": "code",
      "source": [
        "examples = iter(train_loader)\n",
        "samples, labels = next(examples)\n",
        "print(samples.shape, labels.shape)"
      ],
      "metadata": {
        "colab": {
          "base_uri": "https://localhost:8080/"
        },
        "id": "oVWXjH-Crua3",
        "outputId": "4f3de232-ad30-45f0-98b1-16b3af6cca6e"
      },
      "execution_count": 36,
      "outputs": [
        {
          "output_type": "stream",
          "name": "stdout",
          "text": [
            "torch.Size([100, 1, 28, 28]) torch.Size([100])\n"
          ]
        }
      ]
    },
    {
      "cell_type": "code",
      "source": [
        "for i in range(6):\n",
        "  plt.subplot(2,3,i+1)\n",
        "  plt.imshow(samples[i][0], cmap='gray')\n",
        "plt.show()"
      ],
      "metadata": {
        "colab": {
          "base_uri": "https://localhost:8080/",
          "height": 411
        },
        "id": "5O7aIYjisESG",
        "outputId": "1f1b9320-18f9-4736-90c3-6164613486e6"
      },
      "execution_count": 39,
      "outputs": [
        {
          "output_type": "display_data",
          "data": {
            "text/plain": [
              "<Figure size 640x480 with 6 Axes>"
            ],
            "image/png": "[encoded data removed]"
          },
          "metadata": {}
        }
      ]
    },
    {
      "cell_type": "code",
      "source": [
        "class NeuralNet(nn.Module):\n",
        "  def __init__(self, input_size, hidden_size,num_classes):\n",
        "    super(NeuralNet, self).__init__()\n",
        "    self.linear1 = nn.Linear(input_size, hidden_size)\n",
        "    self.relu = nn.ReLU()\n",
        "    self.linear2 = nn.Linear(hidden_size, num_classes)\n",
        "\n",
        "  def forward(self, x):\n",
        "    out = self.linear1(x)\n",
        "    out = self.relu(out)\n",
        "    out = self.linear2(out)\n",
        "    return out\n",
        "\n",
        "model = NeuralNet(input_size, hidden_size, num_classes).to(device)\n",
        "\n",
        "criterion = nn.CrossEntropyLoss()\n",
        "optimizer = optim.Adam(model.parameters(), lr=learning_rate)"
      ],
      "metadata": {
        "id": "wx2K4eYys66l"
      },
      "execution_count": 41,
      "outputs": []
    },
    {
      "cell_type": "code",
      "source": [
        "n_total_steps = len(train_loader)\n",
        "\n",
        "for epoch in range(num_epochs):\n",
        "  for i, (images, labels) in enumerate(train_loader):\n",
        "    images = images.reshape(-1, 28*28).to(device)\n",
        "    labels = labels.to(device)\n",
        "\n",
        "    #forward\n",
        "    outputs = model(images)\n",
        "    loss = criterion(outputs, labels)\n",
        "\n",
        "    #backward\n",
        "    optimizer.zero_grad()\n",
        "    loss.backward()\n",
        "    optimizer.step()\n",
        "\n",
        "    if (i+1) % 100 == 0:\n",
        "      print(f'epoch {epoch+1}/{num_epochs}, step {i+1}/{n_total_steps}, loss {loss.item():.4f}')\n"
      ],
      "metadata": {
        "colab": {
          "base_uri": "https://localhost:8080/"
        },
        "id": "l11uR786tiCD",
        "outputId": "56cd6690-2675-4df5-8949-a5713c0fe864"
      },
      "execution_count": 42,
      "outputs": [
        {
          "output_type": "stream",
          "name": "stdout",
          "text": [
            "600\n"
          ]
        }
      ]
    }
  ]
}