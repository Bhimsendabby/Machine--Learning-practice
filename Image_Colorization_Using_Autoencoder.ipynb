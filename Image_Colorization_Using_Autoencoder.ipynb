{
  "nbformat": 4,
  "nbformat_minor": 0,
  "metadata": {
    "colab": {
      "provenance": [],
      "authorship_tag": "ABX9TyOqFfiKCkJOp39BK49/AGLl",
      "include_colab_link": true
    },
    "kernelspec": {
      "name": "python3",
      "display_name": "Python 3"
    },
    "language_info": {
      "name": "python"
    }
  },
  "cells": [
    {
      "cell_type": "markdown",
      "metadata": {
        "id": "view-in-github",
        "colab_type": "text"
      },
      "source": [
        "<a href=\"https://colab.research.google.com/github/Bhimsendabby/Machine--Learning-practice/blob/main/Image_Colorization_Using_Autoencoder.ipynb\" target=\"_parent\"><img src=\"https://colab.research.google.com/assets/colab-badge.svg\" alt=\"Open In Colab\"/></a>"
      ]
    },
    {
      "cell_type": "markdown",
      "source": [
        "# Autoencoder Image Colorization\n",
        "\n",
        "This document provides a step-by-step guide to building an autoencoder using the MNIST dataset. The autoencoder is a type of neural network that learns to compress (encode) the data and then reconstruct (decode) it back to the original form.\n",
        "\n",
        "## Table of Contents\n",
        "\n",
        "1. [Introduction](#introduction)\n",
        "2. [Setup & Importing Modules](#setup)\n",
        "3. [Loading Dataset & Data Preprocessing](#data-preprocessing)\n",
        "4. [Building the Autoencoder](#building-the-autoencoder)\n",
        "5. [Training the Autoencoder](#training-the-autoencoder)\n",
        "6. [Evaluating the Autoencoder](#evaluating-the-autoencoder)\n",
        "7. [Conclusion](#conclusion)\n",
        "\n",
        "## Introduction\n",
        "\n",
        "An autoencoder is a type of artificial neural network used to learn efficient codings of unlabeled data (unsupervised learning). The goal of an autoencoder is to learn a representation (encoding) for a set of data, typically for the purpose of dimensionality reduction.\n",
        "\n",
        "## Setup\n",
        "\n",
        "First, ensure you have the necessary libraries installed. You can install them using pip if you haven't already.\n",
        "\n",
        "```bash\n",
        "pip install tensorflow keras numpy matplotlib"
      ],
      "metadata": {
        "id": "HoL2mktN5wiG"
      }
    },
    {
      "cell_type": "code",
      "execution_count": 1,
      "metadata": {
        "id": "W8KZB6LA1IkA"
      },
      "outputs": [],
      "source": [
        "#Importing all the required libraries\n",
        "import torch\n",
        "import torch.utils.data\n",
        "from torch.utils.data import DataLoader,dataset\n",
        "import torchvision\n",
        "from torchvision import transforms,datasets\n",
        "import torch.nn as nn\n",
        "import torch.nn.functional as F\n",
        "import torch.optim as optim\n",
        "import matplotlib.pyplot as plt\n",
        "import numpy as np\n",
        "import time\n",
        "\n",
        "from torch.utils.data import DataLoader\n",
        "from torch.utils.data import SubsetRandomSampler\n",
        "from torch.utils.data import sampler\n",
        "import matplotlib.colors as mcolors\n",
        "\n",
        "device = torch.device('cuda' if torch.cuda.is_available() else 'cpu')"
      ]
    },
    {
      "cell_type": "code",
      "source": [],
      "metadata": {
        "id": "z3kd_wOx5lu5"
      },
      "execution_count": null,
      "outputs": []
    }
  ]
}