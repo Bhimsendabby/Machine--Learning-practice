{
  "nbformat": 4,
  "nbformat_minor": 0,
  "metadata": {
    "colab": {
      "provenance": [],
      "gpuType": "T4",
      "authorship_tag": "ABX9TyNjtAS9DHsOkYmTnqO09yd2",
      "include_colab_link": true
    },
    "kernelspec": {
      "name": "python3",
      "display_name": "Python 3"
    },
    "language_info": {
      "name": "python"
    },
    "accelerator": "GPU"
  },
  "cells": [
    {
      "cell_type": "markdown",
      "metadata": {
        "id": "view-in-github",
        "colab_type": "text"
      },
      "source": [
        "<a href=\"https://colab.research.google.com/github/Bhimsendabby/Machine--Learning-practice/blob/main/Autocoder_pytorch.ipynb\" target=\"_parent\"><img src=\"https://colab.research.google.com/assets/colab-badge.svg\" alt=\"Open In Colab\"/></a>"
      ]
    },
    {
      "cell_type": "markdown",
      "source": [
        "# Autoencoder with MNIST Dataset\n",
        "\n",
        "This document provides a step-by-step guide to building an autoencoder using the MNIST dataset. The autoencoder is a type of neural network that learns to compress (encode) the data and then reconstruct (decode) it back to the original form.\n",
        "\n",
        "## Table of Contents\n",
        "\n",
        "1. [Introduction](#introduction)\n",
        "2. [Setup & Importing Modules](#setup)\n",
        "3. [Loading Dataset & Data Preprocessing](#data-preprocessing)\n",
        "4. [Building the Autoencoder](#building-the-autoencoder)\n",
        "5. [Training the Autoencoder](#training-the-autoencoder)\n",
        "6. [Evaluating the Autoencoder](#evaluating-the-autoencoder)\n",
        "7. [Conclusion](#conclusion)\n",
        "\n",
        "## Introduction\n",
        "\n",
        "An autoencoder is a type of artificial neural network used to learn efficient codings of unlabeled data (unsupervised learning). The goal of an autoencoder is to learn a representation (encoding) for a set of data, typically for the purpose of dimensionality reduction.\n",
        "\n",
        "## Setup\n",
        "\n",
        "First, ensure you have the necessary libraries installed. You can install them using pip if you haven't already.\n",
        "\n",
        "```bash\n",
        "pip install tensorflow keras numpy matplotlib\n"
      ],
      "metadata": {
        "id": "WWFshQfyA50M"
      }
    },
    {
      "cell_type": "markdown",
      "source": [
        "Ref:- https://www.geeksforgeeks.org/implementing-an-autoencoder-in-pytorch/?ref=lbp"
      ],
      "metadata": {
        "id": "0YviPr0BAzVa"
      }
    },
    {
      "cell_type": "code",
      "source": [
        "from google.colab import drive\n",
        "drive.mount('/content/drive')"
      ],
      "metadata": {
        "colab": {
          "base_uri": "https://localhost:8080/"
        },
        "id": "nOOG6fvUYRa0",
        "outputId": "ecbd8003-ea67-444e-89be-89888bf2d283"
      },
      "execution_count": 1,
      "outputs": [
        {
          "output_type": "stream",
          "name": "stdout",
          "text": [
            "Mounted at /content/drive\n"
          ]
        }
      ]
    },
    {
      "cell_type": "markdown",
      "source": [
        "# Setup & Importing Modules"
      ],
      "metadata": {
        "id": "-jwje_Z-8RNH"
      }
    },
    {
      "cell_type": "code",
      "source": [
        "#Importing all the required libraries\n",
        "import torch\n",
        "import torch.utils.data\n",
        "from torch.utils.data import DataLoader,dataset\n",
        "import torchvision\n",
        "from torchvision import transforms,datasets\n",
        "import torch.nn as nn\n",
        "import torch.nn.functional as F\n",
        "import torch.optim as optim\n",
        "import matplotlib.pyplot as plt\n",
        "import numpy as np\n",
        "import time\n",
        "\n",
        "from torch.utils.data import DataLoader\n",
        "from torch.utils.data import SubsetRandomSampler\n",
        "from torch.utils.data import sampler\n",
        "import matplotlib.colors as mcolors\n",
        "\n",
        "device = torch.device('cuda' if torch.cuda.is_available() else 'cpu')"
      ],
      "metadata": {
        "id": "-dl7DrD98Unp"
      },
      "execution_count": 22,
      "outputs": []
    },
    {
      "cell_type": "code",
      "source": [
        "device"
      ],
      "metadata": {
        "colab": {
          "base_uri": "https://localhost:8080/"
        },
        "id": "MJXcDOA9EBNf",
        "outputId": "a577ad9f-fcd0-4eb3-8775-fe118ac4f3eb"
      },
      "execution_count": 23,
      "outputs": [
        {
          "output_type": "execute_result",
          "data": {
            "text/plain": [
              "device(type='cuda')"
            ]
          },
          "metadata": {},
          "execution_count": 23
        }
      ]
    },
    {
      "cell_type": "markdown",
      "source": [
        "# Hyperparameters"
      ],
      "metadata": {
        "id": "K7s1ZzH49r5D"
      }
    },
    {
      "cell_type": "code",
      "source": [
        "#Batch size for iterating images in batching\n",
        "RANDOM_SEED = 49\n",
        "LEARNING_RATE = 0.0005\n",
        "BATCH_SIZE = 32\n",
        "NUM_EPOCHS = 50\n",
        "NUM_CLASSES = 10\n",
        "\n",
        "model_path = '/content/drive/MyDrive/models/Conv_autoencoder.pth'\n",
        "model_path2 = '/content/drive/MyDrive/models/Conv_autoencoder_2.pth'"
      ],
      "metadata": {
        "id": "JRFfAFDE9xVF"
      },
      "execution_count": 15,
      "outputs": []
    },
    {
      "cell_type": "markdown",
      "source": [
        "# Loading Dataset & Data Preprocessing"
      ],
      "metadata": {
        "id": "oqutV88692nv"
      }
    },
    {
      "cell_type": "code",
      "source": [
        "# Downloading MNIST Dataset and saving in the root directory\n",
        "# Using Transform for converting images into torch tensors\n",
        "train_dataset = datasets.MNIST(root='/content/mnist/train',train=True,transform=transforms.ToTensor(),download=True)\n",
        "valid_dataset = datasets.MNIST(root='/content/mnist/valid',train=True,transform=transforms.ToTensor(),download=True)\n",
        "test_dataset = datasets.MNIST(root='/content/mnist/test',train=False,transform=transforms.ToTensor(),download=True)"
      ],
      "metadata": {
        "colab": {
          "base_uri": "https://localhost:8080/"
        },
        "id": "IQkz-L7V8ts7",
        "outputId": "fd94b238-4eba-4201-db2b-00b39151249c"
      },
      "execution_count": 5,
      "outputs": [
        {
          "output_type": "stream",
          "name": "stdout",
          "text": [
            "Downloading http://yann.lecun.com/exdb/mnist/train-images-idx3-ubyte.gz\n",
            "Failed to download (trying next):\n",
            "HTTP Error 403: Forbidden\n",
            "\n",
            "Downloading https://ossci-datasets.s3.amazonaws.com/mnist/train-images-idx3-ubyte.gz\n",
            "Downloading https://ossci-datasets.s3.amazonaws.com/mnist/train-images-idx3-ubyte.gz to /content/mnist/train/MNIST/raw/train-images-idx3-ubyte.gz\n"
          ]
        },
        {
          "output_type": "stream",
          "name": "stderr",
          "text": [
            "100%|██████████| 9912422/9912422 [00:00<00:00, 18077653.77it/s]\n"
          ]
        },
        {
          "output_type": "stream",
          "name": "stdout",
          "text": [
            "Extracting /content/mnist/train/MNIST/raw/train-images-idx3-ubyte.gz to /content/mnist/train/MNIST/raw\n",
            "\n",
            "Downloading http://yann.lecun.com/exdb/mnist/train-labels-idx1-ubyte.gz\n",
            "Failed to download (trying next):\n",
            "HTTP Error 403: Forbidden\n",
            "\n",
            "Downloading https://ossci-datasets.s3.amazonaws.com/mnist/train-labels-idx1-ubyte.gz\n",
            "Downloading https://ossci-datasets.s3.amazonaws.com/mnist/train-labels-idx1-ubyte.gz to /content/mnist/train/MNIST/raw/train-labels-idx1-ubyte.gz\n"
          ]
        },
        {
          "output_type": "stream",
          "name": "stderr",
          "text": [
            "100%|██████████| 28881/28881 [00:00<00:00, 499475.08it/s]\n"
          ]
        },
        {
          "output_type": "stream",
          "name": "stdout",
          "text": [
            "Extracting /content/mnist/train/MNIST/raw/train-labels-idx1-ubyte.gz to /content/mnist/train/MNIST/raw\n",
            "\n",
            "Downloading http://yann.lecun.com/exdb/mnist/t10k-images-idx3-ubyte.gz\n",
            "Failed to download (trying next):\n",
            "HTTP Error 403: Forbidden\n",
            "\n",
            "Downloading https://ossci-datasets.s3.amazonaws.com/mnist/t10k-images-idx3-ubyte.gz\n",
            "Downloading https://ossci-datasets.s3.amazonaws.com/mnist/t10k-images-idx3-ubyte.gz to /content/mnist/train/MNIST/raw/t10k-images-idx3-ubyte.gz\n"
          ]
        },
        {
          "output_type": "stream",
          "name": "stderr",
          "text": [
            "100%|██████████| 1648877/1648877 [00:00<00:00, 4031799.83it/s]\n"
          ]
        },
        {
          "output_type": "stream",
          "name": "stdout",
          "text": [
            "Extracting /content/mnist/train/MNIST/raw/t10k-images-idx3-ubyte.gz to /content/mnist/train/MNIST/raw\n",
            "\n",
            "Downloading http://yann.lecun.com/exdb/mnist/t10k-labels-idx1-ubyte.gz\n",
            "Failed to download (trying next):\n",
            "HTTP Error 403: Forbidden\n",
            "\n",
            "Downloading https://ossci-datasets.s3.amazonaws.com/mnist/t10k-labels-idx1-ubyte.gz\n",
            "Downloading https://ossci-datasets.s3.amazonaws.com/mnist/t10k-labels-idx1-ubyte.gz to /content/mnist/train/MNIST/raw/t10k-labels-idx1-ubyte.gz\n"
          ]
        },
        {
          "output_type": "stream",
          "name": "stderr",
          "text": [
            "100%|██████████| 4542/4542 [00:00<00:00, 12632976.64it/s]\n"
          ]
        },
        {
          "output_type": "stream",
          "name": "stdout",
          "text": [
            "Extracting /content/mnist/train/MNIST/raw/t10k-labels-idx1-ubyte.gz to /content/mnist/train/MNIST/raw\n",
            "\n",
            "Downloading http://yann.lecun.com/exdb/mnist/train-images-idx3-ubyte.gz\n",
            "Failed to download (trying next):\n",
            "HTTP Error 403: Forbidden\n",
            "\n",
            "Downloading https://ossci-datasets.s3.amazonaws.com/mnist/train-images-idx3-ubyte.gz\n",
            "Downloading https://ossci-datasets.s3.amazonaws.com/mnist/train-images-idx3-ubyte.gz to /content/mnist/valid/MNIST/raw/train-images-idx3-ubyte.gz\n"
          ]
        },
        {
          "output_type": "stream",
          "name": "stderr",
          "text": [
            "100%|██████████| 9912422/9912422 [00:00<00:00, 18051939.74it/s]\n"
          ]
        },
        {
          "output_type": "stream",
          "name": "stdout",
          "text": [
            "Extracting /content/mnist/valid/MNIST/raw/train-images-idx3-ubyte.gz to /content/mnist/valid/MNIST/raw\n",
            "\n",
            "Downloading http://yann.lecun.com/exdb/mnist/train-labels-idx1-ubyte.gz\n",
            "Failed to download (trying next):\n",
            "HTTP Error 403: Forbidden\n",
            "\n",
            "Downloading https://ossci-datasets.s3.amazonaws.com/mnist/train-labels-idx1-ubyte.gz\n",
            "Downloading https://ossci-datasets.s3.amazonaws.com/mnist/train-labels-idx1-ubyte.gz to /content/mnist/valid/MNIST/raw/train-labels-idx1-ubyte.gz\n"
          ]
        },
        {
          "output_type": "stream",
          "name": "stderr",
          "text": [
            "100%|██████████| 28881/28881 [00:00<00:00, 497062.79it/s]\n"
          ]
        },
        {
          "output_type": "stream",
          "name": "stdout",
          "text": [
            "Extracting /content/mnist/valid/MNIST/raw/train-labels-idx1-ubyte.gz to /content/mnist/valid/MNIST/raw\n",
            "\n",
            "Downloading http://yann.lecun.com/exdb/mnist/t10k-images-idx3-ubyte.gz\n",
            "Failed to download (trying next):\n",
            "HTTP Error 403: Forbidden\n",
            "\n",
            "Downloading https://ossci-datasets.s3.amazonaws.com/mnist/t10k-images-idx3-ubyte.gz\n",
            "Downloading https://ossci-datasets.s3.amazonaws.com/mnist/t10k-images-idx3-ubyte.gz to /content/mnist/valid/MNIST/raw/t10k-images-idx3-ubyte.gz\n"
          ]
        },
        {
          "output_type": "stream",
          "name": "stderr",
          "text": [
            "100%|██████████| 1648877/1648877 [00:00<00:00, 4467898.52it/s]\n"
          ]
        },
        {
          "output_type": "stream",
          "name": "stdout",
          "text": [
            "Extracting /content/mnist/valid/MNIST/raw/t10k-images-idx3-ubyte.gz to /content/mnist/valid/MNIST/raw\n",
            "\n",
            "Downloading http://yann.lecun.com/exdb/mnist/t10k-labels-idx1-ubyte.gz\n",
            "Failed to download (trying next):\n",
            "HTTP Error 403: Forbidden\n",
            "\n",
            "Downloading https://ossci-datasets.s3.amazonaws.com/mnist/t10k-labels-idx1-ubyte.gz\n",
            "Downloading https://ossci-datasets.s3.amazonaws.com/mnist/t10k-labels-idx1-ubyte.gz to /content/mnist/valid/MNIST/raw/t10k-labels-idx1-ubyte.gz\n"
          ]
        },
        {
          "output_type": "stream",
          "name": "stderr",
          "text": [
            "100%|██████████| 4542/4542 [00:00<00:00, 2879028.07it/s]\n"
          ]
        },
        {
          "output_type": "stream",
          "name": "stdout",
          "text": [
            "Extracting /content/mnist/valid/MNIST/raw/t10k-labels-idx1-ubyte.gz to /content/mnist/valid/MNIST/raw\n",
            "\n",
            "Downloading http://yann.lecun.com/exdb/mnist/train-images-idx3-ubyte.gz\n",
            "Failed to download (trying next):\n",
            "HTTP Error 403: Forbidden\n",
            "\n",
            "Downloading https://ossci-datasets.s3.amazonaws.com/mnist/train-images-idx3-ubyte.gz\n",
            "Downloading https://ossci-datasets.s3.amazonaws.com/mnist/train-images-idx3-ubyte.gz to /content/mnist/test/MNIST/raw/train-images-idx3-ubyte.gz\n"
          ]
        },
        {
          "output_type": "stream",
          "name": "stderr",
          "text": [
            "100%|██████████| 9912422/9912422 [00:00<00:00, 16340746.09it/s]\n"
          ]
        },
        {
          "output_type": "stream",
          "name": "stdout",
          "text": [
            "Extracting /content/mnist/test/MNIST/raw/train-images-idx3-ubyte.gz to /content/mnist/test/MNIST/raw\n",
            "\n",
            "Downloading http://yann.lecun.com/exdb/mnist/train-labels-idx1-ubyte.gz\n",
            "Failed to download (trying next):\n",
            "HTTP Error 403: Forbidden\n",
            "\n",
            "Downloading https://ossci-datasets.s3.amazonaws.com/mnist/train-labels-idx1-ubyte.gz\n",
            "Downloading https://ossci-datasets.s3.amazonaws.com/mnist/train-labels-idx1-ubyte.gz to /content/mnist/test/MNIST/raw/train-labels-idx1-ubyte.gz\n"
          ]
        },
        {
          "output_type": "stream",
          "name": "stderr",
          "text": [
            "100%|██████████| 28881/28881 [00:00<00:00, 487881.84it/s]\n"
          ]
        },
        {
          "output_type": "stream",
          "name": "stdout",
          "text": [
            "Extracting /content/mnist/test/MNIST/raw/train-labels-idx1-ubyte.gz to /content/mnist/test/MNIST/raw\n",
            "\n",
            "Downloading http://yann.lecun.com/exdb/mnist/t10k-images-idx3-ubyte.gz\n",
            "Failed to download (trying next):\n",
            "HTTP Error 403: Forbidden\n",
            "\n",
            "Downloading https://ossci-datasets.s3.amazonaws.com/mnist/t10k-images-idx3-ubyte.gz\n",
            "Downloading https://ossci-datasets.s3.amazonaws.com/mnist/t10k-images-idx3-ubyte.gz to /content/mnist/test/MNIST/raw/t10k-images-idx3-ubyte.gz\n"
          ]
        },
        {
          "output_type": "stream",
          "name": "stderr",
          "text": [
            "100%|██████████| 1648877/1648877 [00:00<00:00, 3898277.59it/s]\n"
          ]
        },
        {
          "output_type": "stream",
          "name": "stdout",
          "text": [
            "Extracting /content/mnist/test/MNIST/raw/t10k-images-idx3-ubyte.gz to /content/mnist/test/MNIST/raw\n",
            "\n",
            "Downloading http://yann.lecun.com/exdb/mnist/t10k-labels-idx1-ubyte.gz\n",
            "Failed to download (trying next):\n",
            "HTTP Error 403: Forbidden\n",
            "\n",
            "Downloading https://ossci-datasets.s3.amazonaws.com/mnist/t10k-labels-idx1-ubyte.gz\n",
            "Downloading https://ossci-datasets.s3.amazonaws.com/mnist/t10k-labels-idx1-ubyte.gz to /content/mnist/test/MNIST/raw/t10k-labels-idx1-ubyte.gz\n"
          ]
        },
        {
          "output_type": "stream",
          "name": "stderr",
          "text": [
            "100%|██████████| 4542/4542 [00:00<00:00, 5193710.13it/s]"
          ]
        },
        {
          "output_type": "stream",
          "name": "stdout",
          "text": [
            "Extracting /content/mnist/test/MNIST/raw/t10k-labels-idx1-ubyte.gz to /content/mnist/test/MNIST/raw\n",
            "\n"
          ]
        },
        {
          "output_type": "stream",
          "name": "stderr",
          "text": [
            "\n"
          ]
        }
      ]
    },
    {
      "cell_type": "code",
      "source": [
        "# Initialing DataLoader for loading dataset in batches\n",
        "# 100 images, batch size =10 then dataloader with iterate 100 images by 10 by 10\n",
        "num_workers = 2\n",
        "train_loader = DataLoader(dataset=train_dataset,batch_size=BATCH_SIZE,num_workers=num_workers,shuffle=True)\n",
        "valid_loader = DataLoader(dataset=valid_dataset,batch_size=BATCH_SIZE,num_workers=num_workers,shuffle=True)\n",
        "test_loader = DataLoader(dataset=test_dataset,batch_size=BATCH_SIZE,num_workers=num_workers,shuffle=True)"
      ],
      "metadata": {
        "id": "7mNUDJwt9CgY"
      },
      "execution_count": 6,
      "outputs": []
    },
    {
      "cell_type": "code",
      "source": [
        "# Checking the dataset\n",
        "print('Training Set:\\n')\n",
        "for images, labels in train_loader:\n",
        "    print('Image batch dimensions:', images.size())\n",
        "    print('Image label dimensions:', labels.size())\n",
        "    print(labels[:10])\n",
        "    break"
      ],
      "metadata": {
        "colab": {
          "base_uri": "https://localhost:8080/"
        },
        "id": "eTQ1N_1OijlL",
        "outputId": "05f97ed8-a4cd-40dc-aee9-ead46841654d"
      },
      "execution_count": 24,
      "outputs": [
        {
          "output_type": "stream",
          "name": "stdout",
          "text": [
            "Training Set:\n",
            "\n",
            "Image batch dimensions: torch.Size([32, 1, 28, 28])\n",
            "Image label dimensions: torch.Size([32])\n",
            "tensor([9, 6, 1, 2, 7, 9, 6, 7, 3, 4])\n"
          ]
        }
      ]
    },
    {
      "cell_type": "markdown",
      "source": [
        "# Autoencoder With Convolution Layers"
      ],
      "metadata": {
        "id": "U94qmZOlWST4"
      }
    },
    {
      "cell_type": "code",
      "source": [
        "class Reshape(nn.Module):\n",
        "    def __init__(self, *args):\n",
        "        super().__init__()\n",
        "        self.shape = args\n",
        "\n",
        "    def forward(self, x):\n",
        "        return x.view(self.shape)\n",
        "\n",
        "\n",
        "class Trim(nn.Module):\n",
        "    def __init__(self, *args):\n",
        "        super().__init__()\n",
        "\n",
        "    def forward(self, x):\n",
        "        return x[:, :, :28, :28]"
      ],
      "metadata": {
        "id": "6Vyy2SwNgVcX"
      },
      "execution_count": 25,
      "outputs": []
    },
    {
      "cell_type": "code",
      "source": [
        "import torch\n",
        "import torch.nn as nn\n",
        "\n",
        "class ConvAutoencoder(nn.Module):\n",
        "    def __init__(self, latent_dim=128):\n",
        "        super(ConvAutoencoder, self).__init__()\n",
        "\n",
        "\n",
        "        self.encoder = nn.Sequential(\n",
        "                nn.Conv2d(1, 32, stride=(1, 1), kernel_size=(3, 3),     padding=1),\n",
        "                nn.LeakyReLU(0.01),\n",
        "                nn.Conv2d(32, 64, stride=(2, 2), kernel_size=(3, 3), padding=1),\n",
        "                nn.LeakyReLU(0.01),\n",
        "                nn.Conv2d(64, 64, stride=(2, 2), kernel_size=(3, 3), padding=1),\n",
        "                nn.LeakyReLU(0.01),\n",
        "                nn.Conv2d(64, 64, stride=(1, 1), kernel_size=(3, 3), padding=1),\n",
        "                nn.Flatten(),\n",
        "                nn.Linear(3136, 2)\n",
        "        )\n",
        "        self.decoder = nn.Sequential(\n",
        "                torch.nn.Linear(2, 3136),\n",
        "                Reshape(-1, 64, 7, 7),\n",
        "                nn.ConvTranspose2d(64, 64, stride=(1, 1), kernel_size=(3, 3), padding=1),\n",
        "                nn.LeakyReLU(0.01),\n",
        "                nn.ConvTranspose2d(64, 64, stride=(2, 2), kernel_size=(3, 3), padding=1),\n",
        "                nn.LeakyReLU(0.01),\n",
        "                nn.ConvTranspose2d(64, 32, stride=(2, 2), kernel_size=(3, 3), padding=0),\n",
        "                nn.LeakyReLU(0.01),\n",
        "                nn.ConvTranspose2d(32, 1, stride=(1, 1), kernel_size=(3, 3), padding=0),\n",
        "                Trim(),  # 1x29x29 -> 1x28x28\n",
        "                nn.Sigmoid()\n",
        "                )\n",
        "    def forward(self, x):\n",
        "        x = self.encoder(x)\n",
        "        x = self.decoder(x)\n",
        "        return x\n",
        "\n",
        "\n",
        "\n",
        "class ConvAutoencoder_2(nn.Module):\n",
        "    def __init__(self, latent_dim=128):\n",
        "        super(ConvAutoencoder_2, self).__init__()\n",
        "        # Encoder\n",
        "        self.encoder_conv = nn.Sequential(\n",
        "            nn.Conv2d(1, 16, kernel_size=3, stride=2, padding=1),  # [batch, 1, 28, 28] -> [batch, 16, 14, 14]\n",
        "            nn.LeakyReLU(0.01),\n",
        "            nn.Conv2d(16, 32, kernel_size=3, stride=2, padding=1), # [batch, 16, 14, 14] -> [batch, 32, 7, 7]\n",
        "            nn.LeakyReLU(0.01),\n",
        "            nn.Conv2d(32, 64, kernel_size=7)  # [batch, 32, 7, 7] -> [batch, 64, 1, 1]\n",
        "        )\n",
        "        self.encoder_fc = nn.Sequential(\n",
        "            nn.Flatten(),\n",
        "            nn.Linear(64*1*1, latent_dim)  # Reduce to latent_dim\n",
        "        )\n",
        "\n",
        "        # Decoder\n",
        "        self.decoder_fc = nn.Sequential(\n",
        "            nn.Linear(latent_dim, 64*1*1),  # Expand from latent_dim\n",
        "            nn.Unflatten(1, (64, 1, 1))\n",
        "        )\n",
        "        self.decoder_conv = nn.Sequential(\n",
        "            nn.ConvTranspose2d(64, 32, kernel_size=7),  # [batch, 64, 1, 1] -> [batch, 32, 7, 7]\n",
        "            nn.LeakyReLU(0.01),\n",
        "            nn.ConvTranspose2d(32, 16, kernel_size=3, stride=2, padding=1, output_padding=1),  # [batch, 32, 7, 7] -> [batch, 16, 14, 14]\n",
        "            nn.LeakyReLU(0.01),\n",
        "            nn.ConvTranspose2d(16, 1, kernel_size=3, stride=2, padding=1, output_padding=1),  # [batch, 16, 14, 14] -> [batch, 1, 28, 28]\n",
        "            nn.Sigmoid()\n",
        "        )\n",
        "\n",
        "    def forward(self, x):\n",
        "        x = self.encoder_conv(x)\n",
        "        x = self.encoder_fc(x)\n",
        "        x = self.decoder_fc(x)\n",
        "        x = self.decoder_conv(x)\n",
        "        return x"
      ],
      "metadata": {
        "id": "-LXkCEAMWgl_"
      },
      "execution_count": 26,
      "outputs": []
    },
    {
      "cell_type": "code",
      "source": [
        "# Example usage\n",
        "latent_dim = 128\n",
        "autoencoder = ConvAutoencoder(latent_dim=latent_dim).to(device)\n",
        "autoencoder_2 = ConvAutoencoder_2(latent_dim=latent_dim).to(device)\n",
        "print(autoencoder)\n",
        "print(autoencoder_2)"
      ],
      "metadata": {
        "colab": {
          "base_uri": "https://localhost:8080/"
        },
        "id": "QVlrwHNsWnho",
        "outputId": "13d9c340-6043-42f0-f766-946408dbad57"
      },
      "execution_count": 27,
      "outputs": [
        {
          "output_type": "stream",
          "name": "stdout",
          "text": [
            "ConvAutoencoder(\n",
            "  (encoder): Sequential(\n",
            "    (0): Conv2d(1, 32, kernel_size=(3, 3), stride=(1, 1), padding=(1, 1))\n",
            "    (1): LeakyReLU(negative_slope=0.01)\n",
            "    (2): Conv2d(32, 64, kernel_size=(3, 3), stride=(2, 2), padding=(1, 1))\n",
            "    (3): LeakyReLU(negative_slope=0.01)\n",
            "    (4): Conv2d(64, 64, kernel_size=(3, 3), stride=(2, 2), padding=(1, 1))\n",
            "    (5): LeakyReLU(negative_slope=0.01)\n",
            "    (6): Conv2d(64, 64, kernel_size=(3, 3), stride=(1, 1), padding=(1, 1))\n",
            "    (7): Flatten(start_dim=1, end_dim=-1)\n",
            "    (8): Linear(in_features=3136, out_features=2, bias=True)\n",
            "  )\n",
            "  (decoder): Sequential(\n",
            "    (0): Linear(in_features=2, out_features=3136, bias=True)\n",
            "    (1): Reshape()\n",
            "    (2): ConvTranspose2d(64, 64, kernel_size=(3, 3), stride=(1, 1), padding=(1, 1))\n",
            "    (3): LeakyReLU(negative_slope=0.01)\n",
            "    (4): ConvTranspose2d(64, 64, kernel_size=(3, 3), stride=(2, 2), padding=(1, 1))\n",
            "    (5): LeakyReLU(negative_slope=0.01)\n",
            "    (6): ConvTranspose2d(64, 32, kernel_size=(3, 3), stride=(2, 2))\n",
            "    (7): LeakyReLU(negative_slope=0.01)\n",
            "    (8): ConvTranspose2d(32, 1, kernel_size=(3, 3), stride=(1, 1))\n",
            "    (9): Trim()\n",
            "    (10): Sigmoid()\n",
            "  )\n",
            ")\n",
            "ConvAutoencoder_2(\n",
            "  (encoder_conv): Sequential(\n",
            "    (0): Conv2d(1, 16, kernel_size=(3, 3), stride=(2, 2), padding=(1, 1))\n",
            "    (1): LeakyReLU(negative_slope=0.01)\n",
            "    (2): Conv2d(16, 32, kernel_size=(3, 3), stride=(2, 2), padding=(1, 1))\n",
            "    (3): LeakyReLU(negative_slope=0.01)\n",
            "    (4): Conv2d(32, 64, kernel_size=(7, 7), stride=(1, 1))\n",
            "  )\n",
            "  (encoder_fc): Sequential(\n",
            "    (0): Flatten(start_dim=1, end_dim=-1)\n",
            "    (1): Linear(in_features=64, out_features=128, bias=True)\n",
            "  )\n",
            "  (decoder_fc): Sequential(\n",
            "    (0): Linear(in_features=128, out_features=64, bias=True)\n",
            "    (1): Unflatten(dim=1, unflattened_size=(64, 1, 1))\n",
            "  )\n",
            "  (decoder_conv): Sequential(\n",
            "    (0): ConvTranspose2d(64, 32, kernel_size=(7, 7), stride=(1, 1))\n",
            "    (1): LeakyReLU(negative_slope=0.01)\n",
            "    (2): ConvTranspose2d(32, 16, kernel_size=(3, 3), stride=(2, 2), padding=(1, 1), output_padding=(1, 1))\n",
            "    (3): LeakyReLU(negative_slope=0.01)\n",
            "    (4): ConvTranspose2d(16, 1, kernel_size=(3, 3), stride=(2, 2), padding=(1, 1), output_padding=(1, 1))\n",
            "    (5): Sigmoid()\n",
            "  )\n",
            ")\n"
          ]
        }
      ]
    },
    {
      "cell_type": "code",
      "source": [
        "loss_function = nn.MSELoss()\n",
        "optimizer = torch.optim.Adam(autoencoder.parameters(), lr=LEARNING_RATE)\n",
        "optimizer_2 = torch.optim.Adam(autoencoder_2.parameters(), lr=LEARNING_RATE)"
      ],
      "metadata": {
        "id": "VuFAnaaCWnkx"
      },
      "execution_count": 28,
      "outputs": []
    },
    {
      "cell_type": "code",
      "source": [
        "def compute_epoch_loss_autoencoder(model, data_loader, loss_fn, device):\n",
        "    model.eval()\n",
        "    curr_loss, num_examples = 0., 0\n",
        "    with torch.no_grad():\n",
        "        for features, _ in data_loader:\n",
        "            features = features.to(device)\n",
        "            logits = model(features)\n",
        "            loss = loss_fn(logits, features, reduction='sum')\n",
        "            num_examples += features.size(0)\n",
        "            curr_loss += loss\n",
        "\n",
        "        curr_loss = curr_loss / num_examples\n",
        "        return curr_loss\n",
        "\n",
        "\n",
        "def train_autoencoder(num_epochs, model, optimizer, device,\n",
        "                               train_loader,loss_fun, valid_loader=None,\n",
        "                                logging_interval=100,\n",
        "                               skip_epoch_stats=False):\n",
        "  log_dict = {'train_loss_per_batch': [],\n",
        "                'train_loss_per_epoch': []}\n",
        "\n",
        "  start_time = time.time()\n",
        "\n",
        "  # Training loop\n",
        "  for epoch in range(NUM_EPOCHS):\n",
        "      model.train()\n",
        "      train_loss = 0.0\n",
        "      for i, (images, _) in enumerate(train_loader):\n",
        "          images = images.to(device)  # Move images to the same device as the model\n",
        "\n",
        "          # Forward pass\n",
        "          reconstructions = model(images)\n",
        "\n",
        "          # Compute the loss\n",
        "          loss = loss_fun(images,reconstructions)\n",
        "\n",
        "          # Backward pass and optimization\n",
        "          optimizer.zero_grad()\n",
        "          loss.backward()\n",
        "          optimizer.step()\n",
        "\n",
        "          # LOGGING\n",
        "          log_dict['train_loss_per_batch'].append(loss.item())\n",
        "\n",
        "          if not i % logging_interval:\n",
        "            print('Epoch: %03d/%03d | Batch %04d/%04d | Loss: %.4f'% (epoch+1, num_epochs, i,\n",
        "                          len(train_loader), loss))\n",
        "\n",
        "\n",
        "\n",
        "      if not skip_epoch_stats:\n",
        "            model.eval()\n",
        "\n",
        "            with torch.set_grad_enabled(False):  # save memory during inference\n",
        "\n",
        "                train_loss = compute_epoch_loss_autoencoder(\n",
        "                    model, train_loader, loss_fun, device)\n",
        "                print('***Epoch: %03d/%03d | Loss: %.3f' % (\n",
        "                      epoch+1, num_epochs, train_loss))\n",
        "                log_dict['train_loss_per_epoch'].append(train_loss.item())\n",
        "\n",
        "      print('Time elapsed: %.2f min' % ((time.time() - start_time)/60))\n",
        "\n",
        "  print('Total Training Time: %.2f min' % ((time.time() - start_time)/60))\n",
        "  if model_path is not None:\n",
        "    torch.save(model.state_dict(), model_path)\n",
        "\n",
        "  return log_dict"
      ],
      "metadata": {
        "id": "wtLcdo3Sig6F"
      },
      "execution_count": 29,
      "outputs": []
    },
    {
      "cell_type": "code",
      "source": [
        "log_dict = train_autoencoder(num_epochs=NUM_EPOCHS, model=autoencoder,\n",
        "                                optimizer=optimizer, device=device,\n",
        "                                train_loader=train_loader,loss_fun=loss_function,\n",
        "                                valid_loader=valid_loader,\n",
        "                                skip_epoch_stats=True,\n",
        "                                logging_interval=250)"
      ],
      "metadata": {
        "colab": {
          "base_uri": "https://localhost:8080/"
        },
        "id": "UA5QIzONWYkZ",
        "outputId": "1af73c29-3dde-4579-be89-3e0e2bd75c1d"
      },
      "execution_count": 30,
      "outputs": [
        {
          "output_type": "stream",
          "name": "stdout",
          "text": [
            "Epoch: 001/050 | Batch 0000/1875 | Loss: 0.2943\n",
            "Epoch: 001/050 | Batch 0250/1875 | Loss: 0.0677\n",
            "Epoch: 001/050 | Batch 0500/1875 | Loss: 0.0461\n",
            "Epoch: 001/050 | Batch 0750/1875 | Loss: 0.0537\n",
            "Epoch: 001/050 | Batch 1000/1875 | Loss: 0.0459\n",
            "Epoch: 001/050 | Batch 1250/1875 | Loss: 0.0501\n",
            "Epoch: 001/050 | Batch 1500/1875 | Loss: 0.0447\n",
            "Epoch: 001/050 | Batch 1750/1875 | Loss: 0.0487\n",
            "Time elapsed: 0.27 min\n",
            "Epoch: 002/050 | Batch 0000/1875 | Loss: 0.0452\n",
            "Epoch: 002/050 | Batch 0250/1875 | Loss: 0.0457\n",
            "Epoch: 002/050 | Batch 0500/1875 | Loss: 0.0526\n",
            "Epoch: 002/050 | Batch 0750/1875 | Loss: 0.0411\n",
            "Epoch: 002/050 | Batch 1000/1875 | Loss: 0.0430\n",
            "Epoch: 002/050 | Batch 1250/1875 | Loss: 0.0471\n",
            "Epoch: 002/050 | Batch 1500/1875 | Loss: 0.0460\n",
            "Epoch: 002/050 | Batch 1750/1875 | Loss: 0.0425\n",
            "Time elapsed: 0.53 min\n",
            "Epoch: 003/050 | Batch 0000/1875 | Loss: 0.0427\n",
            "Epoch: 003/050 | Batch 0250/1875 | Loss: 0.0424\n",
            "Epoch: 003/050 | Batch 0500/1875 | Loss: 0.0429\n",
            "Epoch: 003/050 | Batch 0750/1875 | Loss: 0.0377\n",
            "Epoch: 003/050 | Batch 1000/1875 | Loss: 0.0414\n",
            "Epoch: 003/050 | Batch 1250/1875 | Loss: 0.0388\n",
            "Epoch: 003/050 | Batch 1500/1875 | Loss: 0.0417\n",
            "Epoch: 003/050 | Batch 1750/1875 | Loss: 0.0424\n",
            "Time elapsed: 0.79 min\n",
            "Epoch: 004/050 | Batch 0000/1875 | Loss: 0.0423\n",
            "Epoch: 004/050 | Batch 0250/1875 | Loss: 0.0386\n",
            "Epoch: 004/050 | Batch 0500/1875 | Loss: 0.0406\n",
            "Epoch: 004/050 | Batch 0750/1875 | Loss: 0.0473\n",
            "Epoch: 004/050 | Batch 1000/1875 | Loss: 0.0434\n",
            "Epoch: 004/050 | Batch 1250/1875 | Loss: 0.0459\n",
            "Epoch: 004/050 | Batch 1500/1875 | Loss: 0.0385\n",
            "Epoch: 004/050 | Batch 1750/1875 | Loss: 0.0445\n",
            "Time elapsed: 1.05 min\n",
            "Epoch: 005/050 | Batch 0000/1875 | Loss: 0.0388\n",
            "Epoch: 005/050 | Batch 0250/1875 | Loss: 0.0382\n",
            "Epoch: 005/050 | Batch 0500/1875 | Loss: 0.0412\n",
            "Epoch: 005/050 | Batch 0750/1875 | Loss: 0.0435\n",
            "Epoch: 005/050 | Batch 1000/1875 | Loss: 0.0437\n",
            "Epoch: 005/050 | Batch 1250/1875 | Loss: 0.0381\n",
            "Epoch: 005/050 | Batch 1500/1875 | Loss: 0.0414\n",
            "Epoch: 005/050 | Batch 1750/1875 | Loss: 0.0417\n",
            "Time elapsed: 1.31 min\n",
            "Epoch: 006/050 | Batch 0000/1875 | Loss: 0.0415\n",
            "Epoch: 006/050 | Batch 0250/1875 | Loss: 0.0465\n",
            "Epoch: 006/050 | Batch 0500/1875 | Loss: 0.0407\n",
            "Epoch: 006/050 | Batch 0750/1875 | Loss: 0.0376\n",
            "Epoch: 006/050 | Batch 1000/1875 | Loss: 0.0521\n",
            "Epoch: 006/050 | Batch 1250/1875 | Loss: 0.0346\n",
            "Epoch: 006/050 | Batch 1500/1875 | Loss: 0.0399\n",
            "Epoch: 006/050 | Batch 1750/1875 | Loss: 0.0372\n",
            "Time elapsed: 1.58 min\n",
            "Epoch: 007/050 | Batch 0000/1875 | Loss: 0.0487\n",
            "Epoch: 007/050 | Batch 0250/1875 | Loss: 0.0422\n",
            "Epoch: 007/050 | Batch 0500/1875 | Loss: 0.0449\n",
            "Epoch: 007/050 | Batch 0750/1875 | Loss: 0.0421\n",
            "Epoch: 007/050 | Batch 1000/1875 | Loss: 0.0401\n",
            "Epoch: 007/050 | Batch 1250/1875 | Loss: 0.0366\n",
            "Epoch: 007/050 | Batch 1500/1875 | Loss: 0.0402\n",
            "Epoch: 007/050 | Batch 1750/1875 | Loss: 0.0447\n",
            "Time elapsed: 1.85 min\n",
            "Epoch: 008/050 | Batch 0000/1875 | Loss: 0.0470\n",
            "Epoch: 008/050 | Batch 0250/1875 | Loss: 0.0423\n",
            "Epoch: 008/050 | Batch 0500/1875 | Loss: 0.0506\n",
            "Epoch: 008/050 | Batch 0750/1875 | Loss: 0.0395\n",
            "Epoch: 008/050 | Batch 1000/1875 | Loss: 0.0424\n",
            "Epoch: 008/050 | Batch 1250/1875 | Loss: 0.0359\n",
            "Epoch: 008/050 | Batch 1500/1875 | Loss: 0.0390\n",
            "Epoch: 008/050 | Batch 1750/1875 | Loss: 0.0368\n",
            "Time elapsed: 2.11 min\n",
            "Epoch: 009/050 | Batch 0000/1875 | Loss: 0.0413\n",
            "Epoch: 009/050 | Batch 0250/1875 | Loss: 0.0488\n",
            "Epoch: 009/050 | Batch 0500/1875 | Loss: 0.0372\n",
            "Epoch: 009/050 | Batch 0750/1875 | Loss: 0.0429\n",
            "Epoch: 009/050 | Batch 1000/1875 | Loss: 0.0413\n",
            "Epoch: 009/050 | Batch 1250/1875 | Loss: 0.0413\n",
            "Epoch: 009/050 | Batch 1500/1875 | Loss: 0.0460\n",
            "Epoch: 009/050 | Batch 1750/1875 | Loss: 0.0365\n",
            "Time elapsed: 2.37 min\n",
            "Epoch: 010/050 | Batch 0000/1875 | Loss: 0.0447\n",
            "Epoch: 010/050 | Batch 0250/1875 | Loss: 0.0381\n",
            "Epoch: 010/050 | Batch 0500/1875 | Loss: 0.0418\n",
            "Epoch: 010/050 | Batch 0750/1875 | Loss: 0.0421\n",
            "Epoch: 010/050 | Batch 1000/1875 | Loss: 0.0437\n",
            "Epoch: 010/050 | Batch 1250/1875 | Loss: 0.0414\n",
            "Epoch: 010/050 | Batch 1500/1875 | Loss: 0.0459\n",
            "Epoch: 010/050 | Batch 1750/1875 | Loss: 0.0501\n",
            "Time elapsed: 2.65 min\n",
            "Epoch: 011/050 | Batch 0000/1875 | Loss: 0.0392\n",
            "Epoch: 011/050 | Batch 0250/1875 | Loss: 0.0409\n",
            "Epoch: 011/050 | Batch 0500/1875 | Loss: 0.0411\n",
            "Epoch: 011/050 | Batch 0750/1875 | Loss: 0.0388\n",
            "Epoch: 011/050 | Batch 1000/1875 | Loss: 0.0410\n",
            "Epoch: 011/050 | Batch 1250/1875 | Loss: 0.0453\n",
            "Epoch: 011/050 | Batch 1500/1875 | Loss: 0.0413\n",
            "Epoch: 011/050 | Batch 1750/1875 | Loss: 0.0455\n",
            "Time elapsed: 2.91 min\n",
            "Epoch: 012/050 | Batch 0000/1875 | Loss: 0.0431\n",
            "Epoch: 012/050 | Batch 0250/1875 | Loss: 0.0455\n",
            "Epoch: 012/050 | Batch 0500/1875 | Loss: 0.0392\n",
            "Epoch: 012/050 | Batch 0750/1875 | Loss: 0.0377\n",
            "Epoch: 012/050 | Batch 1000/1875 | Loss: 0.0362\n",
            "Epoch: 012/050 | Batch 1250/1875 | Loss: 0.0330\n",
            "Epoch: 012/050 | Batch 1500/1875 | Loss: 0.0347\n",
            "Epoch: 012/050 | Batch 1750/1875 | Loss: 0.0427\n",
            "Time elapsed: 3.18 min\n",
            "Epoch: 013/050 | Batch 0000/1875 | Loss: 0.0374\n",
            "Epoch: 013/050 | Batch 0250/1875 | Loss: 0.0468\n",
            "Epoch: 013/050 | Batch 0500/1875 | Loss: 0.0406\n",
            "Epoch: 013/050 | Batch 0750/1875 | Loss: 0.0341\n",
            "Epoch: 013/050 | Batch 1000/1875 | Loss: 0.0403\n",
            "Epoch: 013/050 | Batch 1250/1875 | Loss: 0.0428\n",
            "Epoch: 013/050 | Batch 1500/1875 | Loss: 0.0391\n",
            "Epoch: 013/050 | Batch 1750/1875 | Loss: 0.0389\n",
            "Time elapsed: 3.46 min\n",
            "Epoch: 014/050 | Batch 0000/1875 | Loss: 0.0430\n",
            "Epoch: 014/050 | Batch 0250/1875 | Loss: 0.0398\n",
            "Epoch: 014/050 | Batch 0500/1875 | Loss: 0.0415\n",
            "Epoch: 014/050 | Batch 0750/1875 | Loss: 0.0399\n",
            "Epoch: 014/050 | Batch 1000/1875 | Loss: 0.0373\n",
            "Epoch: 014/050 | Batch 1250/1875 | Loss: 0.0358\n",
            "Epoch: 014/050 | Batch 1500/1875 | Loss: 0.0442\n",
            "Epoch: 014/050 | Batch 1750/1875 | Loss: 0.0386\n",
            "Time elapsed: 3.71 min\n",
            "Epoch: 015/050 | Batch 0000/1875 | Loss: 0.0380\n",
            "Epoch: 015/050 | Batch 0250/1875 | Loss: 0.0426\n",
            "Epoch: 015/050 | Batch 0500/1875 | Loss: 0.0411\n",
            "Epoch: 015/050 | Batch 0750/1875 | Loss: 0.0409\n",
            "Epoch: 015/050 | Batch 1000/1875 | Loss: 0.0399\n",
            "Epoch: 015/050 | Batch 1250/1875 | Loss: 0.0403\n",
            "Epoch: 015/050 | Batch 1500/1875 | Loss: 0.0442\n",
            "Epoch: 015/050 | Batch 1750/1875 | Loss: 0.0418\n",
            "Time elapsed: 3.97 min\n",
            "Epoch: 016/050 | Batch 0000/1875 | Loss: 0.0375\n",
            "Epoch: 016/050 | Batch 0250/1875 | Loss: 0.0402\n",
            "Epoch: 016/050 | Batch 0500/1875 | Loss: 0.0399\n",
            "Epoch: 016/050 | Batch 0750/1875 | Loss: 0.0389\n",
            "Epoch: 016/050 | Batch 1000/1875 | Loss: 0.0430\n",
            "Epoch: 016/050 | Batch 1250/1875 | Loss: 0.0384\n",
            "Epoch: 016/050 | Batch 1500/1875 | Loss: 0.0391\n",
            "Epoch: 016/050 | Batch 1750/1875 | Loss: 0.0418\n",
            "Time elapsed: 4.23 min\n",
            "Epoch: 017/050 | Batch 0000/1875 | Loss: 0.0399\n",
            "Epoch: 017/050 | Batch 0250/1875 | Loss: 0.0402\n",
            "Epoch: 017/050 | Batch 0500/1875 | Loss: 0.0385\n",
            "Epoch: 017/050 | Batch 0750/1875 | Loss: 0.0379\n",
            "Epoch: 017/050 | Batch 1000/1875 | Loss: 0.0441\n",
            "Epoch: 017/050 | Batch 1250/1875 | Loss: 0.0386\n",
            "Epoch: 017/050 | Batch 1500/1875 | Loss: 0.0414\n",
            "Epoch: 017/050 | Batch 1750/1875 | Loss: 0.0434\n",
            "Time elapsed: 4.49 min\n",
            "Epoch: 018/050 | Batch 0000/1875 | Loss: 0.0412\n",
            "Epoch: 018/050 | Batch 0250/1875 | Loss: 0.0412\n",
            "Epoch: 018/050 | Batch 0500/1875 | Loss: 0.0360\n",
            "Epoch: 018/050 | Batch 0750/1875 | Loss: 0.0424\n",
            "Epoch: 018/050 | Batch 1000/1875 | Loss: 0.0410\n",
            "Epoch: 018/050 | Batch 1250/1875 | Loss: 0.0358\n",
            "Epoch: 018/050 | Batch 1500/1875 | Loss: 0.0369\n",
            "Epoch: 018/050 | Batch 1750/1875 | Loss: 0.0404\n",
            "Time elapsed: 4.75 min\n",
            "Epoch: 019/050 | Batch 0000/1875 | Loss: 0.0394\n",
            "Epoch: 019/050 | Batch 0250/1875 | Loss: 0.0373\n",
            "Epoch: 019/050 | Batch 0500/1875 | Loss: 0.0418\n",
            "Epoch: 019/050 | Batch 0750/1875 | Loss: 0.0403\n",
            "Epoch: 019/050 | Batch 1000/1875 | Loss: 0.0399\n",
            "Epoch: 019/050 | Batch 1250/1875 | Loss: 0.0422\n",
            "Epoch: 019/050 | Batch 1500/1875 | Loss: 0.0356\n",
            "Epoch: 019/050 | Batch 1750/1875 | Loss: 0.0397\n",
            "Time elapsed: 5.01 min\n",
            "Epoch: 020/050 | Batch 0000/1875 | Loss: 0.0384\n",
            "Epoch: 020/050 | Batch 0250/1875 | Loss: 0.0357\n",
            "Epoch: 020/050 | Batch 0500/1875 | Loss: 0.0398\n",
            "Epoch: 020/050 | Batch 0750/1875 | Loss: 0.0334\n",
            "Epoch: 020/050 | Batch 1000/1875 | Loss: 0.0410\n",
            "Epoch: 020/050 | Batch 1250/1875 | Loss: 0.0302\n",
            "Epoch: 020/050 | Batch 1500/1875 | Loss: 0.0404\n",
            "Epoch: 020/050 | Batch 1750/1875 | Loss: 0.0435\n",
            "Time elapsed: 5.28 min\n",
            "Epoch: 021/050 | Batch 0000/1875 | Loss: 0.0418\n",
            "Epoch: 021/050 | Batch 0250/1875 | Loss: 0.0406\n",
            "Epoch: 021/050 | Batch 0500/1875 | Loss: 0.0419\n",
            "Epoch: 021/050 | Batch 0750/1875 | Loss: 0.0393\n",
            "Epoch: 021/050 | Batch 1000/1875 | Loss: 0.0398\n",
            "Epoch: 021/050 | Batch 1250/1875 | Loss: 0.0387\n",
            "Epoch: 021/050 | Batch 1500/1875 | Loss: 0.0322\n",
            "Epoch: 021/050 | Batch 1750/1875 | Loss: 0.0402\n",
            "Time elapsed: 5.55 min\n",
            "Epoch: 022/050 | Batch 0000/1875 | Loss: 0.0429\n",
            "Epoch: 022/050 | Batch 0250/1875 | Loss: 0.0376\n",
            "Epoch: 022/050 | Batch 0500/1875 | Loss: 0.0341\n",
            "Epoch: 022/050 | Batch 0750/1875 | Loss: 0.0340\n",
            "Epoch: 022/050 | Batch 1000/1875 | Loss: 0.0397\n",
            "Epoch: 022/050 | Batch 1250/1875 | Loss: 0.0402\n",
            "Epoch: 022/050 | Batch 1500/1875 | Loss: 0.0373\n",
            "Epoch: 022/050 | Batch 1750/1875 | Loss: 0.0412\n",
            "Time elapsed: 5.83 min\n",
            "Epoch: 023/050 | Batch 0000/1875 | Loss: 0.0389\n",
            "Epoch: 023/050 | Batch 0250/1875 | Loss: 0.0385\n",
            "Epoch: 023/050 | Batch 0500/1875 | Loss: 0.0441\n",
            "Epoch: 023/050 | Batch 0750/1875 | Loss: 0.0388\n",
            "Epoch: 023/050 | Batch 1000/1875 | Loss: 0.0360\n",
            "Epoch: 023/050 | Batch 1250/1875 | Loss: 0.0354\n",
            "Epoch: 023/050 | Batch 1500/1875 | Loss: 0.0340\n",
            "Epoch: 023/050 | Batch 1750/1875 | Loss: 0.0395\n",
            "Time elapsed: 6.09 min\n",
            "Epoch: 024/050 | Batch 0000/1875 | Loss: 0.0426\n",
            "Epoch: 024/050 | Batch 0250/1875 | Loss: 0.0377\n",
            "Epoch: 024/050 | Batch 0500/1875 | Loss: 0.0452\n",
            "Epoch: 024/050 | Batch 0750/1875 | Loss: 0.0392\n",
            "Epoch: 024/050 | Batch 1000/1875 | Loss: 0.0456\n",
            "Epoch: 024/050 | Batch 1250/1875 | Loss: 0.0406\n",
            "Epoch: 024/050 | Batch 1500/1875 | Loss: 0.0443\n",
            "Epoch: 024/050 | Batch 1750/1875 | Loss: 0.0380\n",
            "Time elapsed: 6.35 min\n",
            "Epoch: 025/050 | Batch 0000/1875 | Loss: 0.0439\n",
            "Epoch: 025/050 | Batch 0250/1875 | Loss: 0.0398\n",
            "Epoch: 025/050 | Batch 0500/1875 | Loss: 0.0357\n",
            "Epoch: 025/050 | Batch 0750/1875 | Loss: 0.0387\n",
            "Epoch: 025/050 | Batch 1000/1875 | Loss: 0.0326\n",
            "Epoch: 025/050 | Batch 1250/1875 | Loss: 0.0383\n",
            "Epoch: 025/050 | Batch 1500/1875 | Loss: 0.0388\n",
            "Epoch: 025/050 | Batch 1750/1875 | Loss: 0.0421\n",
            "Time elapsed: 6.61 min\n",
            "Epoch: 026/050 | Batch 0000/1875 | Loss: 0.0347\n",
            "Epoch: 026/050 | Batch 0250/1875 | Loss: 0.0332\n",
            "Epoch: 026/050 | Batch 0500/1875 | Loss: 0.0367\n",
            "Epoch: 026/050 | Batch 0750/1875 | Loss: 0.0391\n",
            "Epoch: 026/050 | Batch 1000/1875 | Loss: 0.0355\n",
            "Epoch: 026/050 | Batch 1250/1875 | Loss: 0.0390\n",
            "Epoch: 026/050 | Batch 1500/1875 | Loss: 0.0343\n",
            "Epoch: 026/050 | Batch 1750/1875 | Loss: 0.0403\n",
            "Time elapsed: 6.88 min\n",
            "Epoch: 027/050 | Batch 0000/1875 | Loss: 0.0411\n",
            "Epoch: 027/050 | Batch 0250/1875 | Loss: 0.0389\n",
            "Epoch: 027/050 | Batch 0500/1875 | Loss: 0.0398\n",
            "Epoch: 027/050 | Batch 0750/1875 | Loss: 0.0359\n",
            "Epoch: 027/050 | Batch 1000/1875 | Loss: 0.0321\n",
            "Epoch: 027/050 | Batch 1250/1875 | Loss: 0.0364\n",
            "Epoch: 027/050 | Batch 1500/1875 | Loss: 0.0382\n",
            "Epoch: 027/050 | Batch 1750/1875 | Loss: 0.0403\n",
            "Time elapsed: 7.15 min\n",
            "Epoch: 028/050 | Batch 0000/1875 | Loss: 0.0378\n",
            "Epoch: 028/050 | Batch 0250/1875 | Loss: 0.0428\n",
            "Epoch: 028/050 | Batch 0500/1875 | Loss: 0.0441\n",
            "Epoch: 028/050 | Batch 0750/1875 | Loss: 0.0382\n",
            "Epoch: 028/050 | Batch 1000/1875 | Loss: 0.0393\n",
            "Epoch: 028/050 | Batch 1250/1875 | Loss: 0.0307\n",
            "Epoch: 028/050 | Batch 1500/1875 | Loss: 0.0380\n",
            "Epoch: 028/050 | Batch 1750/1875 | Loss: 0.0411\n",
            "Time elapsed: 7.41 min\n",
            "Epoch: 029/050 | Batch 0000/1875 | Loss: 0.0409\n",
            "Epoch: 029/050 | Batch 0250/1875 | Loss: 0.0353\n",
            "Epoch: 029/050 | Batch 0500/1875 | Loss: 0.0379\n",
            "Epoch: 029/050 | Batch 0750/1875 | Loss: 0.0436\n",
            "Epoch: 029/050 | Batch 1000/1875 | Loss: 0.0327\n",
            "Epoch: 029/050 | Batch 1250/1875 | Loss: 0.0378\n",
            "Epoch: 029/050 | Batch 1500/1875 | Loss: 0.0439\n",
            "Epoch: 029/050 | Batch 1750/1875 | Loss: 0.0432\n",
            "Time elapsed: 7.67 min\n",
            "Epoch: 030/050 | Batch 0000/1875 | Loss: 0.0375\n",
            "Epoch: 030/050 | Batch 0250/1875 | Loss: 0.0396\n",
            "Epoch: 030/050 | Batch 0500/1875 | Loss: 0.0455\n",
            "Epoch: 030/050 | Batch 0750/1875 | Loss: 0.0396\n",
            "Epoch: 030/050 | Batch 1000/1875 | Loss: 0.0413\n",
            "Epoch: 030/050 | Batch 1250/1875 | Loss: 0.0357\n",
            "Epoch: 030/050 | Batch 1500/1875 | Loss: 0.0405\n",
            "Epoch: 030/050 | Batch 1750/1875 | Loss: 0.0351\n",
            "Time elapsed: 7.93 min\n",
            "Epoch: 031/050 | Batch 0000/1875 | Loss: 0.0334\n",
            "Epoch: 031/050 | Batch 0250/1875 | Loss: 0.0429\n",
            "Epoch: 031/050 | Batch 0500/1875 | Loss: 0.0415\n",
            "Epoch: 031/050 | Batch 0750/1875 | Loss: 0.0387\n",
            "Epoch: 031/050 | Batch 1000/1875 | Loss: 0.0354\n",
            "Epoch: 031/050 | Batch 1250/1875 | Loss: 0.0430\n",
            "Epoch: 031/050 | Batch 1500/1875 | Loss: 0.0356\n",
            "Epoch: 031/050 | Batch 1750/1875 | Loss: 0.0408\n",
            "Time elapsed: 8.19 min\n",
            "Epoch: 032/050 | Batch 0000/1875 | Loss: 0.0374\n",
            "Epoch: 032/050 | Batch 0250/1875 | Loss: 0.0371\n",
            "Epoch: 032/050 | Batch 0500/1875 | Loss: 0.0344\n",
            "Epoch: 032/050 | Batch 0750/1875 | Loss: 0.0325\n",
            "Epoch: 032/050 | Batch 1000/1875 | Loss: 0.0329\n",
            "Epoch: 032/050 | Batch 1250/1875 | Loss: 0.0395\n",
            "Epoch: 032/050 | Batch 1500/1875 | Loss: 0.0404\n",
            "Epoch: 032/050 | Batch 1750/1875 | Loss: 0.0385\n",
            "Time elapsed: 8.45 min\n",
            "Epoch: 033/050 | Batch 0000/1875 | Loss: 0.0388\n",
            "Epoch: 033/050 | Batch 0250/1875 | Loss: 0.0387\n",
            "Epoch: 033/050 | Batch 0500/1875 | Loss: 0.0365\n",
            "Epoch: 033/050 | Batch 0750/1875 | Loss: 0.0380\n",
            "Epoch: 033/050 | Batch 1000/1875 | Loss: 0.0388\n",
            "Epoch: 033/050 | Batch 1250/1875 | Loss: 0.0356\n",
            "Epoch: 033/050 | Batch 1500/1875 | Loss: 0.0359\n",
            "Epoch: 033/050 | Batch 1750/1875 | Loss: 0.0405\n",
            "Time elapsed: 8.72 min\n",
            "Epoch: 034/050 | Batch 0000/1875 | Loss: 0.0404\n",
            "Epoch: 034/050 | Batch 0250/1875 | Loss: 0.0351\n",
            "Epoch: 034/050 | Batch 0500/1875 | Loss: 0.0352\n",
            "Epoch: 034/050 | Batch 0750/1875 | Loss: 0.0382\n",
            "Epoch: 034/050 | Batch 1000/1875 | Loss: 0.0396\n",
            "Epoch: 034/050 | Batch 1250/1875 | Loss: 0.0409\n",
            "Epoch: 034/050 | Batch 1500/1875 | Loss: 0.0312\n",
            "Epoch: 034/050 | Batch 1750/1875 | Loss: 0.0401\n",
            "Time elapsed: 9.02 min\n",
            "Epoch: 035/050 | Batch 0000/1875 | Loss: 0.0390\n",
            "Epoch: 035/050 | Batch 0250/1875 | Loss: 0.0415\n",
            "Epoch: 035/050 | Batch 0500/1875 | Loss: 0.0390\n",
            "Epoch: 035/050 | Batch 0750/1875 | Loss: 0.0417\n",
            "Epoch: 035/050 | Batch 1000/1875 | Loss: 0.0347\n",
            "Epoch: 035/050 | Batch 1250/1875 | Loss: 0.0407\n",
            "Epoch: 035/050 | Batch 1500/1875 | Loss: 0.0358\n",
            "Epoch: 035/050 | Batch 1750/1875 | Loss: 0.0378\n",
            "Time elapsed: 9.29 min\n",
            "Epoch: 036/050 | Batch 0000/1875 | Loss: 0.0349\n",
            "Epoch: 036/050 | Batch 0250/1875 | Loss: 0.0357\n",
            "Epoch: 036/050 | Batch 0500/1875 | Loss: 0.0395\n",
            "Epoch: 036/050 | Batch 0750/1875 | Loss: 0.0318\n",
            "Epoch: 036/050 | Batch 1000/1875 | Loss: 0.0422\n",
            "Epoch: 036/050 | Batch 1250/1875 | Loss: 0.0403\n",
            "Epoch: 036/050 | Batch 1500/1875 | Loss: 0.0371\n",
            "Epoch: 036/050 | Batch 1750/1875 | Loss: 0.0366\n",
            "Time elapsed: 9.55 min\n",
            "Epoch: 037/050 | Batch 0000/1875 | Loss: 0.0385\n",
            "Epoch: 037/050 | Batch 0250/1875 | Loss: 0.0303\n",
            "Epoch: 037/050 | Batch 0500/1875 | Loss: 0.0354\n",
            "Epoch: 037/050 | Batch 0750/1875 | Loss: 0.0357\n",
            "Epoch: 037/050 | Batch 1000/1875 | Loss: 0.0409\n",
            "Epoch: 037/050 | Batch 1250/1875 | Loss: 0.0396\n",
            "Epoch: 037/050 | Batch 1500/1875 | Loss: 0.0352\n",
            "Epoch: 037/050 | Batch 1750/1875 | Loss: 0.0369\n",
            "Time elapsed: 9.81 min\n",
            "Epoch: 038/050 | Batch 0000/1875 | Loss: 0.0378\n",
            "Epoch: 038/050 | Batch 0250/1875 | Loss: 0.0357\n",
            "Epoch: 038/050 | Batch 0500/1875 | Loss: 0.0332\n",
            "Epoch: 038/050 | Batch 0750/1875 | Loss: 0.0384\n",
            "Epoch: 038/050 | Batch 1000/1875 | Loss: 0.0378\n",
            "Epoch: 038/050 | Batch 1250/1875 | Loss: 0.0432\n",
            "Epoch: 038/050 | Batch 1500/1875 | Loss: 0.0417\n",
            "Epoch: 038/050 | Batch 1750/1875 | Loss: 0.0383\n",
            "Time elapsed: 10.08 min\n",
            "Epoch: 039/050 | Batch 0000/1875 | Loss: 0.0340\n",
            "Epoch: 039/050 | Batch 0250/1875 | Loss: 0.0383\n",
            "Epoch: 039/050 | Batch 0500/1875 | Loss: 0.0443\n",
            "Epoch: 039/050 | Batch 0750/1875 | Loss: 0.0403\n",
            "Epoch: 039/050 | Batch 1000/1875 | Loss: 0.0370\n",
            "Epoch: 039/050 | Batch 1250/1875 | Loss: 0.0341\n",
            "Epoch: 039/050 | Batch 1500/1875 | Loss: 0.0419\n",
            "Epoch: 039/050 | Batch 1750/1875 | Loss: 0.0338\n",
            "Time elapsed: 10.34 min\n",
            "Epoch: 040/050 | Batch 0000/1875 | Loss: 0.0365\n",
            "Epoch: 040/050 | Batch 0250/1875 | Loss: 0.0405\n",
            "Epoch: 040/050 | Batch 0500/1875 | Loss: 0.0399\n",
            "Epoch: 040/050 | Batch 0750/1875 | Loss: 0.0363\n",
            "Epoch: 040/050 | Batch 1000/1875 | Loss: 0.0288\n",
            "Epoch: 040/050 | Batch 1250/1875 | Loss: 0.0353\n",
            "Epoch: 040/050 | Batch 1500/1875 | Loss: 0.0360\n",
            "Epoch: 040/050 | Batch 1750/1875 | Loss: 0.0345\n",
            "Time elapsed: 10.60 min\n",
            "Epoch: 041/050 | Batch 0000/1875 | Loss: 0.0380\n",
            "Epoch: 041/050 | Batch 0250/1875 | Loss: 0.0377\n",
            "Epoch: 041/050 | Batch 0500/1875 | Loss: 0.0363\n",
            "Epoch: 041/050 | Batch 0750/1875 | Loss: 0.0342\n",
            "Epoch: 041/050 | Batch 1000/1875 | Loss: 0.0360\n",
            "Epoch: 041/050 | Batch 1250/1875 | Loss: 0.0362\n",
            "Epoch: 041/050 | Batch 1500/1875 | Loss: 0.0408\n",
            "Epoch: 041/050 | Batch 1750/1875 | Loss: 0.0403\n",
            "Time elapsed: 10.87 min\n",
            "Epoch: 042/050 | Batch 0000/1875 | Loss: 0.0368\n",
            "Epoch: 042/050 | Batch 0250/1875 | Loss: 0.0385\n",
            "Epoch: 042/050 | Batch 0500/1875 | Loss: 0.0362\n",
            "Epoch: 042/050 | Batch 0750/1875 | Loss: 0.0364\n",
            "Epoch: 042/050 | Batch 1000/1875 | Loss: 0.0377\n",
            "Epoch: 042/050 | Batch 1250/1875 | Loss: 0.0347\n",
            "Epoch: 042/050 | Batch 1500/1875 | Loss: 0.0374\n",
            "Epoch: 042/050 | Batch 1750/1875 | Loss: 0.0364\n",
            "Time elapsed: 11.14 min\n",
            "Epoch: 043/050 | Batch 0000/1875 | Loss: 0.0410\n",
            "Epoch: 043/050 | Batch 0250/1875 | Loss: 0.0405\n",
            "Epoch: 043/050 | Batch 0500/1875 | Loss: 0.0396\n",
            "Epoch: 043/050 | Batch 0750/1875 | Loss: 0.0391\n",
            "Epoch: 043/050 | Batch 1000/1875 | Loss: 0.0336\n",
            "Epoch: 043/050 | Batch 1250/1875 | Loss: 0.0377\n",
            "Epoch: 043/050 | Batch 1500/1875 | Loss: 0.0398\n",
            "Epoch: 043/050 | Batch 1750/1875 | Loss: 0.0341\n",
            "Time elapsed: 11.40 min\n",
            "Epoch: 044/050 | Batch 0000/1875 | Loss: 0.0438\n",
            "Epoch: 044/050 | Batch 0250/1875 | Loss: 0.0418\n",
            "Epoch: 044/050 | Batch 0500/1875 | Loss: 0.0347\n",
            "Epoch: 044/050 | Batch 0750/1875 | Loss: 0.0369\n",
            "Epoch: 044/050 | Batch 1000/1875 | Loss: 0.0377\n",
            "Epoch: 044/050 | Batch 1250/1875 | Loss: 0.0392\n",
            "Epoch: 044/050 | Batch 1500/1875 | Loss: 0.0375\n",
            "Epoch: 044/050 | Batch 1750/1875 | Loss: 0.0411\n",
            "Time elapsed: 11.65 min\n",
            "Epoch: 045/050 | Batch 0000/1875 | Loss: 0.0366\n",
            "Epoch: 045/050 | Batch 0250/1875 | Loss: 0.0389\n",
            "Epoch: 045/050 | Batch 0500/1875 | Loss: 0.0417\n",
            "Epoch: 045/050 | Batch 0750/1875 | Loss: 0.0334\n",
            "Epoch: 045/050 | Batch 1000/1875 | Loss: 0.0382\n",
            "Epoch: 045/050 | Batch 1250/1875 | Loss: 0.0421\n",
            "Epoch: 045/050 | Batch 1500/1875 | Loss: 0.0430\n",
            "Epoch: 045/050 | Batch 1750/1875 | Loss: 0.0302\n",
            "Time elapsed: 11.94 min\n",
            "Epoch: 046/050 | Batch 0000/1875 | Loss: 0.0389\n",
            "Epoch: 046/050 | Batch 0250/1875 | Loss: 0.0371\n",
            "Epoch: 046/050 | Batch 0500/1875 | Loss: 0.0422\n",
            "Epoch: 046/050 | Batch 0750/1875 | Loss: 0.0399\n",
            "Epoch: 046/050 | Batch 1000/1875 | Loss: 0.0361\n",
            "Epoch: 046/050 | Batch 1250/1875 | Loss: 0.0331\n",
            "Epoch: 046/050 | Batch 1500/1875 | Loss: 0.0384\n",
            "Epoch: 046/050 | Batch 1750/1875 | Loss: 0.0360\n",
            "Time elapsed: 12.20 min\n",
            "Epoch: 047/050 | Batch 0000/1875 | Loss: 0.0381\n",
            "Epoch: 047/050 | Batch 0250/1875 | Loss: 0.0363\n",
            "Epoch: 047/050 | Batch 0500/1875 | Loss: 0.0360\n",
            "Epoch: 047/050 | Batch 0750/1875 | Loss: 0.0375\n",
            "Epoch: 047/050 | Batch 1000/1875 | Loss: 0.0360\n",
            "Epoch: 047/050 | Batch 1250/1875 | Loss: 0.0420\n",
            "Epoch: 047/050 | Batch 1500/1875 | Loss: 0.0376\n",
            "Epoch: 047/050 | Batch 1750/1875 | Loss: 0.0400\n",
            "Time elapsed: 12.46 min\n",
            "Epoch: 048/050 | Batch 0000/1875 | Loss: 0.0432\n",
            "Epoch: 048/050 | Batch 0250/1875 | Loss: 0.0439\n",
            "Epoch: 048/050 | Batch 0500/1875 | Loss: 0.0440\n",
            "Epoch: 048/050 | Batch 0750/1875 | Loss: 0.0456\n",
            "Epoch: 048/050 | Batch 1000/1875 | Loss: 0.0394\n",
            "Epoch: 048/050 | Batch 1250/1875 | Loss: 0.0378\n",
            "Epoch: 048/050 | Batch 1500/1875 | Loss: 0.0322\n",
            "Epoch: 048/050 | Batch 1750/1875 | Loss: 0.0342\n",
            "Time elapsed: 12.73 min\n",
            "Epoch: 049/050 | Batch 0000/1875 | Loss: 0.0373\n",
            "Epoch: 049/050 | Batch 0250/1875 | Loss: 0.0381\n",
            "Epoch: 049/050 | Batch 0500/1875 | Loss: 0.0386\n",
            "Epoch: 049/050 | Batch 0750/1875 | Loss: 0.0396\n",
            "Epoch: 049/050 | Batch 1000/1875 | Loss: 0.0415\n",
            "Epoch: 049/050 | Batch 1250/1875 | Loss: 0.0370\n",
            "Epoch: 049/050 | Batch 1500/1875 | Loss: 0.0375\n",
            "Epoch: 049/050 | Batch 1750/1875 | Loss: 0.0342\n",
            "Time elapsed: 13.00 min\n",
            "Epoch: 050/050 | Batch 0000/1875 | Loss: 0.0370\n",
            "Epoch: 050/050 | Batch 0250/1875 | Loss: 0.0374\n",
            "Epoch: 050/050 | Batch 0500/1875 | Loss: 0.0335\n",
            "Epoch: 050/050 | Batch 0750/1875 | Loss: 0.0322\n",
            "Epoch: 050/050 | Batch 1000/1875 | Loss: 0.0351\n",
            "Epoch: 050/050 | Batch 1250/1875 | Loss: 0.0341\n",
            "Epoch: 050/050 | Batch 1500/1875 | Loss: 0.0344\n",
            "Epoch: 050/050 | Batch 1750/1875 | Loss: 0.0396\n",
            "Time elapsed: 13.25 min\n",
            "Total Training Time: 13.25 min\n"
          ]
        }
      ]
    },
    {
      "cell_type": "code",
      "source": [
        "def imshow(img, title=None):\n",
        "    npimg = img.numpy()\n",
        "    plt.imshow(np.transpose(npimg, (1, 2, 0)), cmap='gray')\n",
        "    if title is not None:\n",
        "        plt.title(title)\n",
        "    plt.show()\n",
        "\n",
        "def evaluate_model(autoencoder, test_loader, loss_function, device):\n",
        "    autoencoder.eval()\n",
        "    test_loss = 0\n",
        "    with torch.no_grad():\n",
        "        for images, _ in test_loader:\n",
        "            images = images.to(device)\n",
        "            reconstructions = autoencoder(images)\n",
        "            loss = loss_function(reconstructions, images)\n",
        "            test_loss += loss.item()\n",
        "\n",
        "    test_loss /= len(test_loader)\n",
        "    print(f'Test Loss (MSE): {test_loss:.4f}')\n",
        "\n",
        "    # Visualize some of the reconstructed images\n",
        "    dataiter = iter(test_loader)\n",
        "    images, _ = next(dataiter)\n",
        "    images = images.to(device)\n",
        "    with torch.no_grad():\n",
        "        reconstructions = autoencoder(images)\n",
        "\n",
        "    # Move to CPU for visualization\n",
        "    images = images.cpu()\n",
        "    reconstructions = reconstructions.cpu()\n",
        "\n",
        "    # Display the original images\n",
        "    print(\"Original Images\")\n",
        "    imshow(torchvision.utils.make_grid(images))\n",
        "\n",
        "    # Display the reconstructed images\n",
        "    print(\"Reconstructed Images\")\n",
        "    imshow(torchvision.utils.make_grid(reconstructions))\n",
        "\n",
        "# Example usage\n",
        "\n",
        "\n",
        "# Define the path to load the model from Google Drive\n",
        "model_path = '/content/drive/MyDrive/models/Conv_autoencoder.pth'\n",
        "\n",
        "# Create a new instance of the model\n",
        "autoencoder = ConvAutoencoder(latent_dim=latent_dim).to(device)\n",
        "\n",
        "# Load the state dictionary\n",
        "autoencoder.load_state_dict(torch.load(model_path))\n",
        "print(f\"Model state dictionary loaded from {model_path}\")\n",
        "\n",
        "\n",
        "evaluate_model(autoencoder, test_loader, loss_function, device)"
      ],
      "metadata": {
        "colab": {
          "base_uri": "https://localhost:8080/",
          "height": 682
        },
        "id": "6rUIW9JpcefP",
        "outputId": "04477a89-1f68-419a-c0b0-231782d8a6f3"
      },
      "execution_count": 32,
      "outputs": [
        {
          "output_type": "stream",
          "name": "stdout",
          "text": [
            "Model state dictionary loaded from /content/drive/MyDrive/models/Conv_autoencoder.pth\n",
            "Test Loss (MSE): 0.0395\n",
            "Original Images\n"
          ]
        },
        {
          "output_type": "display_data",
          "data": {
            "text/plain": [
              "<Figure size 640x480 with 1 Axes>"
            ],
            "image/png": "[encoded data removed]"
          },
          "metadata": {}
        },
        {
          "output_type": "stream",
          "name": "stdout",
          "text": [
            "Reconstructed Images\n"
          ]
        },
        {
          "output_type": "display_data",
          "data": {
            "text/plain": [
              "<Figure size 640x480 with 1 Axes>"
            ],
            "image/png": "[encoded data removed]"
          },
          "metadata": {}
        }
      ]
    },
    {
      "cell_type": "code",
      "source": [
        "log_dict = train_autoencoder(num_epochs=NUM_EPOCHS, model=autoencoder_2,\n",
        "                                optimizer=optimizer, device=device,\n",
        "                                train_loader=train_loader,loss_fun=loss_function,\n",
        "                                valid_loader=valid_loader,\n",
        "                                skip_epoch_stats=True,\n",
        "                                logging_interval=250)"
      ],
      "metadata": {
        "colab": {
          "base_uri": "https://localhost:8080/"
        },
        "id": "pegqaSNojebg",
        "outputId": "9a534149-b5a6-458f-f991-bb80e2c9a801"
      },
      "execution_count": null,
      "outputs": [
        {
          "output_type": "stream",
          "name": "stderr",
          "text": [
            "/usr/local/lib/python3.10/dist-packages/torch/nn/modules/conv.py:456: UserWarning: Plan failed with a cudnnException: CUDNN_BACKEND_EXECUTION_PLAN_DESCRIPTOR: cudnnFinalize Descriptor Failed cudnn_status: CUDNN_STATUS_NOT_SUPPORTED (Triggered internally at ../aten/src/ATen/native/cudnn/Conv_v8.cpp:919.)\n",
            "  return F.conv2d(input, weight, bias, self.stride,\n",
            "/usr/local/lib/python3.10/dist-packages/torch/autograd/graph.py:744: UserWarning: Plan failed with a cudnnException: CUDNN_BACKEND_EXECUTION_PLAN_DESCRIPTOR: cudnnFinalize Descriptor Failed cudnn_status: CUDNN_STATUS_NOT_SUPPORTED (Triggered internally at ../aten/src/ATen/native/cudnn/Conv_v8.cpp:919.)\n",
            "  return Variable._execution_engine.run_backward(  # Calls into the C++ engine to run the backward pass\n"
          ]
        },
        {
          "output_type": "stream",
          "name": "stdout",
          "text": [
            "Epoch: 001/050 | Batch 0000/1875 | Loss: 0.2014\n",
            "Epoch: 001/050 | Batch 0250/1875 | Loss: 0.1999\n",
            "Epoch: 001/050 | Batch 0500/1875 | Loss: 0.1993\n",
            "Epoch: 001/050 | Batch 0750/1875 | Loss: 0.2000\n",
            "Epoch: 001/050 | Batch 1000/1875 | Loss: 0.1983\n",
            "Epoch: 001/050 | Batch 1250/1875 | Loss: 0.1994\n",
            "Epoch: 001/050 | Batch 1500/1875 | Loss: 0.1999\n",
            "Epoch: 001/050 | Batch 1750/1875 | Loss: 0.1991\n",
            "Time elapsed: 0.24 min\n",
            "Epoch: 002/050 | Batch 0000/1875 | Loss: 0.1989\n",
            "Epoch: 002/050 | Batch 0250/1875 | Loss: 0.1994\n",
            "Epoch: 002/050 | Batch 0500/1875 | Loss: 0.2014\n",
            "Epoch: 002/050 | Batch 0750/1875 | Loss: 0.1986\n",
            "Epoch: 002/050 | Batch 1000/1875 | Loss: 0.1991\n",
            "Epoch: 002/050 | Batch 1250/1875 | Loss: 0.2003\n",
            "Epoch: 002/050 | Batch 1500/1875 | Loss: 0.2004\n",
            "Epoch: 002/050 | Batch 1750/1875 | Loss: 0.2006\n",
            "Time elapsed: 0.47 min\n",
            "Epoch: 003/050 | Batch 0000/1875 | Loss: 0.1994\n",
            "Epoch: 003/050 | Batch 0250/1875 | Loss: 0.1986\n",
            "Epoch: 003/050 | Batch 0500/1875 | Loss: 0.1993\n",
            "Epoch: 003/050 | Batch 0750/1875 | Loss: 0.1992\n",
            "Epoch: 003/050 | Batch 1000/1875 | Loss: 0.1986\n",
            "Epoch: 003/050 | Batch 1250/1875 | Loss: 0.1988\n",
            "Epoch: 003/050 | Batch 1500/1875 | Loss: 0.1990\n",
            "Epoch: 003/050 | Batch 1750/1875 | Loss: 0.1998\n",
            "Time elapsed: 0.71 min\n",
            "Epoch: 004/050 | Batch 0000/1875 | Loss: 0.1990\n",
            "Epoch: 004/050 | Batch 0250/1875 | Loss: 0.1999\n",
            "Epoch: 004/050 | Batch 0500/1875 | Loss: 0.2002\n",
            "Epoch: 004/050 | Batch 0750/1875 | Loss: 0.1995\n",
            "Epoch: 004/050 | Batch 1000/1875 | Loss: 0.1986\n",
            "Epoch: 004/050 | Batch 1250/1875 | Loss: 0.1989\n",
            "Epoch: 004/050 | Batch 1500/1875 | Loss: 0.1986\n",
            "Epoch: 004/050 | Batch 1750/1875 | Loss: 0.1988\n",
            "Time elapsed: 0.97 min\n",
            "Epoch: 005/050 | Batch 0000/1875 | Loss: 0.1991\n",
            "Epoch: 005/050 | Batch 0250/1875 | Loss: 0.1988\n",
            "Epoch: 005/050 | Batch 0500/1875 | Loss: 0.1993\n",
            "Epoch: 005/050 | Batch 0750/1875 | Loss: 0.1996\n",
            "Epoch: 005/050 | Batch 1000/1875 | Loss: 0.1994\n",
            "Epoch: 005/050 | Batch 1250/1875 | Loss: 0.1993\n",
            "Epoch: 005/050 | Batch 1500/1875 | Loss: 0.1994\n",
            "Epoch: 005/050 | Batch 1750/1875 | Loss: 0.2000\n",
            "Time elapsed: 1.21 min\n",
            "Epoch: 006/050 | Batch 0000/1875 | Loss: 0.2001\n",
            "Epoch: 006/050 | Batch 0250/1875 | Loss: 0.2004\n",
            "Epoch: 006/050 | Batch 0500/1875 | Loss: 0.1996\n",
            "Epoch: 006/050 | Batch 0750/1875 | Loss: 0.1995\n",
            "Epoch: 006/050 | Batch 1000/1875 | Loss: 0.1993\n",
            "Epoch: 006/050 | Batch 1250/1875 | Loss: 0.2003\n",
            "Epoch: 006/050 | Batch 1500/1875 | Loss: 0.1985\n",
            "Epoch: 006/050 | Batch 1750/1875 | Loss: 0.1984\n",
            "Time elapsed: 1.45 min\n",
            "Epoch: 007/050 | Batch 0000/1875 | Loss: 0.1992\n",
            "Epoch: 007/050 | Batch 0250/1875 | Loss: 0.2000\n",
            "Epoch: 007/050 | Batch 0500/1875 | Loss: 0.2003\n",
            "Epoch: 007/050 | Batch 0750/1875 | Loss: 0.1992\n",
            "Epoch: 007/050 | Batch 1000/1875 | Loss: 0.1997\n",
            "Epoch: 007/050 | Batch 1250/1875 | Loss: 0.2004\n",
            "Epoch: 007/050 | Batch 1500/1875 | Loss: 0.1989\n",
            "Epoch: 007/050 | Batch 1750/1875 | Loss: 0.2004\n",
            "Time elapsed: 1.68 min\n",
            "Epoch: 008/050 | Batch 0000/1875 | Loss: 0.1999\n",
            "Epoch: 008/050 | Batch 0250/1875 | Loss: 0.1989\n",
            "Epoch: 008/050 | Batch 0500/1875 | Loss: 0.1998\n",
            "Epoch: 008/050 | Batch 0750/1875 | Loss: 0.1998\n",
            "Epoch: 008/050 | Batch 1000/1875 | Loss: 0.1985\n",
            "Epoch: 008/050 | Batch 1250/1875 | Loss: 0.1992\n",
            "Epoch: 008/050 | Batch 1500/1875 | Loss: 0.1985\n",
            "Epoch: 008/050 | Batch 1750/1875 | Loss: 0.1999\n",
            "Time elapsed: 1.92 min\n",
            "Epoch: 009/050 | Batch 0000/1875 | Loss: 0.2002\n",
            "Epoch: 009/050 | Batch 0250/1875 | Loss: 0.1979\n",
            "Epoch: 009/050 | Batch 0500/1875 | Loss: 0.1991\n",
            "Epoch: 009/050 | Batch 0750/1875 | Loss: 0.1998\n",
            "Epoch: 009/050 | Batch 1000/1875 | Loss: 0.1999\n",
            "Epoch: 009/050 | Batch 1250/1875 | Loss: 0.1987\n",
            "Epoch: 009/050 | Batch 1500/1875 | Loss: 0.1999\n",
            "Epoch: 009/050 | Batch 1750/1875 | Loss: 0.1993\n",
            "Time elapsed: 2.16 min\n",
            "Epoch: 010/050 | Batch 0000/1875 | Loss: 0.1990\n",
            "Epoch: 010/050 | Batch 0250/1875 | Loss: 0.1995\n",
            "Epoch: 010/050 | Batch 0500/1875 | Loss: 0.1982\n",
            "Epoch: 010/050 | Batch 0750/1875 | Loss: 0.1999\n",
            "Epoch: 010/050 | Batch 1000/1875 | Loss: 0.2001\n",
            "Epoch: 010/050 | Batch 1250/1875 | Loss: 0.1996\n",
            "Epoch: 010/050 | Batch 1500/1875 | Loss: 0.1999\n",
            "Epoch: 010/050 | Batch 1750/1875 | Loss: 0.1993\n",
            "Time elapsed: 2.39 min\n",
            "Epoch: 011/050 | Batch 0000/1875 | Loss: 0.1985\n",
            "Epoch: 011/050 | Batch 0250/1875 | Loss: 0.1986\n",
            "Epoch: 011/050 | Batch 0500/1875 | Loss: 0.2004\n",
            "Epoch: 011/050 | Batch 0750/1875 | Loss: 0.2012\n",
            "Epoch: 011/050 | Batch 1000/1875 | Loss: 0.1990\n",
            "Epoch: 011/050 | Batch 1250/1875 | Loss: 0.1989\n",
            "Epoch: 011/050 | Batch 1500/1875 | Loss: 0.1994\n"
          ]
        }
      ]
    }
  ]
}